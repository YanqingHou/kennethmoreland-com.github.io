{
 "cells": [
  {
   "cell_type": "markdown",
   "metadata": {},
   "source": [
    "# Viridis Color Map\n",
    "\n",
    "This Jupyter notebook takes a highly detailed list of colors that make up the viridis color map from matplotlib and derives a smaller list of control points that can be interpolated reasonably.\n",
    "\n",
    "This code relies on the [python-colormath](http://python-colormath.readthedocs.org/en/latest/index.html) module. See [its documentation](http://python-colormath.readthedocs.org/en/latest/index.html) for information such as installation instructions. (It can be installed with either pip or macports.)"
   ]
  },
  {
   "cell_type": "code",
   "execution_count": 1,
   "metadata": {},
   "outputs": [],
   "source": [
    "from colormath.color_objects import *\n",
    "from colormath.color_conversions import convert_color"
   ]
  },
  {
   "cell_type": "markdown",
   "metadata": {
    "collapsed": true
   },
   "source": [
    "Mostly because it's habit, I am also using [pandas](http://pandas.pydata.org/) dataframes to organize the data. (Pandas can be installed with macports.)"
   ]
  },
  {
   "cell_type": "code",
   "execution_count": 2,
   "metadata": {},
   "outputs": [],
   "source": [
    "import pandas\n",
    "import numpy"
   ]
  },
  {
   "cell_type": "markdown",
   "metadata": {},
   "source": [
    "We will also be using [toyplot](https://toyplot.readthedocs.org) for making visuals (version 0.10.0 or later required). See its documentation for installation instructions."
   ]
  },
  {
   "cell_type": "code",
   "execution_count": 3,
   "metadata": {},
   "outputs": [],
   "source": [
    "import toyplot\n",
    "import toyplot.svg"
   ]
  },
  {
   "cell_type": "markdown",
   "metadata": {},
   "source": [
    "We will also be importing data in JSON files, so load a package for that."
   ]
  },
  {
   "cell_type": "code",
   "execution_count": 4,
   "metadata": {},
   "outputs": [],
   "source": [
    "import json"
   ]
  },
  {
   "cell_type": "markdown",
   "metadata": {},
   "source": [
    "Load the detailed color table (256 values) from a JSON file exported from ParaView."
   ]
  },
  {
   "cell_type": "code",
   "execution_count": 5,
   "metadata": {},
   "outputs": [],
   "source": [
    "file_descriptor = open('viridis-original.json', 'r')\n",
    "raw_color_data = json.load(file_descriptor)[0]"
   ]
  },
  {
   "cell_type": "markdown",
   "metadata": {},
   "source": [
    "Run through the \"RGBPoints\" array, pull out the scalar interpolant and RGB colors, and create a pandas data frame from them."
   ]
  },
  {
   "cell_type": "code",
   "execution_count": 6,
   "metadata": {},
   "outputs": [],
   "source": [
    "scalar = []\n",
    "rgb_values = []\n",
    "for i in range(0, len(raw_color_data['RGBPoints']), 4):\n",
    "    scalar.append(raw_color_data['RGBPoints'][i+0])\n",
    "    rgb_values.append(sRGBColor(\n",
    "        raw_color_data['RGBPoints'][i+1],\n",
    "        raw_color_data['RGBPoints'][i+2],\n",
    "        raw_color_data['RGBPoints'][i+3]\n",
    "    ))\n",
    "\n",
    "data = pandas.DataFrame({'scalar': scalar, 'rgb_values': rgb_values})"
   ]
  },
  {
   "cell_type": "markdown",
   "metadata": {},
   "source": [
    "Convert RGB colors to Lab colors."
   ]
  },
  {
   "cell_type": "code",
   "execution_count": 7,
   "metadata": {},
   "outputs": [],
   "source": [
    "data['lab_values'] = data['rgb_values'].apply(lambda rgb: convert_color(rgb, LabColor))"
   ]
  },
  {
   "cell_type": "markdown",
   "metadata": {},
   "source": [
    "Make functions that will take a scalar value (in the range of 0 and 1) and return the appropriate RGB triple."
   ]
  },
  {
   "cell_type": "code",
   "execution_count": 8,
   "metadata": {},
   "outputs": [],
   "source": [
    "def color_lookup_sRGBColor(x):\n",
    "    if x < 0:\n",
    "        return sRGBColor(0, 0, 0)\n",
    "    for index in range(0, data.index.size-1):\n",
    "        low_scalar = data['scalar'][index]\n",
    "        high_scalar = data['scalar'][index+1]\n",
    "        if (x > high_scalar):\n",
    "            continue\n",
    "        low_lab = data['lab_values'][index]\n",
    "        high_lab = data['lab_values'][index+1]\n",
    "        interp = (x-low_scalar)/(high_scalar-low_scalar)\n",
    "        mid_lab = LabColor(interp*(high_lab.lab_l-low_lab.lab_l) + low_lab.lab_l,\n",
    "                           interp*(high_lab.lab_a-low_lab.lab_a) + low_lab.lab_a,\n",
    "                           interp*(high_lab.lab_b-low_lab.lab_b) + low_lab.lab_b)\n",
    "        return convert_color(mid_lab, sRGBColor)\n",
    "    return sRGBColor(1, 1, 1)\n",
    "\n",
    "def color_lookup(x):\n",
    "    return color_lookup_sRGBColor(x).get_value_tuple()\n",
    "\n",
    "def color_lookup_upscaled(x):\n",
    "    return color_lookup_sRGBColor(x).get_upscaled_value_tuple()"
   ]
  },
  {
   "cell_type": "markdown",
   "metadata": {},
   "source": [
    "Make a long table of colors. This is a very high resolution table of colors that can be easily trimmed down with regular sampling."
   ]
  },
  {
   "cell_type": "code",
   "execution_count": 9,
   "metadata": {},
   "outputs": [],
   "source": [
    "colors_long = pandas.DataFrame({'scalar': numpy.linspace(0.0, 1.0, num=1024)})\n",
    "colors_long['RGB'] = colors_long['scalar'].apply(color_lookup_upscaled)\n",
    "colors_long['sRGB'] = colors_long['scalar'].apply(color_lookup)"
   ]
  },
  {
   "cell_type": "markdown",
   "metadata": {},
   "source": [
    "The colors are all stored as tuples in a single column. This is convenient for some operations, but not others. Thus, also create separate columns for the three RGB components."
   ]
  },
  {
   "cell_type": "code",
   "execution_count": 10,
   "metadata": {},
   "outputs": [],
   "source": [
    "def unzip_rgb_triple(dataframe, column='RGB'):\n",
    "    '''Given a dataframe and the name of a column holding an RGB triplet,\n",
    "    this function creates new separate columns for the R, G, and B values\n",
    "    with the same name as the original with '_r', '_g', and '_b' appended.'''\n",
    "    # Creates a data frame with separate columns for the triples in the given column\n",
    "    unzipped_rgb = pandas.DataFrame(dataframe[column].values.tolist(),\n",
    "                                    columns=['r', 'g', 'b'])\n",
    "    # Add the columns to the original data frame\n",
    "    dataframe[column + '_r'] = unzipped_rgb['r']\n",
    "    dataframe[column + '_g'] = unzipped_rgb['g']\n",
    "    dataframe[column + '_b'] = unzipped_rgb['b']\n",
    "\n",
    "unzip_rgb_triple(colors_long, 'RGB')\n",
    "unzip_rgb_triple(colors_long, 'sRGB')"
   ]
  },
  {
   "cell_type": "markdown",
   "metadata": {},
   "source": [
    "Make a control points table that is subsampled and reasonable to use to interpolate all points in between."
   ]
  },
  {
   "cell_type": "code",
   "execution_count": 11,
   "metadata": {},
   "outputs": [],
   "source": [
    "table_length = 8\n",
    "control_points = pandas.DataFrame({'scalar': numpy.linspace(0.0, 1.0, num=table_length)})\n",
    "control_points['RGB'] = control_points['scalar'].apply(color_lookup_upscaled)\n",
    "unzip_rgb_triple(control_points, 'RGB')"
   ]
  },
  {
   "cell_type": "markdown",
   "metadata": {},
   "source": [
    "See how far off a simple RGB interpolation would be from the next highest detail."
   ]
  },
  {
   "cell_type": "code",
   "execution_count": 12,
   "metadata": {},
   "outputs": [
    {
     "data": {
      "text/plain": [
       "24.5"
      ]
     },
     "execution_count": 12,
     "metadata": {},
     "output_type": "execute_result"
    }
   ],
   "source": [
    "control_points_compare = pandas.DataFrame({'scalar': numpy.linspace(0.0, 1.0, num=table_length*2-1)})\n",
    "control_points_compare['RGB'] = control_points_compare['scalar'].apply(color_lookup_upscaled)\n",
    "unzip_rgb_triple(control_points_compare, 'RGB')\n",
    "\n",
    "max_error = 0\n",
    "for index in range(0, table_length-1):\n",
    "    for column in ['RGB_r', 'RGB_g', 'RGB_b']:\n",
    "        expected = control_points_compare[column][index*2 + 1]\n",
    "        interp = (control_points[column][index] + control_points[column][index+1])/2\n",
    "        diff = abs(expected - interp)\n",
    "        if (diff > max_error):\n",
    "            max_error = diff\n",
    "            \n",
    "max_error"
   ]
  },
  {
   "cell_type": "markdown",
   "metadata": {},
   "source": [
    "Plot out the color map."
   ]
  },
  {
   "cell_type": "code",
   "execution_count": 13,
   "metadata": {},
   "outputs": [],
   "source": [
    "colors_palette = toyplot.color.Palette(colors=colors_long['sRGB'].values)\n",
    "colors_map = toyplot.color.LinearMap(palette=colors_palette,\n",
    "                                     domain_min=0, domain_max=1)"
   ]
  },
  {
   "cell_type": "code",
   "execution_count": 14,
   "metadata": {},
   "outputs": [
    {
     "data": {
      "text/html": [
       "<div class=\"toyplot\" id=\"t2a647053717540b2972a5672af751365\" style=\"text-align:center\"><svg class=\"toyplot-canvas-Canvas\" height=\"300.0px\" id=\"t6bfe190049b546bd9ef2a38c1d424097\" preserveAspectRatio=\"xMidYMid meet\" style=\"background-color:transparent;fill:rgb(16.1%,15.3%,14.1%);fill-opacity:1.0;font-family:Helvetica;font-size:12px;opacity:1.0;stroke:rgb(16.1%,15.3%,14.1%);stroke-opacity:1.0;stroke-width:1.0\" viewBox=\"0 0 130.0 300.0\" width=\"130.0px\" xmlns=\"http://www.w3.org/2000/svg\" xmlns:toyplot=\"http://www.sandia.gov/toyplot\" xmlns:xlink=\"http://www.w3.org/1999/xlink\"><g class=\"toyplot-coordinates-Numberline\" id=\"t735e55dca3384f7088e1c7438b2206db\"><clipPath id=\"t5c36df26fe12449a8021a68be323cea9\"><rect height=\"60.0\" width=\"286.0\" x=\"0\" y=\"-30.0\"></rect></clipPath><g clip-path=\"url(#t5c36df26fe12449a8021a68be323cea9)\" transform=\"translate(16.0,293.0)rotate(-90.0)\"><g class=\"toyplot-color-Map\" id=\"td1672406c64048e1b2ebc559f0e92375\"><defs><linearGradient gradientUnits=\"userSpaceOnUse\" id=\"t5a9a46dd637e4cdabd3dc441df1b75d0\" x1=\"0.0\" x2=\"286.0\" y1=\"0\" y2=\"0\"><stop offset=\"0.0\" stop-color=\"rgb(28.2%,0%,33.1%)\" stop-opacity=\"1.0\"></stop><stop offset=\"0.015873015873015872\" stop-color=\"rgb(29%,0.29%,35.5%)\" stop-opacity=\"1.0\"></stop><stop offset=\"0.031746031746031744\" stop-color=\"rgb(29.7%,2.63%,37.8%)\" stop-opacity=\"1.0\"></stop><stop offset=\"0.047619047619047616\" stop-color=\"rgb(30.3%,5.39%,40%)\" stop-opacity=\"1.0\"></stop><stop offset=\"0.06349206349206349\" stop-color=\"rgb(30.7%,7.87%,42%)\" stop-opacity=\"1.0\"></stop><stop offset=\"0.07936507936507936\" stop-color=\"rgb(31%,10.2%,43.9%)\" stop-opacity=\"1.0\"></stop><stop offset=\"0.09523809523809523\" stop-color=\"rgb(31.2%,12.4%,45.6%)\" stop-opacity=\"1.0\"></stop><stop offset=\"0.1111111111111111\" stop-color=\"rgb(31.3%,14.5%,47.2%)\" stop-opacity=\"1.0\"></stop><stop offset=\"0.12698412698412698\" stop-color=\"rgb(31.3%,16.6%,48.6%)\" stop-opacity=\"1.0\"></stop><stop offset=\"0.14285714285714285\" stop-color=\"rgb(31.1%,18.7%,49.9%)\" stop-opacity=\"1.0\"></stop><stop offset=\"0.15873015873015872\" stop-color=\"rgb(30.8%,20.7%,51%)\" stop-opacity=\"1.0\"></stop><stop offset=\"0.1746031746031746\" stop-color=\"rgb(30.5%,22.7%,51.9%)\" stop-opacity=\"1.0\"></stop><stop offset=\"0.19047619047619047\" stop-color=\"rgb(30%,24.6%,52.7%)\" stop-opacity=\"1.0\"></stop><stop offset=\"0.20634920634920634\" stop-color=\"rgb(29.5%,26.5%,53.4%)\" stop-opacity=\"1.0\"></stop><stop offset=\"0.2222222222222222\" stop-color=\"rgb(28.9%,28.4%,54%)\" stop-opacity=\"1.0\"></stop><stop offset=\"0.23809523809523808\" stop-color=\"rgb(28.3%,30.2%,54.4%)\" stop-opacity=\"1.0\"></stop><stop offset=\"0.25396825396825395\" stop-color=\"rgb(27.7%,32%,54.8%)\" stop-opacity=\"1.0\"></stop><stop offset=\"0.2698412698412698\" stop-color=\"rgb(27%,33.8%,55.1%)\" stop-opacity=\"1.0\"></stop><stop offset=\"0.2857142857142857\" stop-color=\"rgb(26.3%,35.5%,55.3%)\" stop-opacity=\"1.0\"></stop><stop offset=\"0.30158730158730157\" stop-color=\"rgb(25.7%,37.2%,55.5%)\" stop-opacity=\"1.0\"></stop><stop offset=\"0.31746031746031744\" stop-color=\"rgb(25%,38.8%,55.6%)\" stop-opacity=\"1.0\"></stop><stop offset=\"0.3333333333333333\" stop-color=\"rgb(24.3%,40.4%,55.7%)\" stop-opacity=\"1.0\"></stop><stop offset=\"0.3492063492063492\" stop-color=\"rgb(23.7%,42%,55.8%)\" stop-opacity=\"1.0\"></stop><stop offset=\"0.36507936507936506\" stop-color=\"rgb(23%,43.6%,55.8%)\" stop-opacity=\"1.0\"></stop><stop offset=\"0.38095238095238093\" stop-color=\"rgb(22.3%,45.1%,55.9%)\" stop-opacity=\"1.0\"></stop><stop offset=\"0.3968253968253968\" stop-color=\"rgb(21.7%,46.7%,55.9%)\" stop-opacity=\"1.0\"></stop><stop offset=\"0.4126984126984127\" stop-color=\"rgb(21%,48.2%,55.8%)\" stop-opacity=\"1.0\"></stop><stop offset=\"0.42857142857142855\" stop-color=\"rgb(20.3%,49.7%,55.8%)\" stop-opacity=\"1.0\"></stop><stop offset=\"0.4444444444444444\" stop-color=\"rgb(19.6%,51.3%,55.7%)\" stop-opacity=\"1.0\"></stop><stop offset=\"0.4603174603174603\" stop-color=\"rgb(18.8%,52.8%,55.6%)\" stop-opacity=\"1.0\"></stop><stop offset=\"0.47619047619047616\" stop-color=\"rgb(18%,54.3%,55.4%)\" stop-opacity=\"1.0\"></stop><stop offset=\"0.4920634920634921\" stop-color=\"rgb(17.2%,55.8%,55.2%)\" stop-opacity=\"1.0\"></stop><stop offset=\"0.5079365079365079\" stop-color=\"rgb(16.3%,57.3%,54.9%)\" stop-opacity=\"1.0\"></stop><stop offset=\"0.5238095238095237\" stop-color=\"rgb(15.5%,58.9%,54.5%)\" stop-opacity=\"1.0\"></stop><stop offset=\"0.5396825396825397\" stop-color=\"rgb(14.6%,60.4%,54.1%)\" stop-opacity=\"1.0\"></stop><stop offset=\"0.5555555555555556\" stop-color=\"rgb(13.8%,61.9%,53.5%)\" stop-opacity=\"1.0\"></stop><stop offset=\"0.5714285714285714\" stop-color=\"rgb(13.2%,63.4%,52.9%)\" stop-opacity=\"1.0\"></stop><stop offset=\"0.5873015873015872\" stop-color=\"rgb(12.7%,64.9%,52.2%)\" stop-opacity=\"1.0\"></stop><stop offset=\"0.6031746031746031\" stop-color=\"rgb(12.6%,66.4%,51.4%)\" stop-opacity=\"1.0\"></stop><stop offset=\"0.6190476190476191\" stop-color=\"rgb(12.9%,67.9%,50.4%)\" stop-opacity=\"1.0\"></stop><stop offset=\"0.6349206349206349\" stop-color=\"rgb(13.7%,69.4%,49.4%)\" stop-opacity=\"1.0\"></stop><stop offset=\"0.6507936507936507\" stop-color=\"rgb(14.9%,70.8%,48.2%)\" stop-opacity=\"1.0\"></stop><stop offset=\"0.6666666666666666\" stop-color=\"rgb(16.6%,72.2%,46.9%)\" stop-opacity=\"1.0\"></stop><stop offset=\"0.6825396825396826\" stop-color=\"rgb(18.8%,73.6%,45.5%)\" stop-opacity=\"1.0\"></stop><stop offset=\"0.6984126984126984\" stop-color=\"rgb(21.3%,75%,43.9%)\" stop-opacity=\"1.0\"></stop><stop offset=\"0.7142857142857142\" stop-color=\"rgb(24.1%,76.3%,42.2%)\" stop-opacity=\"1.0\"></stop><stop offset=\"0.7301587301587301\" stop-color=\"rgb(27.1%,77.6%,40.4%)\" stop-opacity=\"1.0\"></stop><stop offset=\"0.746031746031746\" stop-color=\"rgb(30.4%,78.9%,38.4%)\" stop-opacity=\"1.0\"></stop><stop offset=\"0.7619047619047619\" stop-color=\"rgb(33.9%,80.1%,36.3%)\" stop-opacity=\"1.0\"></stop><stop offset=\"0.7777777777777777\" stop-color=\"rgb(37.5%,81.2%,34.1%)\" stop-opacity=\"1.0\"></stop><stop offset=\"0.7936507936507936\" stop-color=\"rgb(41.3%,82.3%,31.7%)\" stop-opacity=\"1.0\"></stop><stop offset=\"0.8095238095238095\" stop-color=\"rgb(45.2%,83.3%,29.2%)\" stop-opacity=\"1.0\"></stop><stop offset=\"0.8253968253968254\" stop-color=\"rgb(49.2%,84.3%,26.5%)\" stop-opacity=\"1.0\"></stop><stop offset=\"0.8412698412698412\" stop-color=\"rgb(53.4%,85.2%,23.7%)\" stop-opacity=\"1.0\"></stop><stop offset=\"0.8571428571428571\" stop-color=\"rgb(57.6%,86%,20.7%)\" stop-opacity=\"1.0\"></stop><stop offset=\"0.873015873015873\" stop-color=\"rgb(61.9%,86.8%,17.6%)\" stop-opacity=\"1.0\"></stop><stop offset=\"0.8888888888888888\" stop-color=\"rgb(66.2%,87.5%,14.4%)\" stop-opacity=\"1.0\"></stop><stop offset=\"0.9047619047619048\" stop-color=\"rgb(70.5%,88.1%,11.1%)\" stop-opacity=\"1.0\"></stop><stop offset=\"0.9206349206349206\" stop-color=\"rgb(74.8%,88.7%,7.78%)\" stop-opacity=\"1.0\"></stop><stop offset=\"0.9365079365079364\" stop-color=\"rgb(79.1%,89.2%,4.86%)\" stop-opacity=\"1.0\"></stop><stop offset=\"0.9523809523809523\" stop-color=\"rgb(83.3%,89.7%,3.38%)\" stop-opacity=\"1.0\"></stop><stop offset=\"0.9682539682539681\" stop-color=\"rgb(87.4%,90.2%,4.45%)\" stop-opacity=\"1.0\"></stop><stop offset=\"0.9841269841269842\" stop-color=\"rgb(91.4%,90.7%,7.42%)\" stop-opacity=\"1.0\"></stop><stop offset=\"1.0\" stop-color=\"rgb(95.3%,91.3%,11.1%)\" stop-opacity=\"1.0\"></stop></linearGradient></defs><rect height=\"30\" style=\"fill:url(#t5a9a46dd637e4cdabd3dc441df1b75d0);stroke:rgb(82.7%,82.7%,82.7%);stroke-opacity:1.0;stroke-width:1.0\" width=\"286.0\" x=\"0.0\" y=\"-15.0\"></rect></g></g><g class=\"toyplot-coordinates-Axis\" id=\"te0e491bccf554a198410f3d2131532ac\" transform=\"translate(16.0,293.0)rotate(-90.0)translate(0,30.0)\"><g><g transform=\"translate(0.0,6)rotate(90)\"><text style=\"fill:rgb(16.1%,15.3%,14.1%);fill-opacity:1.0;font-family:helvetica;font-size:10.0px;font-weight:normal;stroke:none;vertical-align:baseline;white-space:pre\" x=\"-15.0\" y=\"2.5549999999999997\">0.00, (72, 0, 84)</text></g><g transform=\"translate(40.857142857142854,6)rotate(90)\"><text style=\"fill:rgb(16.1%,15.3%,14.1%);fill-opacity:1.0;font-family:helvetica;font-size:10.0px;font-weight:normal;stroke:none;vertical-align:baseline;white-space:pre\" x=\"-15.0\" y=\"2.5549999999999997\">0.14, (79, 48, 127)</text></g><g transform=\"translate(81.71428571428571,6)rotate(90)\"><text style=\"fill:rgb(16.1%,15.3%,14.1%);fill-opacity:1.0;font-family:helvetica;font-size:10.0px;font-weight:normal;stroke:none;vertical-align:baseline;white-space:pre\" x=\"-15.0\" y=\"2.5549999999999997\">0.29, (67, 91, 141)</text></g><g transform=\"translate(122.57142857142857,6)rotate(90)\"><text style=\"fill:rgb(16.1%,15.3%,14.1%);fill-opacity:1.0;font-family:helvetica;font-size:10.0px;font-weight:normal;stroke:none;vertical-align:baseline;white-space:pre\" x=\"-15.0\" y=\"2.5549999999999997\">0.43, (52, 127, 142)</text></g><g transform=\"translate(163.42857142857142,6)rotate(90)\"><text style=\"fill:rgb(16.1%,15.3%,14.1%);fill-opacity:1.0;font-family:helvetica;font-size:10.0px;font-weight:normal;stroke:none;vertical-align:baseline;white-space:pre\" x=\"-15.0\" y=\"2.5549999999999997\">0.57, (34, 162, 135)</text></g><g transform=\"translate(204.28571428571425,6)rotate(90)\"><text style=\"fill:rgb(16.1%,15.3%,14.1%);fill-opacity:1.0;font-family:helvetica;font-size:10.0px;font-weight:normal;stroke:none;vertical-align:baseline;white-space:pre\" x=\"-15.0\" y=\"2.5549999999999997\">0.71, (61, 195, 108)</text></g><g transform=\"translate(245.14285714285714,6)rotate(90)\"><text style=\"fill:rgb(16.1%,15.3%,14.1%);fill-opacity:1.0;font-family:helvetica;font-size:10.0px;font-weight:normal;stroke:none;vertical-align:baseline;white-space:pre\" x=\"-15.0\" y=\"2.5549999999999997\">0.86, (147, 219, 53)</text></g><g transform=\"translate(286.0,6)rotate(90)\"><text style=\"fill:rgb(16.1%,15.3%,14.1%);fill-opacity:1.0;font-family:helvetica;font-size:10.0px;font-weight:normal;stroke:none;vertical-align:baseline;white-space:pre\" x=\"-15.0\" y=\"2.5549999999999997\">1.00, (243, 233, 28)</text></g></g><g class=\"toyplot-coordinates-Axis-coordinates\" style=\"visibility:hidden\" transform=\"\"><line style=\"stroke:rgb(43.9%,50.2%,56.5%);stroke-opacity:1.0;stroke-width:1.0\" x1=\"0\" x2=\"0\" y1=\"-3.0\" y2=\"4.5\"></line><text style=\"alignment-baseline:alphabetic;fill:rgb(43.9%,50.2%,56.5%);fill-opacity:1.0;font-size:10px;font-weight:normal;stroke:none;text-anchor:middle\" x=\"0\" y=\"-6\"></text></g></g></g></svg><div class=\"toyplot-behavior\"><script>(function()\n",
       "{\n",
       "var modules={};\n",
       "modules[\"toyplot/canvas/id\"] = \"t6bfe190049b546bd9ef2a38c1d424097\";\n",
       "modules[\"toyplot/canvas\"] = (function(canvas_id)\n",
       "    {\n",
       "        return document.querySelector(\"#\" + canvas_id);\n",
       "    })(modules[\"toyplot/canvas/id\"]);\n",
       "modules[\"toyplot.coordinates.Axis\"] = (\n",
       "        function(canvas)\n",
       "        {\n",
       "            function sign(x)\n",
       "            {\n",
       "                return x < 0 ? -1 : x > 0 ? 1 : 0;\n",
       "            }\n",
       "\n",
       "            function mix(a, b, amount)\n",
       "            {\n",
       "                return ((1.0 - amount) * a) + (amount * b);\n",
       "            }\n",
       "\n",
       "            function log(x, base)\n",
       "            {\n",
       "                return Math.log(Math.abs(x)) / Math.log(base);\n",
       "            }\n",
       "\n",
       "            function in_range(a, x, b)\n",
       "            {\n",
       "                var left = Math.min(a, b);\n",
       "                var right = Math.max(a, b);\n",
       "                return left <= x && x <= right;\n",
       "            }\n",
       "\n",
       "            function inside(range, projection)\n",
       "            {\n",
       "                for(var i = 0; i != projection.length; ++i)\n",
       "                {\n",
       "                    var segment = projection[i];\n",
       "                    if(in_range(segment.range.min, range, segment.range.max))\n",
       "                        return true;\n",
       "                }\n",
       "                return false;\n",
       "            }\n",
       "\n",
       "            function to_domain(range, projection)\n",
       "            {\n",
       "                for(var i = 0; i != projection.length; ++i)\n",
       "                {\n",
       "                    var segment = projection[i];\n",
       "                    if(in_range(segment.range.bounds.min, range, segment.range.bounds.max))\n",
       "                    {\n",
       "                        if(segment.scale == \"linear\")\n",
       "                        {\n",
       "                            var amount = (range - segment.range.min) / (segment.range.max - segment.range.min);\n",
       "                            return mix(segment.domain.min, segment.domain.max, amount)\n",
       "                        }\n",
       "                        else if(segment.scale[0] == \"log\")\n",
       "                        {\n",
       "                            var amount = (range - segment.range.min) / (segment.range.max - segment.range.min);\n",
       "                            var base = segment.scale[1];\n",
       "                            return sign(segment.domain.min) * Math.pow(base, mix(log(segment.domain.min, base), log(segment.domain.max, base), amount));\n",
       "                        }\n",
       "                    }\n",
       "                }\n",
       "            }\n",
       "\n",
       "            var axes = {};\n",
       "\n",
       "            function display_coordinates(e)\n",
       "            {\n",
       "                var current = canvas.createSVGPoint();\n",
       "                current.x = e.clientX;\n",
       "                current.y = e.clientY;\n",
       "\n",
       "                for(var axis_id in axes)\n",
       "                {\n",
       "                    var axis = document.querySelector(\"#\" + axis_id);\n",
       "                    var coordinates = axis.querySelector(\".toyplot-coordinates-Axis-coordinates\");\n",
       "                    if(coordinates)\n",
       "                    {\n",
       "                        var projection = axes[axis_id];\n",
       "                        var local = current.matrixTransform(axis.getScreenCTM().inverse());\n",
       "                        if(inside(local.x, projection))\n",
       "                        {\n",
       "                            var domain = to_domain(local.x, projection);\n",
       "                            coordinates.style.visibility = \"visible\";\n",
       "                            coordinates.setAttribute(\"transform\", \"translate(\" + local.x + \")\");\n",
       "                            var text = coordinates.querySelector(\"text\");\n",
       "                            text.textContent = domain.toFixed(2);\n",
       "                        }\n",
       "                        else\n",
       "                        {\n",
       "                            coordinates.style.visibility= \"hidden\";\n",
       "                        }\n",
       "                    }\n",
       "                }\n",
       "            }\n",
       "\n",
       "            canvas.addEventListener(\"click\", display_coordinates);\n",
       "\n",
       "            var module = {};\n",
       "            module.show_coordinates = function(axis_id, projection)\n",
       "            {\n",
       "                axes[axis_id] = projection;\n",
       "            }\n",
       "\n",
       "            return module;\n",
       "        })(modules[\"toyplot/canvas\"]);\n",
       "(function(axis, axis_id, projection)\n",
       "        {\n",
       "            axis.show_coordinates(axis_id, projection);\n",
       "        })(modules[\"toyplot.coordinates.Axis\"],\"te0e491bccf554a198410f3d2131532ac\",[{\"domain\": {\"bounds\": {\"max\": Infinity, \"min\": -Infinity}, \"max\": 1.0, \"min\": 0.0}, \"range\": {\"bounds\": {\"max\": Infinity, \"min\": -Infinity}, \"max\": 286.0, \"min\": 0.0}, \"scale\": \"linear\"}]);\n",
       "})();</script></div></div>"
      ]
     },
     "metadata": {},
     "output_type": "display_data"
    }
   ],
   "source": [
    "canvas = toyplot.Canvas(width=130, height=300)\n",
    "numberline = canvas.numberline(x1=16, x2=16, y1=-7, y2=7)\n",
    "numberline.padding = 30\n",
    "numberline.axis.spine.show = False\n",
    "numberline.colormap(colors_map,\n",
    "                    width=30,\n",
    "                    style={'stroke':'lightgrey'})\n",
    "\n",
    "control_point_labels = \\\n",
    "    control_points.apply(lambda row: '%1.2f, %s' % (row['scalar'],\n",
    "                                                  str(row['RGB'])),\n",
    "                       axis=1)\n",
    "numberline.axis.ticks.locator = \\\n",
    "    toyplot.locator.Explicit(locations=control_points['scalar'],\n",
    "                             labels=control_point_labels)\n",
    "numberline.axis.ticks.labels.angle = -90\n",
    "numberline.axis.ticks.labels.style = {'text-anchor':'start',\n",
    "                                      'baseline-shift':'0%',\n",
    "                                      '-toyplot-anchor-shift':'-15px'}"
   ]
  },
  {
   "cell_type": "code",
   "execution_count": 15,
   "metadata": {},
   "outputs": [],
   "source": [
    "toyplot.svg.render(canvas, 'viridis.svg')"
   ]
  },
  {
   "cell_type": "markdown",
   "metadata": {},
   "source": [
    "Create several csv files containing color tables for this color map. We will create color tables of many different sizes from 8 rows to 1024. We also write out one set of csv files for \"upscaled\" color bytes (values 0-255) and another for floating point numbers (0-1)."
   ]
  },
  {
   "cell_type": "code",
   "execution_count": 16,
   "metadata": {},
   "outputs": [],
   "source": [
    "for num_bits in range(3, 11):\n",
    "    table_length = 2 ** num_bits\n",
    "    color_table = pandas.DataFrame({'scalar': numpy.linspace(0.0, 1.0, num=table_length)})\n",
    "    color_table['RGB'] = color_table['scalar'].apply(color_lookup_upscaled)\n",
    "    unzip_rgb_triple(color_table, 'RGB')\n",
    "    color_table.to_csv('viridis-table-byte-{:04}.csv'.format(table_length),\n",
    "                       index=False,\n",
    "                       columns=['scalar', 'RGB_r', 'RGB_g', 'RGB_b'])\n",
    "    color_table['sRGB'] = color_table['scalar'].apply(color_lookup)\n",
    "    unzip_rgb_triple(color_table, 'sRGB')\n",
    "    color_table.to_csv('viridis-table-float-{:04}.csv'.format(table_length),\n",
    "                       index=False,\n",
    "                       columns=['scalar', 'sRGB_r', 'sRGB_g', 'sRGB_b'],\n",
    "                       header=['scalar', 'RGB_r', 'RGB_g', 'RGB_b'])"
   ]
  },
  {
   "cell_type": "code",
   "execution_count": null,
   "metadata": {},
   "outputs": [],
   "source": []
  }
 ],
 "metadata": {
  "kernelspec": {
   "display_name": "Python 3",
   "language": "python",
   "name": "python3"
  },
  "language_info": {
   "codemirror_mode": {
    "name": "ipython",
    "version": 3
   },
   "file_extension": ".py",
   "mimetype": "text/x-python",
   "name": "python",
   "nbconvert_exporter": "python",
   "pygments_lexer": "ipython3",
   "version": "3.7.0"
  }
 },
 "nbformat": 4,
 "nbformat_minor": 2
}
