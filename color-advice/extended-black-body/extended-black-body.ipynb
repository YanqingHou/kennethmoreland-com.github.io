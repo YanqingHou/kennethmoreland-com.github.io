{
 "cells": [
  {
   "cell_type": "markdown",
   "metadata": {},
   "source": [
    "# Extended Black Body Radiation Color Map"
   ]
  },
  {
   "cell_type": "markdown",
   "metadata": {},
   "source": [
    "This iPython notebook contains the script required to derive a nice color map based on the colors of black body radiation with some blue and purple hues thrown in at the lower end to add some \"color.\" The color map is similar to the default colors used in gnuplot. Colors of the desired brightness and hue are chosen, and then the colors are adjusted such that the luminance is perceptually linear (according to the CIELAB color space)."
   ]
  },
  {
   "cell_type": "markdown",
   "metadata": {},
   "source": [
    "This code relies on the [python-colormath](http://python-colormath.readthedocs.org/en/latest/index.html) module. See [its documentation](http://python-colormath.readthedocs.org/en/latest/index.html) for information such as installation instructions. (It can be installed with either pip or macports.)"
   ]
  },
  {
   "cell_type": "code",
   "execution_count": 1,
   "metadata": {
    "collapsed": false
   },
   "outputs": [],
   "source": [
    "from colormath.color_objects import *\n",
    "from colormath.color_conversions import convert_color"
   ]
  },
  {
   "cell_type": "markdown",
   "metadata": {},
   "source": [
    "Mostly because it's habit, I am also using [pandas](http://pandas.pydata.org/) dataframes to organize the data. (Pandas can be installed with macports.)"
   ]
  },
  {
   "cell_type": "code",
   "execution_count": 2,
   "metadata": {
    "collapsed": true
   },
   "outputs": [],
   "source": [
    "import pandas\n",
    "import numpy"
   ]
  },
  {
   "cell_type": "markdown",
   "metadata": {},
   "source": [
    "We will also be using [toyplot](https://toyplot.readthedocs.org) for making visuals (version 0.10.0 or later required). See its documentation for installation instructions."
   ]
  },
  {
   "cell_type": "code",
   "execution_count": 3,
   "metadata": {
    "collapsed": false
   },
   "outputs": [],
   "source": [
    "import toyplot\n",
    "import toyplot.svg"
   ]
  },
  {
   "cell_type": "markdown",
   "metadata": {},
   "source": [
    "This color map goes from black to blue to purple to red to orange to yellow to white. Create color objects for these control points."
   ]
  },
  {
   "cell_type": "code",
   "execution_count": 4,
   "metadata": {
    "collapsed": false
   },
   "outputs": [
    {
     "data": {
      "text/html": [
       "<div>\n",
       "<table border=\"1\" class=\"dataframe\">\n",
       "  <thead>\n",
       "    <tr style=\"text-align: right;\">\n",
       "      <th></th>\n",
       "      <th>RGB</th>\n",
       "    </tr>\n",
       "  </thead>\n",
       "  <tbody>\n",
       "    <tr>\n",
       "      <th>0</th>\n",
       "      <td>(0, 0, 0)</td>\n",
       "    </tr>\n",
       "    <tr>\n",
       "      <th>1</th>\n",
       "      <td>(0, 24, 168)</td>\n",
       "    </tr>\n",
       "    <tr>\n",
       "      <th>2</th>\n",
       "      <td>(99, 0, 228)</td>\n",
       "    </tr>\n",
       "    <tr>\n",
       "      <th>3</th>\n",
       "      <td>(220, 20, 60)</td>\n",
       "    </tr>\n",
       "    <tr>\n",
       "      <th>4</th>\n",
       "      <td>(255, 117, 56)</td>\n",
       "    </tr>\n",
       "    <tr>\n",
       "      <th>5</th>\n",
       "      <td>(238, 210, 20)</td>\n",
       "    </tr>\n",
       "    <tr>\n",
       "      <th>6</th>\n",
       "      <td>(255, 255, 255)</td>\n",
       "    </tr>\n",
       "  </tbody>\n",
       "</table>\n",
       "</div>"
      ],
      "text/plain": [
       "               RGB\n",
       "0        (0, 0, 0)\n",
       "1     (0, 24, 168)\n",
       "2     (99, 0, 228)\n",
       "3    (220, 20, 60)\n",
       "4   (255, 117, 56)\n",
       "5   (238, 210, 20)\n",
       "6  (255, 255, 255)"
      ]
     },
     "execution_count": 4,
     "metadata": {},
     "output_type": "execute_result"
    }
   ],
   "source": [
    "color_rgb = [(0,0,0),          # black\n",
    "             (0,24,168),       # blue\n",
    "             (99,0,228),       # purple\n",
    "             (220,20,60),      # red\n",
    "             (255,117,56),     # orange\n",
    "             (238,210,20),     # yellow\n",
    "             (255, 255, 255)]  # white\n",
    "data = pandas.DataFrame({'RGB': color_rgb})\n",
    "data"
   ]
  },
  {
   "cell_type": "code",
   "execution_count": 5,
   "metadata": {
    "collapsed": false
   },
   "outputs": [],
   "source": [
    "data['rgb_values'] = data['RGB'].apply(lambda rgb: sRGBColor(rgb[0], rgb[1], rgb[2],\n",
    "                                                             is_upscaled=True))"
   ]
  },
  {
   "cell_type": "markdown",
   "metadata": {},
   "source": [
    "Convert the RGB values to LAB values and get the luminance out of each of them to define the scalar (on a scale from 0 to 1) of each color."
   ]
  },
  {
   "cell_type": "code",
   "execution_count": 6,
   "metadata": {
    "collapsed": false
   },
   "outputs": [
    {
     "data": {
      "text/html": [
       "<div>\n",
       "<table border=\"1\" class=\"dataframe\">\n",
       "  <thead>\n",
       "    <tr style=\"text-align: right;\">\n",
       "      <th></th>\n",
       "      <th>RGB</th>\n",
       "      <th>rgb_values</th>\n",
       "      <th>lab_values</th>\n",
       "      <th>scalar</th>\n",
       "    </tr>\n",
       "  </thead>\n",
       "  <tbody>\n",
       "    <tr>\n",
       "      <th>0</th>\n",
       "      <td>(0, 0, 0)</td>\n",
       "      <td>sRGBColor (rgb_r:0.0000 rgb_g:0.0000 rgb_b:0.0...</td>\n",
       "      <td>LabColor (lab_l:0.0000 lab_a:0.0000 lab_b:0.0000)</td>\n",
       "      <td>0.000000</td>\n",
       "    </tr>\n",
       "    <tr>\n",
       "      <th>1</th>\n",
       "      <td>(0, 24, 168)</td>\n",
       "      <td>sRGBColor (rgb_r:0.0000 rgb_g:0.0941 rgb_b:0.6...</td>\n",
       "      <td>LabColor (lab_l:21.8713 lab_a:50.1967 lab_b:-7...</td>\n",
       "      <td>0.218713</td>\n",
       "    </tr>\n",
       "    <tr>\n",
       "      <th>2</th>\n",
       "      <td>(99, 0, 228)</td>\n",
       "      <td>sRGBColor (rgb_r:0.3882 rgb_g:0.0000 rgb_b:0.8...</td>\n",
       "      <td>LabColor (lab_l:34.5057 lab_a:75.4071 lab_b:-8...</td>\n",
       "      <td>0.345057</td>\n",
       "    </tr>\n",
       "    <tr>\n",
       "      <th>3</th>\n",
       "      <td>(220, 20, 60)</td>\n",
       "      <td>sRGBColor (rgb_r:0.8627 rgb_g:0.0784 rgb_b:0.2...</td>\n",
       "      <td>LabColor (lab_l:47.0349 lab_a:70.9194 lab_b:33...</td>\n",
       "      <td>0.470349</td>\n",
       "    </tr>\n",
       "    <tr>\n",
       "      <th>4</th>\n",
       "      <td>(255, 117, 56)</td>\n",
       "      <td>sRGBColor (rgb_r:1.0000 rgb_g:0.4588 rgb_b:0.2...</td>\n",
       "      <td>LabColor (lab_l:65.1786 lab_a:49.1390 lab_b:56...</td>\n",
       "      <td>0.651786</td>\n",
       "    </tr>\n",
       "    <tr>\n",
       "      <th>5</th>\n",
       "      <td>(238, 210, 20)</td>\n",
       "      <td>sRGBColor (rgb_r:0.9333 rgb_g:0.8235 rgb_b:0.0...</td>\n",
       "      <td>LabColor (lab_l:84.1336 lab_a:-6.4583 lab_b:82...</td>\n",
       "      <td>0.841336</td>\n",
       "    </tr>\n",
       "    <tr>\n",
       "      <th>6</th>\n",
       "      <td>(255, 255, 255)</td>\n",
       "      <td>sRGBColor (rgb_r:1.0000 rgb_g:1.0000 rgb_b:1.0...</td>\n",
       "      <td>LabColor (lab_l:100.0000 lab_a:-0.0005 lab_b:-...</td>\n",
       "      <td>1.000000</td>\n",
       "    </tr>\n",
       "  </tbody>\n",
       "</table>\n",
       "</div>"
      ],
      "text/plain": [
       "               RGB                                         rgb_values  \\\n",
       "0        (0, 0, 0)  sRGBColor (rgb_r:0.0000 rgb_g:0.0000 rgb_b:0.0...   \n",
       "1     (0, 24, 168)  sRGBColor (rgb_r:0.0000 rgb_g:0.0941 rgb_b:0.6...   \n",
       "2     (99, 0, 228)  sRGBColor (rgb_r:0.3882 rgb_g:0.0000 rgb_b:0.8...   \n",
       "3    (220, 20, 60)  sRGBColor (rgb_r:0.8627 rgb_g:0.0784 rgb_b:0.2...   \n",
       "4   (255, 117, 56)  sRGBColor (rgb_r:1.0000 rgb_g:0.4588 rgb_b:0.2...   \n",
       "5   (238, 210, 20)  sRGBColor (rgb_r:0.9333 rgb_g:0.8235 rgb_b:0.0...   \n",
       "6  (255, 255, 255)  sRGBColor (rgb_r:1.0000 rgb_g:1.0000 rgb_b:1.0...   \n",
       "\n",
       "                                          lab_values    scalar  \n",
       "0  LabColor (lab_l:0.0000 lab_a:0.0000 lab_b:0.0000)  0.000000  \n",
       "1  LabColor (lab_l:21.8713 lab_a:50.1967 lab_b:-7...  0.218713  \n",
       "2  LabColor (lab_l:34.5057 lab_a:75.4071 lab_b:-8...  0.345057  \n",
       "3  LabColor (lab_l:47.0349 lab_a:70.9194 lab_b:33...  0.470349  \n",
       "4  LabColor (lab_l:65.1786 lab_a:49.1390 lab_b:56...  0.651786  \n",
       "5  LabColor (lab_l:84.1336 lab_a:-6.4583 lab_b:82...  0.841336  \n",
       "6  LabColor (lab_l:100.0000 lab_a:-0.0005 lab_b:-...  1.000000  "
      ]
     },
     "execution_count": 6,
     "metadata": {},
     "output_type": "execute_result"
    }
   ],
   "source": [
    "data['lab_values'] = data['rgb_values'].apply(lambda rgb: convert_color(rgb, LabColor))\n",
    "data['scalar'] = data['lab_values'].apply(lambda lab: lab.lab_l/100.0)\n",
    "data"
   ]
  },
  {
   "cell_type": "markdown",
   "metadata": {},
   "source": [
    "Make a summary table of just the control points."
   ]
  },
  {
   "cell_type": "code",
   "execution_count": 7,
   "metadata": {
    "collapsed": false
   },
   "outputs": [
    {
     "data": {
      "text/html": [
       "<div>\n",
       "<table border=\"1\" class=\"dataframe\">\n",
       "  <thead>\n",
       "    <tr style=\"text-align: right;\">\n",
       "      <th></th>\n",
       "      <th>scalar</th>\n",
       "      <th>RGB</th>\n",
       "    </tr>\n",
       "  </thead>\n",
       "  <tbody>\n",
       "    <tr>\n",
       "      <th>0</th>\n",
       "      <td>0.000000</td>\n",
       "      <td>(0, 0, 0)</td>\n",
       "    </tr>\n",
       "    <tr>\n",
       "      <th>1</th>\n",
       "      <td>0.218713</td>\n",
       "      <td>(0, 24, 168)</td>\n",
       "    </tr>\n",
       "    <tr>\n",
       "      <th>2</th>\n",
       "      <td>0.345057</td>\n",
       "      <td>(99, 0, 228)</td>\n",
       "    </tr>\n",
       "    <tr>\n",
       "      <th>3</th>\n",
       "      <td>0.470349</td>\n",
       "      <td>(220, 20, 60)</td>\n",
       "    </tr>\n",
       "    <tr>\n",
       "      <th>4</th>\n",
       "      <td>0.651786</td>\n",
       "      <td>(255, 117, 56)</td>\n",
       "    </tr>\n",
       "    <tr>\n",
       "      <th>5</th>\n",
       "      <td>0.841336</td>\n",
       "      <td>(238, 210, 20)</td>\n",
       "    </tr>\n",
       "    <tr>\n",
       "      <th>6</th>\n",
       "      <td>1.000000</td>\n",
       "      <td>(255, 255, 255)</td>\n",
       "    </tr>\n",
       "  </tbody>\n",
       "</table>\n",
       "</div>"
      ],
      "text/plain": [
       "     scalar              RGB\n",
       "0  0.000000        (0, 0, 0)\n",
       "1  0.218713     (0, 24, 168)\n",
       "2  0.345057     (99, 0, 228)\n",
       "3  0.470349    (220, 20, 60)\n",
       "4  0.651786   (255, 117, 56)\n",
       "5  0.841336   (238, 210, 20)\n",
       "6  1.000000  (255, 255, 255)"
      ]
     },
     "execution_count": 7,
     "metadata": {},
     "output_type": "execute_result"
    }
   ],
   "source": [
    "control_points = pandas.DataFrame(data, columns=['scalar', 'RGB'])\n",
    "control_points"
   ]
  },
  {
   "cell_type": "markdown",
   "metadata": {},
   "source": [
    "Make a function that will take a scalar value (in the range of 0 and 1) and return the appropriate RGB triple."
   ]
  },
  {
   "cell_type": "code",
   "execution_count": 8,
   "metadata": {
    "collapsed": true
   },
   "outputs": [],
   "source": [
    "def color_lookup_upscaled(x):\n",
    "    if x < 0:\n",
    "        return (0, 0, 0)\n",
    "    for index in xrange(0, data.index.size-1):\n",
    "        low_scalar = data['scalar'][index]\n",
    "        high_scalar = data['scalar'][index+1]\n",
    "        if (x > high_scalar):\n",
    "            continue\n",
    "        low_lab = data['lab_values'][index]\n",
    "        high_lab = data['lab_values'][index+1]\n",
    "        interp = (x-low_scalar)/(high_scalar-low_scalar)\n",
    "        mid_lab = LabColor(interp*(high_lab.lab_l-low_lab.lab_l) + low_lab.lab_l,\n",
    "                           interp*(high_lab.lab_a-low_lab.lab_a) + low_lab.lab_a,\n",
    "                           interp*(high_lab.lab_b-low_lab.lab_b) + low_lab.lab_b)\n",
    "        return convert_color(mid_lab, sRGBColor).get_upscaled_value_tuple()\n",
    "    return (255, 255, 255)\n",
    "\n",
    "def color_lookup(x):\n",
    "    if x < 0:\n",
    "        return (0.0, 0.0, 0.0)\n",
    "    for index in xrange(0, data.index.size-1):\n",
    "        low_scalar = data['scalar'][index]\n",
    "        high_scalar = data['scalar'][index+1]\n",
    "        if (x > high_scalar):\n",
    "            continue\n",
    "        low_lab = data['lab_values'][index]\n",
    "        high_lab = data['lab_values'][index+1]\n",
    "        interp = (x-low_scalar)/(high_scalar-low_scalar)\n",
    "        mid_lab = LabColor(interp*(high_lab.lab_l-low_lab.lab_l) + low_lab.lab_l,\n",
    "                           interp*(high_lab.lab_a-low_lab.lab_a) + low_lab.lab_a,\n",
    "                           interp*(high_lab.lab_b-low_lab.lab_b) + low_lab.lab_b)\n",
    "        return convert_color(mid_lab, sRGBColor).get_value_tuple()\n",
    "    return (1.0, 1.0, 1.0)"
   ]
  },
  {
   "cell_type": "markdown",
   "metadata": {},
   "source": [
    "Make a long table of colors. This is a very high resolution table of colors that can be easily trimmed down with regular sampling."
   ]
  },
  {
   "cell_type": "code",
   "execution_count": 9,
   "metadata": {
    "collapsed": false
   },
   "outputs": [],
   "source": [
    "colors_long = pandas.DataFrame({'scalar': numpy.linspace(0.0, 1.0, num=1024)})\n",
    "colors_long['RGB'] = colors_long['scalar'].apply(color_lookup_upscaled)\n",
    "colors_long['sRGB'] = colors_long['scalar'].apply(color_lookup)"
   ]
  },
  {
   "cell_type": "markdown",
   "metadata": {},
   "source": [
    "The colors are all stored as tuples in a single column. This is convenient for some operations, but not others. Thus, also create separate columns for the three RGB components."
   ]
  },
  {
   "cell_type": "code",
   "execution_count": 10,
   "metadata": {
    "collapsed": false
   },
   "outputs": [],
   "source": [
    "def unzip_rgb_triple(dataframe, column='RGB'):\n",
    "    '''Given a dataframe and the name of a column holding an RGB triplet,\n",
    "    this function creates new separate columns for the R, G, and B values\n",
    "    with the same name as the original with '_r', '_g', and '_b' appended.'''\n",
    "    # Creates a data frame with separate columns for the triples in the given column\n",
    "    unzipped_rgb = pandas.DataFrame(dataframe[column].values.tolist(),\n",
    "                                    columns=['r', 'g', 'b'])\n",
    "    # Add the columns to the original data frame\n",
    "    dataframe[column + '_r'] = unzipped_rgb['r']\n",
    "    dataframe[column + '_g'] = unzipped_rgb['g']\n",
    "    dataframe[column + '_b'] = unzipped_rgb['b']\n",
    "\n",
    "unzip_rgb_triple(control_points, 'RGB')\n",
    "unzip_rgb_triple(colors_long, 'RGB')\n",
    "unzip_rgb_triple(colors_long, 'sRGB')"
   ]
  },
  {
   "cell_type": "markdown",
   "metadata": {},
   "source": [
    "Check to make sure that all the colors are actually valid. The answer to this sum should be 0 if all the values are valid."
   ]
  },
  {
   "cell_type": "code",
   "execution_count": 11,
   "metadata": {
    "collapsed": false
   },
   "outputs": [],
   "source": [
    "invalid = ((colors_long['sRGB_r'] < 0) | (colors_long['sRGB_r'] > 1) |\n",
    "           (colors_long['sRGB_g'] < 0) | (colors_long['sRGB_g'] > 1) |\n",
    "           (colors_long['sRGB_b'] < 0) | (colors_long['sRGB_b'] > 1))\n",
    "num_bad_values = invalid.sum()\n",
    "if num_bad_values > 0:\n",
    "    raise ValueError, 'Found %d invalid colors!!!!' % num_bad_values"
   ]
  },
  {
   "cell_type": "markdown",
   "metadata": {},
   "source": [
    "Plot out the color map."
   ]
  },
  {
   "cell_type": "code",
   "execution_count": 12,
   "metadata": {
    "collapsed": false
   },
   "outputs": [],
   "source": [
    "colors_palette = toyplot.color.Palette(colors=colors_long['sRGB'].values)\n",
    "colors_map = toyplot.color.LinearMap(palette=colors_palette,\n",
    "                                     domain_min=0, domain_max=1)"
   ]
  },
  {
   "cell_type": "code",
   "execution_count": 13,
   "metadata": {
    "collapsed": false
   },
   "outputs": [
    {
     "data": {
      "text/html": [
       "<div align=\"center\" class=\"toyplot\" id=\"ted2ec8f153e34be18122e30488a44351\"><svg height=\"300.0px\" id=\"tfc08c6601b0a4b74a6060a4111ab4648\" preserveAspectRatio=\"xMidYMid meet\" style=\"background-color:transparent;fill:rgb(16.1%,15.3%,14.1%);fill-opacity:1.0;font-family:Helvetica;font-size:12px;opacity:1.0;stroke:rgb(16.1%,15.3%,14.1%);stroke-opacity:1.0;stroke-width:1.0\" viewBox=\"0 0 130.0 300.0\" width=\"130.0px\" xmlns=\"http://www.w3.org/2000/svg\" xmlns:toyplot=\"http://www.sandia.gov/toyplot\"><g class=\"toyplot-axes-NumberLine\" id=\"tfa8b2b4a09b449f3ae65e9117396fa2b\"><g class=\"toyplot-coordinate-events\"><g class=\"toyplot-color-Map\" id=\"tad0cb7523a2c4935a6a6125ae7d20e66\" transform=\"translate(16.0,293.0) rotate(-90.0) translate(0,-0.0)\"><defs><linearGradient gradientUnits=\"userSpaceOnUse\" id=\"taed861dba493423798cffea291ee2757\" x1=\"0.0\" x2=\"286.0\" y1=\"0\" y2=\"0\"><stop offset=\"0.0\" stop-color=\"rgb(0%,0%,0%)\" stop-opacity=\"1.0\"></stop><stop offset=\"0.015873015873\" stop-color=\"rgb(4.1%,1.25%,6.89%)\" stop-opacity=\"1.0\"></stop><stop offset=\"0.031746031746\" stop-color=\"rgb(7.28%,2.51%,11.1%)\" stop-opacity=\"1.0\"></stop><stop offset=\"0.047619047619\" stop-color=\"rgb(9.15%,3.83%,15.1%)\" stop-opacity=\"1.0\"></stop><stop offset=\"0.0634920634921\" stop-color=\"rgb(10.3%,4.99%,19.2%)\" stop-opacity=\"1.0\"></stop><stop offset=\"0.0793650793651\" stop-color=\"rgb(11.7%,5.53%,23.6%)\" stop-opacity=\"1.0\"></stop><stop offset=\"0.0952380952381\" stop-color=\"rgb(13.1%,5.75%,28%)\" stop-opacity=\"1.0\"></stop><stop offset=\"0.111111111111\" stop-color=\"rgb(14.5%,5.88%,32.6%)\" stop-opacity=\"1.0\"></stop><stop offset=\"0.126984126984\" stop-color=\"rgb(15.7%,5.92%,37.3%)\" stop-opacity=\"1.0\"></stop><stop offset=\"0.142857142857\" stop-color=\"rgb(17%,5.87%,42%)\" stop-opacity=\"1.0\"></stop><stop offset=\"0.15873015873\" stop-color=\"rgb(18.1%,5.69%,46.9%)\" stop-opacity=\"1.0\"></stop><stop offset=\"0.174603174603\" stop-color=\"rgb(19.3%,5.39%,51.9%)\" stop-opacity=\"1.0\"></stop><stop offset=\"0.190476190476\" stop-color=\"rgb(20.3%,4.92%,56.9%)\" stop-opacity=\"1.0\"></stop><stop offset=\"0.206349206349\" stop-color=\"rgb(21.3%,4.25%,62.1%)\" stop-opacity=\"1.0\"></stop><stop offset=\"0.222222222222\" stop-color=\"rgb(22.9%,3.23%,66.8%)\" stop-opacity=\"1.0\"></stop><stop offset=\"0.238095238095\" stop-color=\"rgb(26.4%,1.7%,69.7%)\" stop-opacity=\"1.0\"></stop><stop offset=\"0.253968253968\" stop-color=\"rgb(29.8%,0%,72.6%)\" stop-opacity=\"1.0\"></stop><stop offset=\"0.269841269841\" stop-color=\"rgb(33.1%,0%,75.5%)\" stop-opacity=\"1.0\"></stop><stop offset=\"0.285714285714\" stop-color=\"rgb(36.4%,0%,78.5%)\" stop-opacity=\"1.0\"></stop><stop offset=\"0.301587301587\" stop-color=\"rgb(39.6%,0%,81.5%)\" stop-opacity=\"1.0\"></stop><stop offset=\"0.31746031746\" stop-color=\"rgb(42.9%,0%,84.5%)\" stop-opacity=\"1.0\"></stop><stop offset=\"0.333333333333\" stop-color=\"rgb(46.1%,0%,87.5%)\" stop-opacity=\"1.0\"></stop><stop offset=\"0.349206349206\" stop-color=\"rgb(50.9%,0%,87.5%)\" stop-opacity=\"1.0\"></stop><stop offset=\"0.365079365079\" stop-color=\"rgb(58.7%,0%,78.8%)\" stop-opacity=\"1.0\"></stop><stop offset=\"0.380952380952\" stop-color=\"rgb(64.8%,0%,70.3%)\" stop-opacity=\"1.0\"></stop><stop offset=\"0.396825396825\" stop-color=\"rgb(69.7%,0%,62%)\" stop-opacity=\"1.0\"></stop><stop offset=\"0.412698412698\" stop-color=\"rgb(73.9%,0%,53.7%)\" stop-opacity=\"1.0\"></stop><stop offset=\"0.428571428571\" stop-color=\"rgb(77.5%,0%,45.6%)\" stop-opacity=\"1.0\"></stop><stop offset=\"0.444444444444\" stop-color=\"rgb(80.6%,0%,37.5%)\" stop-opacity=\"1.0\"></stop><stop offset=\"0.460317460317\" stop-color=\"rgb(83.4%,2.27%,29.3%)\" stop-opacity=\"1.0\"></stop><stop offset=\"0.47619047619\" stop-color=\"rgb(85.4%,9.35%,24%)\" stop-opacity=\"1.0\"></stop><stop offset=\"0.492063492063\" stop-color=\"rgb(86.6%,15.1%,23.9%)\" stop-opacity=\"1.0\"></stop><stop offset=\"0.507936507937\" stop-color=\"rgb(87.8%,19.5%,23.9%)\" stop-opacity=\"1.0\"></stop><stop offset=\"0.52380952381\" stop-color=\"rgb(88.9%,23.2%,23.8%)\" stop-opacity=\"1.0\"></stop><stop offset=\"0.539682539683\" stop-color=\"rgb(90.1%,26.6%,23.7%)\" stop-opacity=\"1.0\"></stop><stop offset=\"0.555555555556\" stop-color=\"rgb(91.2%,29.7%,23.5%)\" stop-opacity=\"1.0\"></stop><stop offset=\"0.571428571429\" stop-color=\"rgb(92.3%,32.6%,23.4%)\" stop-opacity=\"1.0\"></stop><stop offset=\"0.587301587302\" stop-color=\"rgb(93.5%,35.4%,23.2%)\" stop-opacity=\"1.0\"></stop><stop offset=\"0.603174603175\" stop-color=\"rgb(94.6%,38.1%,23%)\" stop-opacity=\"1.0\"></stop><stop offset=\"0.619047619048\" stop-color=\"rgb(95.7%,40.8%,22.7%)\" stop-opacity=\"1.0\"></stop><stop offset=\"0.634920634921\" stop-color=\"rgb(96.8%,43.3%,22.4%)\" stop-opacity=\"1.0\"></stop><stop offset=\"0.650793650794\" stop-color=\"rgb(97.8%,45.9%,22.1%)\" stop-opacity=\"1.0\"></stop><stop offset=\"0.666666666667\" stop-color=\"rgb(97.5%,49.4%,21.5%)\" stop-opacity=\"1.0\"></stop><stop offset=\"0.68253968254\" stop-color=\"rgb(97.1%,52.8%,20.7%)\" stop-opacity=\"1.0\"></stop><stop offset=\"0.698412698413\" stop-color=\"rgb(96.6%,56.1%,19.9%)\" stop-opacity=\"1.0\"></stop><stop offset=\"0.714285714286\" stop-color=\"rgb(96.1%,59.4%,19%)\" stop-opacity=\"1.0\"></stop><stop offset=\"0.730158730159\" stop-color=\"rgb(95.5%,62.5%,18%)\" stop-opacity=\"1.0\"></stop><stop offset=\"0.746031746032\" stop-color=\"rgb(94.9%,65.5%,16.8%)\" stop-opacity=\"1.0\"></stop><stop offset=\"0.761904761905\" stop-color=\"rgb(94.2%,68.5%,15.5%)\" stop-opacity=\"1.0\"></stop><stop offset=\"0.777777777778\" stop-color=\"rgb(93.4%,71.5%,14%)\" stop-opacity=\"1.0\"></stop><stop offset=\"0.793650793651\" stop-color=\"rgb(92.6%,74.4%,12.2%)\" stop-opacity=\"1.0\"></stop><stop offset=\"0.809523809524\" stop-color=\"rgb(91.7%,77.3%,9.96%)\" stop-opacity=\"1.0\"></stop><stop offset=\"0.825396825397\" stop-color=\"rgb(90.7%,80.1%,7.02%)\" stop-opacity=\"1.0\"></stop><stop offset=\"0.84126984127\" stop-color=\"rgb(89.7%,82.9%,3.01%)\" stop-opacity=\"1.0\"></stop><stop offset=\"0.857142857143\" stop-color=\"rgb(91.4%,84.6%,22.3%)\" stop-opacity=\"1.0\"></stop><stop offset=\"0.873015873016\" stop-color=\"rgb(93%,86.2%,33.2%)\" stop-opacity=\"1.0\"></stop><stop offset=\"0.888888888889\" stop-color=\"rgb(94.4%,87.9%,42.5%)\" stop-opacity=\"1.0\"></stop><stop offset=\"0.904761904762\" stop-color=\"rgb(95.7%,89.6%,51.2%)\" stop-opacity=\"1.0\"></stop><stop offset=\"0.920634920635\" stop-color=\"rgb(96.9%,91.3%,59.5%)\" stop-opacity=\"1.0\"></stop><stop offset=\"0.936507936508\" stop-color=\"rgb(97.9%,93%,67.7%)\" stop-opacity=\"1.0\"></stop><stop offset=\"0.952380952381\" stop-color=\"rgb(98.7%,94.7%,75.8%)\" stop-opacity=\"1.0\"></stop><stop offset=\"0.968253968254\" stop-color=\"rgb(99.3%,96.4%,83.8%)\" stop-opacity=\"1.0\"></stop><stop offset=\"0.984126984127\" stop-color=\"rgb(99.8%,98.2%,91.9%)\" stop-opacity=\"1.0\"></stop><stop offset=\"1.0\" stop-color=\"rgb(100%,100%,100%)\" stop-opacity=\"1.0\"></stop></linearGradient></defs><rect height=\"30\" style=\"fill:url(#taed861dba493423798cffea291ee2757);stroke:rgb(82.7%,82.7%,82.7%);stroke-opacity:1.0;stroke-width:1.0\" width=\"286.0\" x=\"0.0\" y=\"-15.0\"></rect></g></g><g class=\"toyplot-axes-Axis\" id=\"t3e7b563099b841fea3d7ae96ec4f1921\" transform=\"translate(16.0,293.0) rotate(-90.0) translate(0,5.0)\"><g><text dx=\"15px\" style=\"-toyplot-anchor-shift:15px;alignment-baseline:middle;baseline-shift:0%;font-size:10px;font-weight:normal;stroke:none;text-anchor:start\" transform=\"translate(0.0,0) rotate(90)\" x=\"0\" y=\"0\">0.00, (0, 0, 0)</text><text dx=\"15px\" style=\"-toyplot-anchor-shift:15px;alignment-baseline:middle;baseline-shift:0%;font-size:10px;font-weight:normal;stroke:none;text-anchor:start\" transform=\"translate(62.55191595127109,0) rotate(90)\" x=\"0\" y=\"0\">0.22, (0, 24, 168)</text><text dx=\"15px\" style=\"-toyplot-anchor-shift:15px;alignment-baseline:middle;baseline-shift:0%;font-size:10px;font-weight:normal;stroke:none;text-anchor:start\" transform=\"translate(98.6862704833766,0) rotate(90)\" x=\"0\" y=\"0\">0.35, (99, 0, 228)</text><text dx=\"15px\" style=\"-toyplot-anchor-shift:15px;alignment-baseline:middle;baseline-shift:0%;font-size:10px;font-weight:normal;stroke:none;text-anchor:start\" transform=\"translate(134.51989976946732,0) rotate(90)\" x=\"0\" y=\"0\">0.47, (220, 20, 60)</text><text dx=\"15px\" style=\"-toyplot-anchor-shift:15px;alignment-baseline:middle;baseline-shift:0%;font-size:10px;font-weight:normal;stroke:none;text-anchor:start\" transform=\"translate(186.41082099887512,0) rotate(90)\" x=\"0\" y=\"0\">0.65, (255, 117, 56)</text><text dx=\"15px\" style=\"-toyplot-anchor-shift:15px;alignment-baseline:middle;baseline-shift:0%;font-size:10px;font-weight:normal;stroke:none;text-anchor:start\" transform=\"translate(240.62212787920564,0) rotate(90)\" x=\"0\" y=\"0\">0.84, (238, 210, 20)</text><text dx=\"15px\" style=\"-toyplot-anchor-shift:15px;alignment-baseline:middle;baseline-shift:0%;font-size:10px;font-weight:normal;stroke:none;text-anchor:start\" transform=\"translate(285.99995576532746,0) rotate(90)\" x=\"0\" y=\"0\">1.00, (255, 255, 255)</text></g></g></g></svg><div class=\"toyplot-controls\"><ul class=\"toyplot-mark-popup\" onmouseleave=\"this.style.visibility='hidden'\" style=\"background:rgba(0%,0%,0%,0.75);border:0;border-radius:6px;color:white;cursor:default;list-style:none;margin:0;padding:5px;position:fixed;visibility:hidden\"><li class=\"toyplot-mark-popup-title\" style=\"color:lightgray;cursor:default;padding:5px;list-style:none;margin:0;\"></li><li class=\"toyplot-mark-popup-save-csv\" onmouseout=\"this.style.color='white';this.style.background='steelblue'\" onmouseover=\"this.style.color='steelblue';this.style.background='white'\" style=\"border-radius:3px;padding:5px;list-style:none;margin:0;\">Save as .csv</li></ul><script>\n",
       "(function()\n",
       "{\n",
       "  if(window.CSS !== undefined && window.CSS.supports !== undefined)\n",
       "  {\n",
       "    if(!window.CSS.supports(\"alignment-baseline\", \"middle\"))\n",
       "    {\n",
       "      var re = /\\s*alignment-baseline\\s*:\\s*([^;\\s]*)\\s*/;\n",
       "      var text = document.querySelectorAll(\"#ted2ec8f153e34be18122e30488a44351 text\");\n",
       "      for(var i = 0; i != text.length; ++i)\n",
       "      {\n",
       "        var match = re.exec(text[i].attributes.style.value);\n",
       "        if(match)\n",
       "        {\n",
       "          if(match[1] == \"middle\")\n",
       "          {\n",
       "            var style = getComputedStyle(text[i]);\n",
       "            var font_size = style.fontSize.substr(0, style.fontSize.length - 2);\n",
       "            var dy = text[i].dy.baseVal.length ? text[i].dy.baseVal[0].value : 0;\n",
       "            dy += 0.4 * font_size;\n",
       "            text[i].setAttribute(\"dy\", dy);\n",
       "          }\n",
       "        }\n",
       "      }\n",
       "    }\n",
       "    if(!window.CSS.supports(\"baseline-shift\", \"0\"))\n",
       "    {\n",
       "      var re = /\\s*baseline-shift\\s*:\\s*([^;\\s]*)\\s*/;\n",
       "      var text = document.querySelectorAll(\"#ted2ec8f153e34be18122e30488a44351 text\");\n",
       "      for(var i = 0; i != text.length; ++i)\n",
       "      {\n",
       "        var match = re.exec(text[i].attributes.style.value);\n",
       "        if(match)\n",
       "        {\n",
       "          var style = getComputedStyle(text[i]);\n",
       "          var font_size = style.fontSize.substr(0, style.fontSize.length - 2);\n",
       "          var percent = 0.01 * match[1].substr(0, match[1].length-1);\n",
       "          var dy = text[i].dy.baseVal.length ? text[i].dy.baseVal[0].value : 0;\n",
       "          dy -= percent * font_size\n",
       "          text[i].setAttribute(\"dy\", dy);\n",
       "        }\n",
       "      }\n",
       "    }\n",
       "  }\n",
       "})();\n",
       "</script></div></div>"
      ],
      "text/plain": [
       "<toyplot.canvas.Canvas at 0x116c77250>"
      ]
     },
     "metadata": {},
     "output_type": "display_data"
    }
   ],
   "source": [
    "canvas = toyplot.Canvas(width=130, height=300)\n",
    "numberline = canvas.numberline(x1=16, x2=16, y1=-7, y2=7)\n",
    "numberline.padding = 5\n",
    "numberline.axis.spine.show = False\n",
    "numberline.colormap(colors_map,\n",
    "                    width=30,\n",
    "                    style={'stroke':'lightgrey'})\n",
    "\n",
    "control_point_labels = \\\n",
    "    control_points.apply(lambda row: '%1.2f, %s' % (row['scalar'],\n",
    "                                                  str(row['RGB'])),\n",
    "                       axis=1)\n",
    "numberline.axis.ticks.locator = \\\n",
    "    toyplot.locator.Explicit(locations=control_points['scalar'],\n",
    "                             labels=control_point_labels)\n",
    "numberline.axis.ticks.labels.angle = -90\n",
    "numberline.axis.ticks.labels.style = {'text-anchor':'start',\n",
    "                                      'baseline-shift':'0%',\n",
    "                                      '-toyplot-anchor-shift':'15px'}"
   ]
  },
  {
   "cell_type": "code",
   "execution_count": 14,
   "metadata": {
    "collapsed": false
   },
   "outputs": [],
   "source": [
    "toyplot.svg.render(canvas, 'extended-black-body.svg')"
   ]
  },
  {
   "cell_type": "markdown",
   "metadata": {},
   "source": [
    "Create a color preset file for ParaView. Since ParaView 4.4, JSON files are supported, which makes it easy to export."
   ]
  },
  {
   "cell_type": "code",
   "execution_count": 15,
   "metadata": {
    "collapsed": false
   },
   "outputs": [],
   "source": [
    "RGBPoints = []\n",
    "for index in xrange(0, data.index.size):\n",
    "    RGBPoints.append(data['scalar'][index])\n",
    "    RGBPoints.extend(data['rgb_values'][index].get_value_tuple())\n",
    "    \n",
    "#RGBPoints"
   ]
  },
  {
   "cell_type": "code",
   "execution_count": 16,
   "metadata": {
    "collapsed": false
   },
   "outputs": [],
   "source": [
    "import json\n",
    "\n",
    "file_descriptor = open('extended-black-body-paraview-colors.json', 'w')\n",
    "json.dump([{'ColorSpace':'Lab',\n",
    "            'Name':'Extended Black Body',\n",
    "            'NanColor':[0.0,0.5,1.0],\n",
    "            'RGBPoints':RGBPoints}],\n",
    "          file_descriptor,\n",
    "          indent=2)\n",
    "file_descriptor.close()"
   ]
  },
  {
   "cell_type": "markdown",
   "metadata": {},
   "source": [
    "Create several csv files containing color tables for this color map. We will create color tables of many different sizes from 8 rows to 1024. We also write out one set of csv files for \"upscaled\" color bytes (values 0-255) and another for floating point numbers (0-1)."
   ]
  },
  {
   "cell_type": "code",
   "execution_count": 17,
   "metadata": {
    "collapsed": false
   },
   "outputs": [],
   "source": [
    "for num_bits in xrange(3, 11):\n",
    "    table_length = 2 ** num_bits\n",
    "    color_table = pandas.DataFrame({'scalar': numpy.linspace(0.0, 1.0, num=table_length)})\n",
    "    color_table['RGB'] = color_table['scalar'].apply(color_lookup_upscaled)\n",
    "    unzip_rgb_triple(color_table, 'RGB')\n",
    "    color_table.to_csv('extended-black-body-table-byte-{:04}.csv'.format(table_length),\n",
    "                       index=False,\n",
    "                       columns=['scalar', 'RGB_r', 'RGB_g', 'RGB_b'])\n",
    "    color_table['sRGB'] = color_table['scalar'].apply(color_lookup)\n",
    "    unzip_rgb_triple(color_table, 'sRGB')\n",
    "    color_table.to_csv('extended-black-body-table-float-{:04}.csv'.format(table_length),\n",
    "                       index=False,\n",
    "                       columns=['scalar', 'sRGB_r', 'sRGB_g', 'sRGB_b'],\n",
    "                       header=['scalar', 'RGB_r', 'RGB_g', 'RGB_b'])"
   ]
  },
  {
   "cell_type": "code",
   "execution_count": null,
   "metadata": {
    "collapsed": true
   },
   "outputs": [],
   "source": []
  }
 ],
 "metadata": {
  "kernelspec": {
   "display_name": "Python 2",
   "language": "python",
   "name": "python2"
  },
  "language_info": {
   "codemirror_mode": {
    "name": "ipython",
    "version": 2
   },
   "file_extension": ".py",
   "mimetype": "text/x-python",
   "name": "python",
   "nbconvert_exporter": "python",
   "pygments_lexer": "ipython2",
   "version": "2.7.11"
  }
 },
 "nbformat": 4,
 "nbformat_minor": 0
}
