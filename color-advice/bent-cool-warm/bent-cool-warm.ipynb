{
 "cells": [
  {
   "cell_type": "markdown",
   "metadata": {},
   "source": [
    "# Bent Diverging Color Maps\n",
    "\n",
    "This notebook describes the creation of some diverging color maps. The maps are based on those from \"[Diverging Color Maps for Scientific Visualization](http://www.kennethmoreland.com/color-maps/)\" by Kenneth Moreland except that the maps here have a linear interpolation of luminance with a bend in the middle. This can create an artifact at the midpoint."
   ]
  },
  {
   "cell_type": "code",
   "execution_count": 1,
   "metadata": {
    "collapsed": true
   },
   "outputs": [],
   "source": [
    "from __future__ import print_function"
   ]
  },
  {
   "cell_type": "markdown",
   "metadata": {},
   "source": [
    "## Diverging Color Map Generation\n",
    "\n",
    "Here we create a class named `BentDivergingColorMap` designed to create diverging color maps based on the definition of the endpoints."
   ]
  },
  {
   "cell_type": "code",
   "execution_count": 2,
   "metadata": {
    "collapsed": true
   },
   "outputs": [],
   "source": [
    "from colormath.color_objects import *\n",
    "from colormath.color_conversions import convert_color, color_conversion_function\n",
    "from colormath import color_diff\n",
    "\n",
    "import numpy"
   ]
  },
  {
   "cell_type": "code",
   "execution_count": 3,
   "metadata": {
    "collapsed": false
   },
   "outputs": [],
   "source": [
    "class BentDivergingColorMap:\n",
    "    def __init__(self,\n",
    "                 low_color=sRGBColor(0.230, 0.299, 0.754),\n",
    "                 high_color=sRGBColor(0.706, 0.016, 0.150),\n",
    "                 mid_color=LCHabColor(88.0, 0.0, 0.0),\n",
    "                 low_hue_spin=-32,\n",
    "                 high_hue_spin=32):\n",
    "        \"\"\"\n",
    "        :param color low_color: The color at the low end of the map.\n",
    "        :param color high_color: The color at the high end of the map.\n",
    "        :param color mid_color: The color at the middle of the map. Should be unsaturated.\n",
    "        :param float low_hue_spin: The amount of spin to put on the low side of the map (in degrees)\n",
    "        :param float high_hue_spin: The amount of spin to put on the high side of the map (in degrees)\n",
    "        \"\"\"\n",
    "        self.low_lch = convert_color(low_color, LCHabColor)\n",
    "        self.high_lch = convert_color(high_color, LCHabColor)\n",
    "        \n",
    "        # If the points are saturated and distinct, then we place a white point\n",
    "        # in the middle. Otherwise we ignore it.\n",
    "        if self.low_lch.lch_c > 5:\n",
    "            if self.high_lch.lch_c > 5:\n",
    "                if (abs(self.low_lch.lch_h - self.high_lch.lch_h) > 60.0) \\\n",
    "                     and mid_color:\n",
    "                    # Both endpoints are saturated and unique and a midpoint was\n",
    "                    # given. Interpolate through this midpoint and compute an\n",
    "                    # appropriate hue spin.\n",
    "                    mid_lch = convert_color(mid_color, LCHabColor)\n",
    "                    self.midpoint_luminance = mid_lch.lch_l\n",
    "                    self.midpoint_low_hue = self.low_lch.lch_h + low_hue_spin\n",
    "                    self.midpoint_high_hue = self.high_lch.lch_h + high_hue_spin\n",
    "                else:\n",
    "                    # Both endpoints are distinct colors, but they are either very close\n",
    "                    # in hue or no middle point was given. In this case, interpolate\n",
    "                    # directly between them.\n",
    "                    self.midpoint_luminance = None\n",
    "            else:\n",
    "                # The low color is saturated but the high color is unsaturated.\n",
    "                # Interpolate directly between them, but adjust the hue of the unsaturated\n",
    "                # high color.\n",
    "                self.midpoint_luminance = None\n",
    "                self.high_lch.lch_h = self.low_lch.lch_h + low_hue_spin\n",
    "        else:\n",
    "            # The low color is unsaturated. Assume the high color is saturated. (If not,\n",
    "            # then this is a boring map no matter what we do.) Interpolate directly\n",
    "            # between them, but adjust the hue of the unsaturated low color.\n",
    "            self.midpoint_luminance = None\n",
    "            self.low_lch.lch_h = self.high_lch.lch_h + high_hue_spin\n",
    "\n",
    "    def print_self(self):\n",
    "        print('Low Color:')\n",
    "        print('\\t', self.low_lch)\n",
    "        print('\\t', convert_color(self.low_lch, LabColor))\n",
    "        print('\\t', convert_color(self.low_lch, sRGBColor))\n",
    "        \n",
    "        print('Middle Color:')\n",
    "        if (self.midpoint_luminance):\n",
    "            print('\\t Luminance', self.midpoint_luminance)\n",
    "            print('\\t Low Hue', self.midpoint_low_hue)\n",
    "            print('\\t High Hue', self.midpoint_high_hue)\n",
    "        else:\n",
    "            print('\\t No Midpoint')\n",
    "\n",
    "        print('High Color:')\n",
    "        print('\\t', self.high_lch)\n",
    "        print('\\t', convert_color(self.high_lch, LabColor))\n",
    "        print('\\t', convert_color(self.high_lch, sRGBColor))\n",
    "        \n",
    "    def map_scalar(self, scalar, space=LCHabColor):\n",
    "        '''\n",
    "        Given a scalar value between 0 and 1, map to a color. The color is\n",
    "        returned as a sRGBColor object.\n",
    "        \n",
    "        :param float scalar: The value to map to a color.\n",
    "        :param color_object space: The colormath color object to do interpolation in.\n",
    "        '''\n",
    "        if scalar < 0:\n",
    "            return convert_color(self.low_lch, sRGBColor)\n",
    "        if scalar > 1:\n",
    "            return convert_color(self.high_lch, sRGBColor)\n",
    "        \n",
    "        interp = scalar\n",
    "        low_color = convert_color(self.low_lch, space)\n",
    "        high_color = convert_color(self.high_lch, space)\n",
    "        if self.midpoint_luminance:\n",
    "            # Adjust the interpolation around the midpoint\n",
    "            if scalar < 0.5:\n",
    "                interp = 2*scalar\n",
    "                high_lch = LCHabColor(self.midpoint_luminance, 0, self.midpoint_low_hue)\n",
    "                high_color = convert_color(high_lch, space)\n",
    "            else:\n",
    "                interp = 2*scalar - 1\n",
    "                low_lch = LCHabColor(self.midpoint_luminance, 0, self.midpoint_high_hue)\n",
    "                low_color = convert_color(low_lch, space)\n",
    "        low_color = numpy.array(low_color.get_value_tuple())\n",
    "        high_color = numpy.array(high_color.get_value_tuple())\n",
    "        \n",
    "        mid_color = interp*(high_color-low_color) + low_color\n",
    "        rgb = convert_color(space(mid_color[0], mid_color[1], mid_color[2]), sRGBColor)\n",
    "        \n",
    "        if ((rgb.rgb_r < -0.0019) or (rgb.rgb_r > 1.0019) or\n",
    "            (rgb.rgb_g < -0.0019) or (rgb.rgb_g > 1.0019) or\n",
    "            (rgb.rgb_b < -0.0019) or (rgb.rgb_b > 1.0019)):\n",
    "            print('WARNING: Value at scalar %1.4f is out of range' % scalar,\n",
    "                  rgb.get_value_tuple())\n",
    "            \n",
    "        return rgb\n",
    "    \n",
    "    def map_scalar_array(self, scalar_array, space=LCHabColor):\n",
    "        '''\n",
    "        Given an array of scalar values between 0 and 1, map them to colors.\n",
    "        The color is returned as a sRGBColor object.\n",
    "        \n",
    "        :param float scalar_array: Array of values to map to colors.\n",
    "        :param color_object space: The colormath color object to do interpolation in.\n",
    "        '''\n",
    "        f = numpy.vectorize(lambda x: self.map_scalar(x, space))\n",
    "        return f(scalar_array)\n"
   ]
  },
  {
   "cell_type": "markdown",
   "metadata": {
    "collapsed": true
   },
   "source": [
    "## Color Plots\n",
    "\n",
    "Now that we have a class that helps us create color maps, create some plots on its colors and properties. We are plugging in the default colors here, but you can easily change them to experiment with other colors."
   ]
  },
  {
   "cell_type": "code",
   "execution_count": 4,
   "metadata": {
    "collapsed": false
   },
   "outputs": [
    {
     "name": "stdout",
     "output_type": "stream",
     "text": [
      "Low Color:\n",
      "\t LCHabColor (lch_l:37.7323 lch_c:70.5602 lch_h:296.9621)\n",
      "\t LabColor (lab_l:37.7323 lab_a:31.9920 lab_b:-62.8908)\n",
      "\t sRGBColor (rgb_r:0.2300 rgb_g:0.2990 rgb_b:0.7540)\n",
      "Middle Color:\n",
      "\t Luminance 95.5806309891\n",
      "\t Low Hue 264.962075686\n",
      "\t High Hue 60.6943040031\n",
      "High Color:\n",
      "\t LCHabColor (lch_l:37.7337 lch_c:70.5778 lch_h:28.6943)\n",
      "\t LabColor (lab_l:37.7337 lab_a:61.9104 lab_b:33.8870)\n",
      "\t sRGBColor (rgb_r:0.7060 rgb_g:0.0160 rgb_b:0.1500)\n"
     ]
    }
   ],
   "source": [
    "diverging_color_map = BentDivergingColorMap(\n",
    "    low_color=sRGBColor(0.230, 0.299, 0.754),\n",
    "    high_color=sRGBColor(0.706, 0.016, 0.150),\n",
    "    mid_color=sRGBColor(0.95, 0.95, 0.95))\n",
    "diverging_color_map.print_self()"
   ]
  },
  {
   "cell_type": "code",
   "execution_count": 5,
   "metadata": {
    "collapsed": true
   },
   "outputs": [],
   "source": [
    "import toyplot\n",
    "import toyplot.svg\n",
    "\n",
    "import pandas"
   ]
  },
  {
   "cell_type": "code",
   "execution_count": 16,
   "metadata": {
    "collapsed": false
   },
   "outputs": [
    {
     "data": {
      "image/png": "[encoded data removed]",
      "text/html": [
       "<div align=\"center\" class=\"toyplot\" id=\"t1352739d4185445f97eb7cd6858ad67b\"><svg height=\"300.0px\" id=\"t5f287a53e01f4a9b92df331df60e9688\" preserveAspectRatio=\"xMidYMid meet\" style=\"background-color:transparent;fill:rgb(16.1%,15.3%,14.1%);fill-opacity:1.0;font-family:Helvetica;font-size:12px;opacity:1.0;stroke:rgb(16.1%,15.3%,14.1%);stroke-opacity:1.0;stroke-width:1.0\" viewBox=\"0 0 130.0 300.0\" width=\"130.0px\" xmlns=\"http://www.w3.org/2000/svg\" xmlns:toyplot=\"http://www.sandia.gov/toyplot\"><g class=\"toyplot-axes-NumberLine\" id=\"t9e45b087da754f8babb8ac05aaf472e9\"><g class=\"toyplot-coordinate-events\"><g class=\"toyplot-color-Map\" id=\"tee413d2c1a3a4b90acf363c76fe22fff\" transform=\"translate(16.0,293.0) rotate(-90.0) translate(0,-0.0)\"><defs><linearGradient gradientUnits=\"userSpaceOnUse\" id=\"tea4e4d6537914b169c074097ad3800e0\" x1=\"0.0\" x2=\"286.0\" y1=\"0\" y2=\"0\"><stop offset=\"0.0\" stop-color=\"rgb(33.5%,28.3%,75.6%)\" stop-opacity=\"1.0\"></stop><stop offset=\"0.015873015873\" stop-color=\"rgb(34.6%,30.6%,76.7%)\" stop-opacity=\"1.0\"></stop><stop offset=\"0.031746031746\" stop-color=\"rgb(35.8%,32.9%,77.7%)\" stop-opacity=\"1.0\"></stop><stop offset=\"0.047619047619\" stop-color=\"rgb(37%,35.2%,78.6%)\" stop-opacity=\"1.0\"></stop><stop offset=\"0.0634920634921\" stop-color=\"rgb(38.3%,37.4%,79.6%)\" stop-opacity=\"1.0\"></stop><stop offset=\"0.0793650793651\" stop-color=\"rgb(39.7%,39.6%,80.5%)\" stop-opacity=\"1.0\"></stop><stop offset=\"0.0952380952381\" stop-color=\"rgb(41.1%,41.8%,81.3%)\" stop-opacity=\"1.0\"></stop><stop offset=\"0.111111111111\" stop-color=\"rgb(42.5%,44%,82.1%)\" stop-opacity=\"1.0\"></stop><stop offset=\"0.126984126984\" stop-color=\"rgb(44%,46.2%,82.9%)\" stop-opacity=\"1.0\"></stop><stop offset=\"0.142857142857\" stop-color=\"rgb(45.6%,48.3%,83.7%)\" stop-opacity=\"1.0\"></stop><stop offset=\"0.15873015873\" stop-color=\"rgb(47.2%,50.5%,84.4%)\" stop-opacity=\"1.0\"></stop><stop offset=\"0.174603174603\" stop-color=\"rgb(48.8%,52.6%,85.1%)\" stop-opacity=\"1.0\"></stop><stop offset=\"0.190476190476\" stop-color=\"rgb(50.6%,54.8%,85.8%)\" stop-opacity=\"1.0\"></stop><stop offset=\"0.206349206349\" stop-color=\"rgb(52.3%,56.9%,86.4%)\" stop-opacity=\"1.0\"></stop><stop offset=\"0.222222222222\" stop-color=\"rgb(54.1%,59%,87%)\" stop-opacity=\"1.0\"></stop><stop offset=\"0.238095238095\" stop-color=\"rgb(56%,61.1%,87.6%)\" stop-opacity=\"1.0\"></stop><stop offset=\"0.253968253968\" stop-color=\"rgb(58%,63.3%,88.2%)\" stop-opacity=\"1.0\"></stop><stop offset=\"0.269841269841\" stop-color=\"rgb(60%,65.4%,88.7%)\" stop-opacity=\"1.0\"></stop><stop offset=\"0.285714285714\" stop-color=\"rgb(62%,67.5%,89.3%)\" stop-opacity=\"1.0\"></stop><stop offset=\"0.301587301587\" stop-color=\"rgb(64.1%,69.5%,89.8%)\" stop-opacity=\"1.0\"></stop><stop offset=\"0.31746031746\" stop-color=\"rgb(66.3%,71.6%,90.3%)\" stop-opacity=\"1.0\"></stop><stop offset=\"0.333333333333\" stop-color=\"rgb(68.5%,73.7%,90.7%)\" stop-opacity=\"1.0\"></stop><stop offset=\"0.349206349206\" stop-color=\"rgb(70.7%,75.8%,91.2%)\" stop-opacity=\"1.0\"></stop><stop offset=\"0.365079365079\" stop-color=\"rgb(73.1%,77.8%,91.6%)\" stop-opacity=\"1.0\"></stop><stop offset=\"0.380952380952\" stop-color=\"rgb(75.4%,79.9%,92%)\" stop-opacity=\"1.0\"></stop><stop offset=\"0.396825396825\" stop-color=\"rgb(77.9%,81.9%,92.5%)\" stop-opacity=\"1.0\"></stop><stop offset=\"0.412698412698\" stop-color=\"rgb(80.4%,84%,92.9%)\" stop-opacity=\"1.0\"></stop><stop offset=\"0.428571428571\" stop-color=\"rgb(82.9%,86%,93.3%)\" stop-opacity=\"1.0\"></stop><stop offset=\"0.444444444444\" stop-color=\"rgb(85.5%,88%,93.7%)\" stop-opacity=\"1.0\"></stop><stop offset=\"0.460317460317\" stop-color=\"rgb(88.1%,90%,94%)\" stop-opacity=\"1.0\"></stop><stop offset=\"0.47619047619\" stop-color=\"rgb(90.8%,92%,94.4%)\" stop-opacity=\"1.0\"></stop><stop offset=\"0.492063492063\" stop-color=\"rgb(93.6%,94%,94.8%)\" stop-opacity=\"1.0\"></stop><stop offset=\"0.507936507937\" stop-color=\"rgb(94.7%,93.8%,93.2%)\" stop-opacity=\"1.0\"></stop><stop offset=\"0.52380952381\" stop-color=\"rgb(94%,91.4%,89.8%)\" stop-opacity=\"1.0\"></stop><stop offset=\"0.539682539683\" stop-color=\"rgb(93.3%,89%,86.3%)\" stop-opacity=\"1.0\"></stop><stop offset=\"0.555555555556\" stop-color=\"rgb(92.6%,86.6%,83%)\" stop-opacity=\"1.0\"></stop><stop offset=\"0.571428571429\" stop-color=\"rgb(92%,84.2%,79.7%)\" stop-opacity=\"1.0\"></stop><stop offset=\"0.587301587302\" stop-color=\"rgb(91.3%,81.8%,76.4%)\" stop-opacity=\"1.0\"></stop><stop offset=\"0.603174603175\" stop-color=\"rgb(90.6%,79.4%,73.2%)\" stop-opacity=\"1.0\"></stop><stop offset=\"0.619047619048\" stop-color=\"rgb(89.9%,77%,70.1%)\" stop-opacity=\"1.0\"></stop><stop offset=\"0.634920634921\" stop-color=\"rgb(89.3%,74.6%,67%)\" stop-opacity=\"1.0\"></stop><stop offset=\"0.650793650794\" stop-color=\"rgb(88.6%,72.1%,64%)\" stop-opacity=\"1.0\"></stop><stop offset=\"0.666666666667\" stop-color=\"rgb(87.9%,69.7%,61%)\" stop-opacity=\"1.0\"></stop><stop offset=\"0.68253968254\" stop-color=\"rgb(87.1%,67.2%,58.2%)\" stop-opacity=\"1.0\"></stop><stop offset=\"0.698412698413\" stop-color=\"rgb(86.4%,64.7%,55.3%)\" stop-opacity=\"1.0\"></stop><stop offset=\"0.714285714286\" stop-color=\"rgb(85.7%,62.2%,52.6%)\" stop-opacity=\"1.0\"></stop><stop offset=\"0.730158730159\" stop-color=\"rgb(84.9%,59.7%,49.9%)\" stop-opacity=\"1.0\"></stop><stop offset=\"0.746031746032\" stop-color=\"rgb(84.2%,57.2%,47.3%)\" stop-opacity=\"1.0\"></stop><stop offset=\"0.761904761905\" stop-color=\"rgb(83.4%,54.7%,44.7%)\" stop-opacity=\"1.0\"></stop><stop offset=\"0.777777777778\" stop-color=\"rgb(82.6%,52.1%,42.2%)\" stop-opacity=\"1.0\"></stop><stop offset=\"0.793650793651\" stop-color=\"rgb(81.8%,49.5%,39.8%)\" stop-opacity=\"1.0\"></stop><stop offset=\"0.809523809524\" stop-color=\"rgb(80.9%,46.9%,37.5%)\" stop-opacity=\"1.0\"></stop><stop offset=\"0.825396825397\" stop-color=\"rgb(80.1%,44.2%,35.2%)\" stop-opacity=\"1.0\"></stop><stop offset=\"0.84126984127\" stop-color=\"rgb(79.2%,41.5%,33%)\" stop-opacity=\"1.0\"></stop><stop offset=\"0.857142857143\" stop-color=\"rgb(78.3%,38.8%,30.9%)\" stop-opacity=\"1.0\"></stop><stop offset=\"0.873015873016\" stop-color=\"rgb(77.4%,36%,28.9%)\" stop-opacity=\"1.0\"></stop><stop offset=\"0.888888888889\" stop-color=\"rgb(76.5%,33.1%,26.9%)\" stop-opacity=\"1.0\"></stop><stop offset=\"0.904761904762\" stop-color=\"rgb(75.6%,30%,25%)\" stop-opacity=\"1.0\"></stop><stop offset=\"0.920634920635\" stop-color=\"rgb(74.6%,26.8%,23.2%)\" stop-opacity=\"1.0\"></stop><stop offset=\"0.936507936508\" stop-color=\"rgb(73.6%,23.4%,21.5%)\" stop-opacity=\"1.0\"></stop><stop offset=\"0.952380952381\" stop-color=\"rgb(72.6%,19.7%,19.9%)\" stop-opacity=\"1.0\"></stop><stop offset=\"0.968253968254\" stop-color=\"rgb(71.6%,15.4%,18.3%)\" stop-opacity=\"1.0\"></stop><stop offset=\"0.984126984127\" stop-color=\"rgb(70.5%,9.92%,16.8%)\" stop-opacity=\"1.0\"></stop><stop offset=\"1.0\" stop-color=\"rgb(69.5%,0.296%,15.5%)\" stop-opacity=\"1.0\"></stop></linearGradient></defs><rect height=\"30\" style=\"fill:url(#tea4e4d6537914b169c074097ad3800e0);stroke:rgb(82.7%,82.7%,82.7%);stroke-opacity:1.0;stroke-width:1.0\" width=\"286.0\" x=\"0.0\" y=\"-15.0\"></rect></g></g><g class=\"toyplot-axes-Axis\" id=\"t352ff245492e4884b9042e925554e2a8\" transform=\"translate(16.0,293.0) rotate(-90.0) translate(0,5.0)\"><g><text style=\"dominant-baseline:central;font-size:10px;font-weight:normal;stroke:none;text-anchor:start\" transform=\"translate(0.0,6)rotate(90)translate(7.0,-0.0)\"><tspan style=\"dominant-baseline:inherit\">0.0, (85, 72, 193)</tspan></text><text style=\"dominant-baseline:central;font-size:10px;font-weight:normal;stroke:none;text-anchor:start\" transform=\"translate(143.0,6)rotate(90)translate(7.0,-0.0)\"><tspan style=\"dominant-baseline:inherit\">0.5, (242, 242, 242)</tspan></text><text style=\"dominant-baseline:central;font-size:10px;font-weight:normal;stroke:none;text-anchor:start\" transform=\"translate(286.0,6)rotate(90)translate(7.0,-0.0)\"><tspan style=\"dominant-baseline:inherit\">1.0, (177, 1, 39)</tspan></text></g></g></g></svg><div class=\"toyplot-controls\"><ul class=\"toyplot-mark-popup\" onmouseleave=\"this.style.visibility='hidden'\" style=\"background:rgba(0%,0%,0%,0.75);border:0;border-radius:6px;color:white;cursor:default;list-style:none;margin:0;padding:5px;position:fixed;visibility:hidden\"><li class=\"toyplot-mark-popup-title\" style=\"color:lightgray;cursor:default;padding:5px;list-style:none;margin:0;\"></li><li class=\"toyplot-mark-popup-save-csv\" onmouseout=\"this.style.color='white';this.style.background='steelblue'\" onmouseover=\"this.style.color='steelblue';this.style.background='white'\" style=\"border-radius:3px;padding:5px;list-style:none;margin:0;\">Save as .csv</li></ul></div></div>"
      ],
      "text/plain": [
       "<toyplot.canvas.Canvas at 0x10a68ca50>"
      ]
     },
     "execution_count": 16,
     "metadata": {},
     "output_type": "execute_result"
    }
   ],
   "source": [
    "# Build arrays of scalars and colors\n",
    "scalar_array = pandas.Series(numpy.linspace(0, 1, 1024))\n",
    "sRGB_array = pandas.Series(diverging_color_map.map_scalar_array(scalar_array))\n",
    "rgb_array = sRGB_array.apply(lambda color: color.get_value_tuple())\n",
    "\n",
    "# Create toyplot colormap object\n",
    "palette = toyplot.color.Palette(colors=rgb_array.values)\n",
    "colormap = toyplot.color.LinearMap(palette=palette,\n",
    "                                   domain_min=0, domain_max=1)\n",
    "\n",
    "# Create toyplot display of colors.\n",
    "canvas = toyplot.Canvas(width=130, height=300)\n",
    "numberline = canvas.numberline(x1=16, x2=16, y1=-7, y2=7)\n",
    "numberline.padding = 5\n",
    "numberline.axis.spine.show = False\n",
    "numberline.colormap(colormap,\n",
    "                    width=30,\n",
    "                    style={'stroke':'lightgrey'})\n",
    "\n",
    "control_point_scalars = [0, 0.5, 1]\n",
    "control_point_labels = []\n",
    "for scalar in control_point_scalars:\n",
    "    control_point_labels.append(\n",
    "        '{:1.1f}, {}'.format(\n",
    "            scalar,\n",
    "            diverging_color_map.map_scalar(scalar).get_upscaled_value_tuple()))\n",
    "\n",
    "numberline.axis.ticks.locator = \\\n",
    "    toyplot.locator.Explicit(locations=control_point_scalars,\n",
    "                             labels=control_point_labels)\n",
    "numberline.axis.ticks.labels.angle = -90\n",
    "numberline.axis.ticks.labels.style = {'text-anchor':'start',\n",
    "                                      'baseline-shift':'0%',\n",
    "                                      '-toyplot-anchor-shift':'7px'\n",
    "                                     }\n",
    "\n",
    "toyplot.svg.render(canvas, 'bent-cool-warm.svg')\n",
    "\n",
    "canvas"
   ]
  },
  {
   "cell_type": "markdown",
   "metadata": {
    "collapsed": true
   },
   "source": [
    "## Color Table Files"
   ]
  },
  {
   "cell_type": "markdown",
   "metadata": {},
   "source": [
    "A convenience function that takes a column of RGB triples in a pandas dataframe, unzips it, and adds three columns to the data frame with the red, green, and blue values."
   ]
  },
  {
   "cell_type": "code",
   "execution_count": 7,
   "metadata": {
    "collapsed": true
   },
   "outputs": [],
   "source": [
    "def unzip_rgb_triple(dataframe, column='RGB'):\n",
    "    '''Given a dataframe and the name of a column holding an RGB triplet,\n",
    "    this function creates new separate columns for the R, G, and B values\n",
    "    with the same name as the original with '_r', '_g', and '_b' appended.'''\n",
    "    # Creates a data frame with separate columns for the triples in the given column\n",
    "    unzipped_rgb = pandas.DataFrame(dataframe[column].values.tolist(),\n",
    "                                    columns=['r', 'g', 'b'])\n",
    "    # Add the columns to the original data frame\n",
    "    dataframe[column + '_r'] = unzipped_rgb['r']\n",
    "    dataframe[column + '_g'] = unzipped_rgb['g']\n",
    "    dataframe[column + '_b'] = unzipped_rgb['b']"
   ]
  },
  {
   "cell_type": "markdown",
   "metadata": {},
   "source": [
    "Create several csv files containing color tables for this color map. We will create color tables of many different sizes from 8 rows to 1024. We also write out one set of csv files for \"upscaled\" color bytes (values 0-255) and another for floating point numbers (0-1)."
   ]
  },
  {
   "cell_type": "code",
   "execution_count": 8,
   "metadata": {
    "collapsed": false
   },
   "outputs": [],
   "source": [
    "for num_bits in xrange(3, 11):\n",
    "    table_length = 2 ** num_bits\n",
    "    color_table = pandas.DataFrame()\n",
    "    color_table['scalar'] = numpy.linspace(0, 1, table_length)\n",
    "    color_table['sRGBColor'] = \\\n",
    "        diverging_color_map.map_scalar_array(color_table['scalar'])\n",
    "    color_table['RGB'] = \\\n",
    "        color_table['sRGBColor'].apply(lambda rgb: rgb.get_upscaled_value_tuple())\n",
    "    color_table['sRGB'] = \\\n",
    "        color_table['sRGBColor'].apply(lambda rgb: rgb.get_value_tuple())\n",
    "    unzip_rgb_triple(color_table, 'RGB')\n",
    "    color_table.to_csv('bent-cool-warm-table-byte-{:04}.csv'.format(table_length),\n",
    "                       index=False,\n",
    "                       columns=['scalar', 'RGB_r', 'RGB_g', 'RGB_b'])\n",
    "    unzip_rgb_triple(color_table, 'sRGB')\n",
    "    color_table.to_csv('bent-cool-warm-table-float-{:04}.csv'.format(table_length),\n",
    "                       index=False,\n",
    "                       columns=['scalar', 'sRGB_r', 'sRGB_g', 'sRGB_b'],\n",
    "                       header=['scalar', 'RGB_r', 'RGB_g', 'RGB_b'])"
   ]
  },
  {
   "cell_type": "markdown",
   "metadata": {
    "collapsed": true
   },
   "source": [
    "Create a color preset file for ParaView. Since ParaView 4.4, JSON files are supported, which makes it easy to export.\n",
    "\n",
    "ParaView can interpolate in Lab space, but not LCH space. To approximate the curve we add several control points."
   ]
  },
  {
   "cell_type": "code",
   "execution_count": 9,
   "metadata": {
    "collapsed": false
   },
   "outputs": [],
   "source": [
    "color_table = pandas.DataFrame()\n",
    "color_table['scalar'] = numpy.linspace(0, 1, 15)\n",
    "color_table['sRGBColor'] = \\\n",
    "    diverging_color_map.map_scalar_array(color_table['scalar'])\n",
    "color_table['sRGB'] = \\\n",
    "    color_table['sRGBColor'].apply(lambda rgb: rgb.get_value_tuple())\n",
    "\n",
    "RGBPoints = []\n",
    "for index in xrange(0, color_table.index.size):\n",
    "    RGBPoints.append(color_table['scalar'][index])\n",
    "    RGBPoints.extend(color_table['sRGB'][index])\n",
    "    \n",
    "#RGBPoints"
   ]
  },
  {
   "cell_type": "code",
   "execution_count": 10,
   "metadata": {
    "collapsed": true
   },
   "outputs": [],
   "source": [
    "import json\n",
    "\n",
    "file_descriptor = open('bent-cool-warm-paraview-colors.json', 'w')\n",
    "json.dump([{'ColorSpace':'Lab',\n",
    "            'Name':'Bent Cool Warm',\n",
    "            'NanColor':[1.0,1.0,0.0],\n",
    "            'RGBPoints':RGBPoints}],\n",
    "          file_descriptor,\n",
    "          indent=2)\n",
    "file_descriptor.close()"
   ]
  },
  {
   "cell_type": "code",
   "execution_count": null,
   "metadata": {
    "collapsed": true
   },
   "outputs": [],
   "source": []
  }
 ],
 "metadata": {
  "kernelspec": {
   "display_name": "Python 2",
   "language": "python",
   "name": "python2"
  },
  "language_info": {
   "codemirror_mode": {
    "name": "ipython",
    "version": 2
   },
   "file_extension": ".py",
   "mimetype": "text/x-python",
   "name": "python",
   "nbconvert_exporter": "python",
   "pygments_lexer": "ipython2",
   "version": "2.7.11"
  }
 },
 "nbformat": 4,
 "nbformat_minor": 0
}
