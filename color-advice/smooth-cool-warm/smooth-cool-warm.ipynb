{
 "cells": [
  {
   "cell_type": "markdown",
   "metadata": {},
   "source": [
    "# Diverging Color Maps\n",
    "\n",
    "This notebook describes the creation of some diverging color maps for scientific visualization. The techniques are based on \"[Diverging Color Maps for Scientific Visualization](http://www.kennethmoreland.com/color-maps/)\" by Kenneth Moreland. It describes a diverging (double-ended) color map with a smooth transition in the middle to prevent artifacts at the midpoint."
   ]
  },
  {
   "cell_type": "code",
   "execution_count": 1,
   "metadata": {
    "collapsed": true
   },
   "outputs": [],
   "source": [
    "from __future__ import print_function"
   ]
  },
  {
   "cell_type": "markdown",
   "metadata": {},
   "source": [
    "## Msh Color Space\n",
    "\n",
    "The diverging color maps are based off of a color space named Msh, which is simply polar coordinates for the CIELAB space. Here is the creating of an actual `MshColor` class for the `colormath` python package as well as the conversion function for it."
   ]
  },
  {
   "cell_type": "code",
   "execution_count": 2,
   "metadata": {
    "collapsed": false
   },
   "outputs": [],
   "source": [
    "from colormath.color_objects import *\n",
    "from colormath.color_conversions import convert_color, color_conversion_function\n",
    "from colormath import color_diff"
   ]
  },
  {
   "cell_type": "code",
   "execution_count": 3,
   "metadata": {
    "collapsed": true
   },
   "outputs": [],
   "source": [
    "class MshColor(IlluminantMixin, ColorBase):\n",
    "    '''\n",
    "    Represents an Msh color as defined by [Moreland2009]. The Msh color space\n",
    "    is basically just a polar representation of CIE Lab space.\n",
    "    See `Diverging Color Maps for Scientific Visualization\n",
    "    <http://www.kennethmoreland.com/color-maps/>` for more information.\n",
    "    '''\n",
    "\n",
    "    VALUES = ['msh_m', 'msh_s', 'msh_h']\n",
    "\n",
    "    def __init__(self, msh_m, msh_s, msh_h, observer='2', illuminant='d50'):\n",
    "        \"\"\"\n",
    "        :param float msh_m: M coordinate.\n",
    "        :param float msh_s: s coordinate.\n",
    "        :param float msh_h: h coordinate.\n",
    "        :keyword str observer: Observer angle. Either ```2``` or ```10``` degrees.\n",
    "        :keyword str illuminant: See :doc:`illuminants` for valid values.\n",
    "        \"\"\"\n",
    "\n",
    "        super(MshColor, self).__init__()\n",
    "        #: M coordinate\n",
    "        self.msh_m = float(msh_m)\n",
    "        #: C coordinate\n",
    "        self.msh_s = float(msh_s)\n",
    "        #: H coordinate\n",
    "        self.msh_h = float(msh_h)\n",
    "\n",
    "        #: The color's observer angle. Set with :py:meth:`set_observer`.\n",
    "        self.observer = None\n",
    "        #: The color's illuminant. Set with :py:meth:`set_illuminant`.\n",
    "        self.illuminant = None\n",
    "\n",
    "        self.set_observer(observer)\n",
    "        self.set_illuminant(illuminant)\n",
    "\n",
    "@color_conversion_function(LabColor, MshColor)\n",
    "def Lab_to_Msh(cobj, *args, **kwargs):\n",
    "    \"\"\"\n",
    "    Convert from CIE Lab to Msh.\n",
    "    \"\"\"\n",
    "\n",
    "    msh_m = math.sqrt(math.pow(float(cobj.lab_l),2) +\n",
    "                      math.pow(float(cobj.lab_a),2) +\n",
    "                      math.pow(float(cobj.lab_b),2))\n",
    "    msh_s = math.acos(float(cobj.lab_l)/msh_m)\n",
    "    msh_h = math.atan2(float(cobj.lab_b), float(cobj.lab_a))\n",
    "    \n",
    "    return MshColor(msh_m, msh_s, msh_h,\n",
    "                    observer=cobj.observer,\n",
    "                    illuminant=cobj.illuminant)\n",
    "\n",
    "@color_conversion_function(MshColor, LabColor)\n",
    "def Msh_to_Lab(cobj, *args, **kwargs):\n",
    "    \"\"\"\n",
    "    Convert from Msh to Lab.\n",
    "    \"\"\"\n",
    "    \n",
    "    lab_l = cobj.msh_m * math.cos(float(cobj.msh_s))\n",
    "    lab_a = cobj.msh_m * math.sin(float(cobj.msh_s)) * math.cos(float(cobj.msh_h))\n",
    "    lab_b = cobj.msh_m * math.sin(float(cobj.msh_s)) * math.sin(float(cobj.msh_h))\n",
    "    return LabColor(lab_l, lab_a, lab_b,\n",
    "                    illuminant=cobj.illuminant,\n",
    "                    observer=cobj.observer)"
   ]
  },
  {
   "cell_type": "markdown",
   "metadata": {},
   "source": [
    "## Diverging Color Map Generation\n",
    "\n",
    "Here we create a class named `SmoothDivergingColorMap` designed to create diverging color maps based on the definition of the endpoints."
   ]
  },
  {
   "cell_type": "code",
   "execution_count": 4,
   "metadata": {
    "collapsed": true
   },
   "outputs": [],
   "source": [
    "import numpy"
   ]
  },
  {
   "cell_type": "code",
   "execution_count": 5,
   "metadata": {
    "collapsed": false
   },
   "outputs": [],
   "source": [
    "class SmoothDivergingColorMap:\n",
    "    def __init__(self,\n",
    "                 low_color=sRGBColor(0.230, 0.299, 0.754),\n",
    "                 high_color=sRGBColor(0.706, 0.016, 0.150),\n",
    "                 mid_color=MshColor(88.0, 0.0, 0.0)):\n",
    "        \"\"\"\n",
    "        :param color low_color: The color at the low end of the map.\n",
    "        :param color high_color: The color at the high end of the map.\n",
    "        :param color mid_color: The color at the middle of the map. Should be unsaturated.\n",
    "        \"\"\"\n",
    "        self.low_msh = convert_color(low_color, MshColor)\n",
    "        self.high_msh = convert_color(high_color, MshColor)\n",
    "        \n",
    "        # If the points are saturated and distinct, then we place a white point\n",
    "        # in the middle. Otherwise we ignore it.\n",
    "        if self.low_msh.msh_s > 0.05:\n",
    "            if self.high_msh.msh_s > 0.05:\n",
    "                if (abs(self.low_msh.msh_h - self.high_msh.msh_h) > math.pi/3.0) \\\n",
    "                     and mid_color:\n",
    "                    # Both endpoints are saturated and unique and a midpoint was\n",
    "                    # given. Interpolate through this midpoint and compute an\n",
    "                    # appropriate hue spin.\n",
    "                    mid_msh = convert_color(mid_color, MshColor)\n",
    "                    self.midpoint_magnitude = mid_msh.msh_m\n",
    "                    self.midpoint_low_hue = self.compute_hue_spin(self.low_msh,mid_msh)\n",
    "                    self.midpoint_high_hue = self.compute_hue_spin(self.high_msh,mid_msh)\n",
    "                else:\n",
    "                    # Both endpoints are distinct colors, but they are either very close\n",
    "                    # in hue or no middle point was given. In this case, interpolate\n",
    "                    # directly between them.\n",
    "                    self.midpoint_magnitude = None\n",
    "            else:\n",
    "                # The low color is saturated but the high color is unsaturated.\n",
    "                # Interpolate directly between them, but adjust the hue of the unsaturated\n",
    "                # high color.\n",
    "                self.midpoint_magnitude = None\n",
    "                self.high_msh.msh_h = self.compute_hue_spin(self.low_msh, self.high_msh)\n",
    "        else:\n",
    "            # The low color is unsaturated. Assume the high color is saturated. (If not,\n",
    "            # then this is a boring map no matter what we do.) Interpolate directly\n",
    "            # between them, but adjust the hue of the unsaturated low color.\n",
    "            self.midpoint_magnitude = None\n",
    "            self.low_msh.msh_h = self.compute_hue_spin(self.high_msh, self.low_msh)\n",
    "            \n",
    "    def compute_hue_spin(self, MshSaturated, MshUnsaturated):\n",
    "        '''\n",
    "        Given a saturated color and unsaturated color, both as MshColor objects,\n",
    "        computes a spin component to use during interpolation in Msh space. The spin\n",
    "        is considered the target hue to interpolate to.\n",
    "        '''\n",
    "        if MshSaturated.msh_m >= MshUnsaturated.msh_m:\n",
    "            return MshSaturated.msh_h\n",
    "        else:\n",
    "            hSpin = (MshSaturated.msh_s * \n",
    "                     math.sqrt(math.pow(MshUnsaturated.msh_m,2) - \n",
    "                               math.pow(MshSaturated.msh_m,2)) /\n",
    "                     (MshSaturated.msh_m * math.sin(MshSaturated.msh_s)))\n",
    "            if MshSaturated.msh_h > -math.pi/3:\n",
    "                return MshSaturated.msh_h + hSpin\n",
    "            else:\n",
    "                return MshSaturated.msh_h - hSpin\n",
    "                \n",
    "    def print_self(self):\n",
    "        print('Low Color:')\n",
    "        print('\\t', self.low_msh)\n",
    "        print('\\t', convert_color(self.low_msh, LabColor))\n",
    "        print('\\t', convert_color(self.low_msh, sRGBColor))\n",
    "        \n",
    "        print('Middle Color:')\n",
    "        if (self.midpoint_magnitude):\n",
    "            print('\\t Magnitude', self.midpoint_magnitude)\n",
    "            print('\\t Low Hue', self.midpoint_low_hue)\n",
    "            print('\\t High Hue', self.midpoint_high_hue)\n",
    "        else:\n",
    "            print('\\t No Midpoint')\n",
    "\n",
    "        print('High Color:')\n",
    "        print('\\t', self.high_msh)\n",
    "        print('\\t', convert_color(self.high_msh, LabColor))\n",
    "        print('\\t', convert_color(self.high_msh, sRGBColor))\n",
    "        \n",
    "    def map_scalar(self, scalar, space=MshColor):\n",
    "        '''\n",
    "        Given a scalar value between 0 and 1, map to a color. The color is\n",
    "        returned as a sRGBColor object.\n",
    "        \n",
    "        :param float scalar: The value to map to a color.\n",
    "        :param color_object space: The colormath color object to do interpolation in.\n",
    "        '''\n",
    "        if scalar < 0:\n",
    "            return convert_color(self.low_msh, sRGBColor)\n",
    "        if scalar > 1:\n",
    "            return convert_color(self.high_msh, sRGBColor)\n",
    "        \n",
    "        interp = scalar\n",
    "        low_color = convert_color(self.low_msh, space)\n",
    "        high_color = convert_color(self.high_msh, space)\n",
    "        if self.midpoint_magnitude:\n",
    "            # Adjust the interpolation around the midpoint\n",
    "            if scalar < 0.5:\n",
    "                interp = 2*scalar\n",
    "                high_msh = MshColor(self.midpoint_magnitude, 0, self.midpoint_low_hue)\n",
    "                high_color = convert_color(high_msh, space)\n",
    "            else:\n",
    "                interp = 2*scalar - 1\n",
    "                low_msh = MshColor(self.midpoint_magnitude, 0, self.midpoint_high_hue)\n",
    "                low_color = convert_color(low_msh, space)\n",
    "        low_color = numpy.array(low_color.get_value_tuple())\n",
    "        high_color = numpy.array(high_color.get_value_tuple())\n",
    "        \n",
    "        mid_color = interp*(high_color-low_color) + low_color\n",
    "        rgb = convert_color(space(mid_color[0], mid_color[1], mid_color[2]), sRGBColor)\n",
    "        \n",
    "        if ((rgb.rgb_r < -0.0019) or (rgb.rgb_r > 1.0019) or\n",
    "            (rgb.rgb_g < -0.0019) or (rgb.rgb_g > 1.0019) or\n",
    "            (rgb.rgb_b < -0.0019) or (rgb.rgb_b > 1.0019)):\n",
    "            print('WARNING: Value at scalar %1.4f is out of range' % scalar,\n",
    "                  rgb.get_value_tuple())\n",
    "            \n",
    "        return rgb\n",
    "    \n",
    "    def map_scalar_array(self, scalar_array, space=MshColor):\n",
    "        '''\n",
    "        Given an array of scalar values between 0 and 1, map them to colors.\n",
    "        The color is returned as a sRGBColor object.\n",
    "        \n",
    "        :param float scalar_array: Array of values to map to colors.\n",
    "        :param color_object space: The colormath color object to do interpolation in.\n",
    "        '''\n",
    "        f = numpy.vectorize(lambda x: self.map_scalar(x, space))\n",
    "        return f(scalar_array)\n"
   ]
  },
  {
   "cell_type": "markdown",
   "metadata": {
    "collapsed": true
   },
   "source": [
    "## Color Plots\n",
    "\n",
    "Now that we have a class that helps us create color maps, create some plots on its colors and properties. We are plugging in the default colors here, but you can easily change them to experiment with other colors."
   ]
  },
  {
   "cell_type": "code",
   "execution_count": 6,
   "metadata": {
    "collapsed": false
   },
   "outputs": [
    {
     "name": "stdout",
     "output_type": "stream",
     "text": [
      "Low Color:\n",
      "\t MshColor (msh_m:80.0154 msh_s:1.0797 msh_h:-1.1002)\n",
      "\t LabColor (lab_l:37.7323 lab_a:31.9920 lab_b:-62.8908)\n",
      "\t sRGBColor (rgb_r:0.2300 rgb_g:0.2990 rgb_b:0.7540)\n",
      "Middle Color:\n",
      "\t Magnitude 88.0009372169\n",
      "\t Low Hue -1.66073086295\n",
      "\t High Hue 1.06068504431\n",
      "High Color:\n",
      "\t MshColor (msh_m:80.0316 msh_s:1.0798 msh_h:0.5008)\n",
      "\t LabColor (lab_l:37.7337 lab_a:61.9104 lab_b:33.8870)\n",
      "\t sRGBColor (rgb_r:0.7060 rgb_g:0.0160 rgb_b:0.1500)\n"
     ]
    }
   ],
   "source": [
    "diverging_color_map = SmoothDivergingColorMap(\n",
    "    low_color=sRGBColor(0.230, 0.299, 0.754),\n",
    "    high_color=sRGBColor(0.706, 0.016, 0.150),\n",
    "    mid_color=sRGBColor(0.8654, 0.8654, 0.8654))\n",
    "diverging_color_map.print_self()"
   ]
  },
  {
   "cell_type": "code",
   "execution_count": 7,
   "metadata": {
    "collapsed": true
   },
   "outputs": [],
   "source": [
    "import toyplot\n",
    "import toyplot.svg\n",
    "\n",
    "import pandas"
   ]
  },
  {
   "cell_type": "code",
   "execution_count": 8,
   "metadata": {
    "collapsed": false
   },
   "outputs": [
    {
     "data": {
      "text/html": [
       "<div align=\"center\" class=\"toyplot\" id=\"t89f635ec4a3b4342a7b622884a7578e0\"><svg height=\"300.0px\" id=\"t42180627ffdd43f98c6a6ba29ffd1f19\" preserveAspectRatio=\"xMidYMid meet\" style=\"background-color:transparent;fill:rgb(16.1%,15.3%,14.1%);fill-opacity:1.0;font-family:Helvetica;font-size:12px;opacity:1.0;stroke:rgb(16.1%,15.3%,14.1%);stroke-opacity:1.0;stroke-width:1.0\" viewBox=\"0 0 130.0 300.0\" width=\"130.0px\" xmlns=\"http://www.w3.org/2000/svg\" xmlns:toyplot=\"http://www.sandia.gov/toyplot\"><g class=\"toyplot-axes-NumberLine\" id=\"t9b884e514d2144438480c734441328d4\"><g class=\"toyplot-coordinate-events\"><g class=\"toyplot-color-Map\" id=\"t349b9f5e479d4bafb6501afc5ecd3264\" transform=\"translate(16.0,293.0) rotate(-90.0) translate(0,-0.0)\"><defs><linearGradient gradientUnits=\"userSpaceOnUse\" id=\"tee88044a51e8492f9221e80ff720a6f6\" x1=\"0.0\" x2=\"286.0\" y1=\"0\" y2=\"0\"><stop offset=\"0.0\" stop-color=\"rgb(33.5%,28.3%,75.6%)\" stop-opacity=\"1.0\"></stop><stop offset=\"0.015873015873\" stop-color=\"rgb(35.2%,31.2%,78.1%)\" stop-opacity=\"1.0\"></stop><stop offset=\"0.031746031746\" stop-color=\"rgb(36.9%,34%,80.5%)\" stop-opacity=\"1.0\"></stop><stop offset=\"0.047619047619\" stop-color=\"rgb(38.6%,36.8%,82.8%)\" stop-opacity=\"1.0\"></stop><stop offset=\"0.0634920634921\" stop-color=\"rgb(40.3%,39.6%,84.9%)\" stop-opacity=\"1.0\"></stop><stop offset=\"0.0793650793651\" stop-color=\"rgb(42%,42.3%,86.9%)\" stop-opacity=\"1.0\"></stop><stop offset=\"0.0952380952381\" stop-color=\"rgb(43.8%,45%,88.8%)\" stop-opacity=\"1.0\"></stop><stop offset=\"0.111111111111\" stop-color=\"rgb(45.5%,47.6%,90.6%)\" stop-opacity=\"1.0\"></stop><stop offset=\"0.126984126984\" stop-color=\"rgb(47.3%,50.2%,92.2%)\" stop-opacity=\"1.0\"></stop><stop offset=\"0.142857142857\" stop-color=\"rgb(49%,52.8%,93.7%)\" stop-opacity=\"1.0\"></stop><stop offset=\"0.15873015873\" stop-color=\"rgb(50.8%,55.3%,95%)\" stop-opacity=\"1.0\"></stop><stop offset=\"0.174603174603\" stop-color=\"rgb(52.6%,57.7%,96.2%)\" stop-opacity=\"1.0\"></stop><stop offset=\"0.190476190476\" stop-color=\"rgb(54.3%,60.1%,97.2%)\" stop-opacity=\"1.0\"></stop><stop offset=\"0.206349206349\" stop-color=\"rgb(56.1%,62.4%,98.1%)\" stop-opacity=\"1.0\"></stop><stop offset=\"0.222222222222\" stop-color=\"rgb(57.9%,64.6%,98.8%)\" stop-opacity=\"1.0\"></stop><stop offset=\"0.238095238095\" stop-color=\"rgb(59.7%,66.7%,99.4%)\" stop-opacity=\"1.0\"></stop><stop offset=\"0.253968253968\" stop-color=\"rgb(61.5%,68.8%,99.8%)\" stop-opacity=\"1.0\"></stop><stop offset=\"0.269841269841\" stop-color=\"rgb(63.3%,70.7%,100%)\" stop-opacity=\"1.0\"></stop><stop offset=\"0.285714285714\" stop-color=\"rgb(65.1%,72.6%,100%)\" stop-opacity=\"1.0\"></stop><stop offset=\"0.301587301587\" stop-color=\"rgb(66.8%,74.3%,100%)\" stop-opacity=\"1.0\"></stop><stop offset=\"0.31746031746\" stop-color=\"rgb(68.6%,76%,99.9%)\" stop-opacity=\"1.0\"></stop><stop offset=\"0.333333333333\" stop-color=\"rgb(70.3%,77.6%,99.5%)\" stop-opacity=\"1.0\"></stop><stop offset=\"0.349206349206\" stop-color=\"rgb(72.1%,79%,99%)\" stop-opacity=\"1.0\"></stop><stop offset=\"0.365079365079\" stop-color=\"rgb(73.8%,80.3%,98.3%)\" stop-opacity=\"1.0\"></stop><stop offset=\"0.380952380952\" stop-color=\"rgb(75.4%,81.5%,97.4%)\" stop-opacity=\"1.0\"></stop><stop offset=\"0.396825396825\" stop-color=\"rgb(77.1%,82.6%,96.4%)\" stop-opacity=\"1.0\"></stop><stop offset=\"0.412698412698\" stop-color=\"rgb(78.7%,83.6%,95.3%)\" stop-opacity=\"1.0\"></stop><stop offset=\"0.428571428571\" stop-color=\"rgb(80.2%,84.4%,94%)\" stop-opacity=\"1.0\"></stop><stop offset=\"0.444444444444\" stop-color=\"rgb(81.7%,85.1%,92.6%)\" stop-opacity=\"1.0\"></stop><stop offset=\"0.460317460317\" stop-color=\"rgb(83.2%,85.7%,91%)\" stop-opacity=\"1.0\"></stop><stop offset=\"0.47619047619\" stop-color=\"rgb(84.6%,86.1%,89.3%)\" stop-opacity=\"1.0\"></stop><stop offset=\"0.492063492063\" stop-color=\"rgb(85.9%,86.4%,87.5%)\" stop-opacity=\"1.0\"></stop><stop offset=\"0.507936507937\" stop-color=\"rgb(87.3%,86.2%,85.4%)\" stop-opacity=\"1.0\"></stop><stop offset=\"0.52380952381\" stop-color=\"rgb(88.7%,85.4%,83.2%)\" stop-opacity=\"1.0\"></stop><stop offset=\"0.539682539683\" stop-color=\"rgb(90%,84.4%,80.8%)\" stop-opacity=\"1.0\"></stop><stop offset=\"0.555555555556\" stop-color=\"rgb(91.1%,83.3%,78.5%)\" stop-opacity=\"1.0\"></stop><stop offset=\"0.571428571429\" stop-color=\"rgb(92.2%,82.1%,76.1%)\" stop-opacity=\"1.0\"></stop><stop offset=\"0.587301587302\" stop-color=\"rgb(93%,80.8%,73.6%)\" stop-opacity=\"1.0\"></stop><stop offset=\"0.603174603175\" stop-color=\"rgb(93.8%,79.3%,71.2%)\" stop-opacity=\"1.0\"></stop><stop offset=\"0.619047619048\" stop-color=\"rgb(94.4%,77.7%,68.7%)\" stop-opacity=\"1.0\"></stop><stop offset=\"0.634920634921\" stop-color=\"rgb(94.8%,76%,66.2%)\" stop-opacity=\"1.0\"></stop><stop offset=\"0.650793650794\" stop-color=\"rgb(95.2%,74.2%,63.7%)\" stop-opacity=\"1.0\"></stop><stop offset=\"0.666666666667\" stop-color=\"rgb(95.4%,72.3%,61.2%)\" stop-opacity=\"1.0\"></stop><stop offset=\"0.68253968254\" stop-color=\"rgb(95.4%,70.2%,58.7%)\" stop-opacity=\"1.0\"></stop><stop offset=\"0.698412698413\" stop-color=\"rgb(95.3%,68.1%,56.2%)\" stop-opacity=\"1.0\"></stop><stop offset=\"0.714285714286\" stop-color=\"rgb(95.1%,65.8%,53.7%)\" stop-opacity=\"1.0\"></stop><stop offset=\"0.730158730159\" stop-color=\"rgb(94.8%,63.5%,51.2%)\" stop-opacity=\"1.0\"></stop><stop offset=\"0.746031746032\" stop-color=\"rgb(94.3%,61%,48.8%)\" stop-opacity=\"1.0\"></stop><stop offset=\"0.761904761905\" stop-color=\"rgb(93.6%,58.5%,46.4%)\" stop-opacity=\"1.0\"></stop><stop offset=\"0.777777777778\" stop-color=\"rgb(92.9%,55.9%,44%)\" stop-opacity=\"1.0\"></stop><stop offset=\"0.793650793651\" stop-color=\"rgb(92%,53.1%,41.6%)\" stop-opacity=\"1.0\"></stop><stop offset=\"0.809523809524\" stop-color=\"rgb(91%,50.3%,39.3%)\" stop-opacity=\"1.0\"></stop><stop offset=\"0.825396825397\" stop-color=\"rgb(89.8%,47.4%,37%)\" stop-opacity=\"1.0\"></stop><stop offset=\"0.84126984127\" stop-color=\"rgb(88.5%,44.5%,34.8%)\" stop-opacity=\"1.0\"></stop><stop offset=\"0.857142857143\" stop-color=\"rgb(87.1%,41.4%,32.6%)\" stop-opacity=\"1.0\"></stop><stop offset=\"0.873015873016\" stop-color=\"rgb(85.6%,38.2%,30.5%)\" stop-opacity=\"1.0\"></stop><stop offset=\"0.888888888889\" stop-color=\"rgb(84%,34.9%,28.4%)\" stop-opacity=\"1.0\"></stop><stop offset=\"0.904761904762\" stop-color=\"rgb(82.2%,31.5%,26.3%)\" stop-opacity=\"1.0\"></stop><stop offset=\"0.920634920635\" stop-color=\"rgb(80.3%,28%,24.4%)\" stop-opacity=\"1.0\"></stop><stop offset=\"0.936507936508\" stop-color=\"rgb(78.4%,24.2%,22.5%)\" stop-opacity=\"1.0\"></stop><stop offset=\"0.952380952381\" stop-color=\"rgb(76.3%,20.1%,20.6%)\" stop-opacity=\"1.0\"></stop><stop offset=\"0.968253968254\" stop-color=\"rgb(74.1%,15.5%,18.8%)\" stop-opacity=\"1.0\"></stop><stop offset=\"0.984126984127\" stop-color=\"rgb(71.8%,9.83%,17.1%)\" stop-opacity=\"1.0\"></stop><stop offset=\"1.0\" stop-color=\"rgb(69.5%,0.296%,15.5%)\" stop-opacity=\"1.0\"></stop></linearGradient></defs><rect height=\"30\" style=\"fill:url(#tee88044a51e8492f9221e80ff720a6f6);stroke:rgb(82.7%,82.7%,82.7%);stroke-opacity:1.0;stroke-width:1.0\" width=\"286.0\" x=\"0.0\" y=\"-15.0\"></rect></g></g><g class=\"toyplot-axes-Axis\" id=\"t194c1851fe174c42a42eafd7e153038b\" transform=\"translate(16.0,293.0) rotate(-90.0) translate(0,5.0)\"><g><text dx=\"15px\" style=\"-toyplot-anchor-shift:15px;alignment-baseline:middle;baseline-shift:0%;font-size:10px;font-weight:normal;stroke:none;text-anchor:start\" transform=\"translate(0.0,0) rotate(90)\" x=\"0\" y=\"0\">0.0, (85, 72, 193)</text><text dx=\"15px\" style=\"-toyplot-anchor-shift:15px;alignment-baseline:middle;baseline-shift:0%;font-size:10px;font-weight:normal;stroke:none;text-anchor:start\" transform=\"translate(143.0,0) rotate(90)\" x=\"0\" y=\"0\">0.5, (221, 221, 221)</text><text dx=\"15px\" style=\"-toyplot-anchor-shift:15px;alignment-baseline:middle;baseline-shift:0%;font-size:10px;font-weight:normal;stroke:none;text-anchor:start\" transform=\"translate(286.0,0) rotate(90)\" x=\"0\" y=\"0\">1.0, (177, 1, 39)</text></g></g></g></svg><div class=\"toyplot-controls\"><ul class=\"toyplot-mark-popup\" onmouseleave=\"this.style.visibility='hidden'\" style=\"background:rgba(0%,0%,0%,0.75);border:0;border-radius:6px;color:white;cursor:default;list-style:none;margin:0;padding:5px;position:fixed;visibility:hidden\"><li class=\"toyplot-mark-popup-title\" style=\"color:lightgray;cursor:default;padding:5px;list-style:none;margin:0;\"></li><li class=\"toyplot-mark-popup-save-csv\" onmouseout=\"this.style.color='white';this.style.background='steelblue'\" onmouseover=\"this.style.color='steelblue';this.style.background='white'\" style=\"border-radius:3px;padding:5px;list-style:none;margin:0;\">Save as .csv</li></ul><script>\n",
       "(function()\n",
       "{\n",
       "  if(window.CSS !== undefined && window.CSS.supports !== undefined)\n",
       "  {\n",
       "    if(!window.CSS.supports(\"alignment-baseline\", \"middle\"))\n",
       "    {\n",
       "      var re = /\\s*alignment-baseline\\s*:\\s*([^;\\s]*)\\s*/;\n",
       "      var text = document.querySelectorAll(\"#t89f635ec4a3b4342a7b622884a7578e0 text\");\n",
       "      for(var i = 0; i != text.length; ++i)\n",
       "      {\n",
       "        var match = re.exec(text[i].attributes.style.value);\n",
       "        if(match)\n",
       "        {\n",
       "          if(match[1] == \"middle\")\n",
       "          {\n",
       "            var style = getComputedStyle(text[i]);\n",
       "            var font_size = style.fontSize.substr(0, style.fontSize.length - 2);\n",
       "            var dy = text[i].dy.baseVal.length ? text[i].dy.baseVal[0].value : 0;\n",
       "            dy += 0.4 * font_size;\n",
       "            text[i].setAttribute(\"dy\", dy);\n",
       "          }\n",
       "        }\n",
       "      }\n",
       "    }\n",
       "    if(!window.CSS.supports(\"baseline-shift\", \"0\"))\n",
       "    {\n",
       "      var re = /\\s*baseline-shift\\s*:\\s*([^;\\s]*)\\s*/;\n",
       "      var text = document.querySelectorAll(\"#t89f635ec4a3b4342a7b622884a7578e0 text\");\n",
       "      for(var i = 0; i != text.length; ++i)\n",
       "      {\n",
       "        var match = re.exec(text[i].attributes.style.value);\n",
       "        if(match)\n",
       "        {\n",
       "          var style = getComputedStyle(text[i]);\n",
       "          var font_size = style.fontSize.substr(0, style.fontSize.length - 2);\n",
       "          var percent = 0.01 * match[1].substr(0, match[1].length-1);\n",
       "          var dy = text[i].dy.baseVal.length ? text[i].dy.baseVal[0].value : 0;\n",
       "          dy -= percent * font_size\n",
       "          text[i].setAttribute(\"dy\", dy);\n",
       "        }\n",
       "      }\n",
       "    }\n",
       "  }\n",
       "})();\n",
       "</script></div></div>"
      ],
      "text/plain": [
       "<toyplot.canvas.Canvas at 0x107e27ad0>"
      ]
     },
     "execution_count": 8,
     "metadata": {},
     "output_type": "execute_result"
    }
   ],
   "source": [
    "# Build arrays of scalars and colors\n",
    "scalar_array = pandas.Series(numpy.linspace(0, 1, 1024))\n",
    "sRGB_array = pandas.Series(diverging_color_map.map_scalar_array(scalar_array))\n",
    "rgb_array = sRGB_array.apply(lambda color: color.get_value_tuple())\n",
    "\n",
    "# Create toyplot colormap object\n",
    "palette = toyplot.color.Palette(colors=rgb_array.values)\n",
    "colormap = toyplot.color.LinearMap(palette=palette,\n",
    "                                   domain_min=0, domain_max=1)\n",
    "\n",
    "# Create toyplot display of colors.\n",
    "canvas = toyplot.Canvas(width=130, height=300)\n",
    "numberline = canvas.numberline(x1=16, x2=16, y1=-7, y2=7)\n",
    "numberline.padding = 5\n",
    "numberline.axis.spine.show = False\n",
    "numberline.colormap(colormap,\n",
    "                    width=30,\n",
    "                    style={'stroke':'lightgrey'})\n",
    "\n",
    "control_point_scalars = [0, 0.5, 1]\n",
    "control_point_labels = []\n",
    "for scalar in control_point_scalars:\n",
    "    control_point_labels.append(\n",
    "        '{:1.1f}, {}'.format(\n",
    "            scalar,\n",
    "            diverging_color_map.map_scalar(scalar).get_upscaled_value_tuple()))\n",
    "\n",
    "numberline.axis.ticks.locator = \\\n",
    "    toyplot.locator.Explicit(locations=control_point_scalars,\n",
    "                             labels=control_point_labels)\n",
    "numberline.axis.ticks.labels.angle = -90\n",
    "numberline.axis.ticks.labels.style = {'text-anchor':'start',\n",
    "                                      'baseline-shift':'0%',\n",
    "                                      '-toyplot-anchor-shift':'15px'}\n",
    "\n",
    "toyplot.svg.render(canvas, 'smooth-cool-warm.svg')\n",
    "\n",
    "canvas"
   ]
  },
  {
   "cell_type": "markdown",
   "metadata": {
    "collapsed": true
   },
   "source": [
    "## Color Table Files"
   ]
  },
  {
   "cell_type": "markdown",
   "metadata": {},
   "source": [
    "A convenience function that takes a column of RGB triples in a pandas dataframe, unzips it, and adds three columns to the data frame with the red, green, and blue values."
   ]
  },
  {
   "cell_type": "code",
   "execution_count": 9,
   "metadata": {
    "collapsed": true
   },
   "outputs": [],
   "source": [
    "def unzip_rgb_triple(dataframe, column='RGB'):\n",
    "    '''Given a dataframe and the name of a column holding an RGB triplet,\n",
    "    this function creates new separate columns for the R, G, and B values\n",
    "    with the same name as the original with '_r', '_g', and '_b' appended.'''\n",
    "    # Creates a data frame with separate columns for the triples in the given column\n",
    "    unzipped_rgb = pandas.DataFrame(dataframe[column].values.tolist(),\n",
    "                                    columns=['r', 'g', 'b'])\n",
    "    # Add the columns to the original data frame\n",
    "    dataframe[column + '_r'] = unzipped_rgb['r']\n",
    "    dataframe[column + '_g'] = unzipped_rgb['g']\n",
    "    dataframe[column + '_b'] = unzipped_rgb['b']"
   ]
  },
  {
   "cell_type": "markdown",
   "metadata": {},
   "source": [
    "Create several csv files containing color tables for this color map. We will create color tables of many different sizes from 8 rows to 1024. We also write out one set of csv files for \"upscaled\" color bytes (values 0-255) and another for floating point numbers (0-1)."
   ]
  },
  {
   "cell_type": "code",
   "execution_count": 10,
   "metadata": {
    "collapsed": false
   },
   "outputs": [],
   "source": [
    "for num_bits in xrange(3, 11):\n",
    "    table_length = 2 ** num_bits\n",
    "    color_table = pandas.DataFrame()\n",
    "    color_table['scalar'] = numpy.linspace(0, 1, table_length)\n",
    "    color_table['sRGBColor'] = \\\n",
    "        diverging_color_map.map_scalar_array(color_table['scalar'])\n",
    "    color_table['RGB'] = \\\n",
    "        color_table['sRGBColor'].apply(lambda rgb: rgb.get_upscaled_value_tuple())\n",
    "    color_table['sRGB'] = \\\n",
    "        color_table['sRGBColor'].apply(lambda rgb: rgb.get_value_tuple())\n",
    "    unzip_rgb_triple(color_table, 'RGB')\n",
    "    color_table.to_csv('smooth-cool-warm-table-byte-{:04}.csv'.format(table_length),\n",
    "                       index=False,\n",
    "                       columns=['scalar', 'RGB_r', 'RGB_g', 'RGB_b'])\n",
    "    unzip_rgb_triple(color_table, 'sRGB')\n",
    "    color_table.to_csv('smooth-cool-warm-table-float-{:04}.csv'.format(table_length),\n",
    "                       index=False,\n",
    "                       columns=['scalar', 'sRGB_r', 'sRGB_g', 'sRGB_b'],\n",
    "                       header=['scalar', 'RGB_r', 'RGB_g', 'RGB_b'])"
   ]
  },
  {
   "cell_type": "code",
   "execution_count": null,
   "metadata": {
    "collapsed": true
   },
   "outputs": [],
   "source": []
  }
 ],
 "metadata": {
  "kernelspec": {
   "display_name": "Python 2",
   "language": "python",
   "name": "python2"
  },
  "language_info": {
   "codemirror_mode": {
    "name": "ipython",
    "version": 2
   },
   "file_extension": ".py",
   "mimetype": "text/x-python",
   "name": "python",
   "nbconvert_exporter": "python",
   "pygments_lexer": "ipython2",
   "version": "2.7.11"
  }
 },
 "nbformat": 4,
 "nbformat_minor": 0
}
