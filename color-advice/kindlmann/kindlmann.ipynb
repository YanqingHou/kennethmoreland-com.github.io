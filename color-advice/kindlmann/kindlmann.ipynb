{
 "cells": [
  {
   "cell_type": "markdown",
   "metadata": {},
   "source": [
    "# Kindlmann Color Map\n",
    "\n",
    "This iPython notebook contains the script required to derive what is often known as the Kindlmann color map, so named because its first known design is in a paper by [Kindlmann, Reinhard, and Creem](http://www.cs.utah.edu/~gk/papers/vis02/), although this derivation takes inspiration from other sources. The map is basically the rainbow color map with the luminance adjusted such that it monotonically changes, making it much more perceptually viable."
   ]
  },
  {
   "cell_type": "markdown",
   "metadata": {},
   "source": [
    "This code relies on the [python-colormath](http://python-colormath.readthedocs.org/en/latest/index.html) module. See [its documentation](http://python-colormath.readthedocs.org/en/latest/index.html) for information such as installation instructions. (It can be installed with either pip or macports.)"
   ]
  },
  {
   "cell_type": "code",
   "execution_count": 1,
   "metadata": {
    "collapsed": false
   },
   "outputs": [],
   "source": [
    "from colormath.color_objects import *\n",
    "from colormath.color_conversions import convert_color"
   ]
  },
  {
   "cell_type": "markdown",
   "metadata": {},
   "source": [
    "Mostly because it's habit, I am also using [pandas](http://pandas.pydata.org/) dataframes to organize the data. (Pandas can be installed with macports.)"
   ]
  },
  {
   "cell_type": "code",
   "execution_count": 2,
   "metadata": {
    "collapsed": true
   },
   "outputs": [],
   "source": [
    "import pandas\n",
    "import numpy"
   ]
  },
  {
   "cell_type": "markdown",
   "metadata": {},
   "source": [
    "We will also be using [toyplot](https://toyplot.readthedocs.org) for making visuals (version 0.10.0 or later required). See its documentation for installation instructions."
   ]
  },
  {
   "cell_type": "code",
   "execution_count": 3,
   "metadata": {
    "collapsed": false
   },
   "outputs": [],
   "source": [
    "import toyplot\n",
    "import toyplot.svg"
   ]
  },
  {
   "cell_type": "markdown",
   "metadata": {},
   "source": [
    "This map is built by spinning through the hues defined in the standard HSV space. Define the start and end hues."
   ]
  },
  {
   "cell_type": "code",
   "execution_count": 4,
   "metadata": {
    "collapsed": true
   },
   "outputs": [],
   "source": [
    "start_hue = 300.0\n",
    "end_hue = 0.0"
   ]
  },
  {
   "cell_type": "markdown",
   "metadata": {},
   "source": [
    "## Support Functions\n",
    "\n",
    "The original Kindlmann paper created their color map by having a human user adjust the brightness to a prescribed luminance. (The color map was really proposed as a use case for a technique that allows humans to match colors.) Personally, I think this technique is overkill. First of all, no one is going to calibrate to their display. (I don't even want to do it one time just to get initial values.) Second, any change in the display will invalidate the calibration anyway.\n",
    "\n",
    "Instead, I am going to use a programmatic technique proposed in [a blog post by Matteo Niccoli](https://mycarta.wordpress.com/2012/12/06/the-rainbow-is-deadlong-live-the-rainbow-part-5-cie-lab-linear-l-rainbow/). The idea is to convert the RGB values to the perceptual CIELAB space, adjust the L (luminance) value in CIELAB, and then convert back to RGB.\n",
    "\n",
    "To do this, we need a function that takes a hue value and adjusts its luminance. Of course, we need to convert to CIELAB and alter the L value. But then we also have to adjust the a and b values so that the color is back in the representable color gamut. We do this with a binary search."
   ]
  },
  {
   "cell_type": "code",
   "execution_count": 5,
   "metadata": {
    "collapsed": true
   },
   "outputs": [],
   "source": [
    "def valid_color(color):\n",
    "    '''Given a color from the colormath.color_objects package,\n",
    "    returns whether it can be displayed in RGB.'''\n",
    "    rgb = convert_color(color, sRGBColor).get_upscaled_value_tuple()\n",
    "    return ((rgb[0] >= 0) and (rgb[0] <= 255) and\n",
    "            (rgb[1] >= 0) and (rgb[1] <= 255) and\n",
    "            (rgb[2] >= 0) and (rgb[2] <= 255))\n",
    "\n",
    "def safe_color(color):\n",
    "    '''Given a color from the colormath.color_objects package,\n",
    "    returns whether it is in the RGB color gamut and far enough\n",
    "    away from the gamut border to be considered 'safe.' Colors\n",
    "    right on the edge of displayable colors sometimes do not\n",
    "    display quite right and also sometimes leave the color\n",
    "    gamut when interpolated.'''\n",
    "    rgb_color = convert_color(color, sRGBColor)\n",
    "    rgb_vector = rgb_color.get_value_tuple()\n",
    "    clamp_dist = 0.05*(numpy.max(rgb_vector) - numpy.min(rgb_vector))\n",
    "    return ((rgb_color.rgb_r >= clamp_dist) and (rgb_color.rgb_r <= 1-clamp_dist) and\n",
    "            (rgb_color.rgb_g >= clamp_dist) and (rgb_color.rgb_g <= 1-clamp_dist) and\n",
    "            (rgb_color.rgb_b >= clamp_dist) and (rgb_color.rgb_b <= 1-clamp_dist))\n",
    "\n",
    "def scale_hue(hue, scalar):\n",
    "    '''Given a hue value (in degrees) and a scalar value between\n",
    "    0 and 1, create a color to have a luminance proportional to\n",
    "    the scalar with the given hue. Returns an sRGBColor value.'''\n",
    "    #Special cases\n",
    "    if scalar <= 0:\n",
    "        return sRGBColor(0, 0, 0)\n",
    "    if scalar >= 1:\n",
    "        return sRGBColor(1, 1, 1)\n",
    "\n",
    "    hsv_original = HSVColor(hue, 1.0, 1.0)\n",
    "    rgb_original = convert_color(hsv_original, sRGBColor)\n",
    "    lab_original = convert_color(rgb_original, LabColor)\n",
    "    l_target = 100.0*scalar\n",
    "    a_original = lab_original.lab_a\n",
    "    b_original = lab_original.lab_b\n",
    "    \n",
    "    high_scale = 1.0\n",
    "    low_scale = 0.0\n",
    "    for i in xrange(0, 12):\n",
    "        mid_scale = (high_scale-low_scale)/2 + low_scale\n",
    "        if safe_color(LabColor(l_target, mid_scale*a_original, mid_scale*b_original)):\n",
    "            low_scale = mid_scale\n",
    "        else:\n",
    "            high_scale = mid_scale\n",
    "            \n",
    "    return convert_color(LabColor(l_target, low_scale*a_original, low_scale*b_original),\n",
    "                         sRGBColor)"
   ]
  },
  {
   "cell_type": "markdown",
   "metadata": {},
   "source": [
    "A function that takes an array of hues and builds a table (in a pandas dataframe) of colors adjusted for luminance."
   ]
  },
  {
   "cell_type": "code",
   "execution_count": 6,
   "metadata": {
    "collapsed": true
   },
   "outputs": [],
   "source": [
    "def build_kindlmann_colors(hue_array):\n",
    "    table = pandas.DataFrame()\n",
    "    table['hue'] = hue_array\n",
    "    table['scalar'] = numpy.linspace(0.0, 1.0, table['hue'].size)\n",
    "    # Use the scale_hue function on each row to get the color we\n",
    "    # should use at each point.\n",
    "    color_array = table.apply(lambda row: scale_hue(row['hue'], row['scalar']),\n",
    "                              axis=1)\n",
    "    table['sRGBColor'] = color_array\n",
    "    table['RGB'] = color_array.apply(lambda rgb: rgb.get_upscaled_value_tuple())\n",
    "    table['sRGB'] = color_array.apply(lambda rgb: rgb.get_value_tuple())\n",
    "    return table"
   ]
  },
  {
   "cell_type": "markdown",
   "metadata": {},
   "source": [
    "A convenience function that takes a column of RGB triples in a pandas dataframe, unzips it, and adds three columns to the data frame with the red, green, and blue values."
   ]
  },
  {
   "cell_type": "code",
   "execution_count": 7,
   "metadata": {
    "collapsed": true
   },
   "outputs": [],
   "source": [
    "def unzip_rgb_triple(dataframe, column='RGB'):\n",
    "    '''Given a dataframe and the name of a column holding an RGB triplet,\n",
    "    this function creates new separate columns for the R, G, and B values\n",
    "    with the same name as the original with '_r', '_g', and '_b' appended.'''\n",
    "    # Creates a data frame with separate columns for the triples in the given column\n",
    "    unzipped_rgb = pandas.DataFrame(dataframe[column].values.tolist(),\n",
    "                                    columns=['r', 'g', 'b'])\n",
    "    # Add the columns to the original data frame\n",
    "    dataframe[column + '_r'] = unzipped_rgb['r']\n",
    "    dataframe[column + '_g'] = unzipped_rgb['g']\n",
    "    dataframe[column + '_b'] = unzipped_rgb['b']"
   ]
  },
  {
   "cell_type": "markdown",
   "metadata": {},
   "source": [
    "## Create Color Map\n",
    "\n",
    "We start by creating a \"short\" map with a minimal amount of control points. These control points are placed where the RGB interpolation bends and then midway between these bends to round out the hue spin. This amounts to every 30 degrees in HSV space. Create a table starting with the scalar values and the hue angle for each one."
   ]
  },
  {
   "cell_type": "code",
   "execution_count": 8,
   "metadata": {
    "collapsed": false
   },
   "outputs": [
    {
     "data": {
      "text/html": [
       "<div>\n",
       "<table border=\"1\" class=\"dataframe\">\n",
       "  <thead>\n",
       "    <tr style=\"text-align: right;\">\n",
       "      <th></th>\n",
       "      <th>hue</th>\n",
       "      <th>scalar</th>\n",
       "      <th>sRGBColor</th>\n",
       "      <th>RGB</th>\n",
       "      <th>sRGB</th>\n",
       "    </tr>\n",
       "  </thead>\n",
       "  <tbody>\n",
       "    <tr>\n",
       "      <th>0</th>\n",
       "      <td>300</td>\n",
       "      <td>0.0</td>\n",
       "      <td>sRGBColor (rgb_r:0.0000 rgb_g:0.0000 rgb_b:0.0...</td>\n",
       "      <td>(0, 0, 0)</td>\n",
       "      <td>(0.0, 0.0, 0.0)</td>\n",
       "    </tr>\n",
       "    <tr>\n",
       "      <th>1</th>\n",
       "      <td>270</td>\n",
       "      <td>0.1</td>\n",
       "      <td>sRGBColor (rgb_r:0.1796 rgb_g:0.0143 rgb_b:0.2...</td>\n",
       "      <td>(46, 4, 76)</td>\n",
       "      <td>(0.179639485725, 0.0143460026832, 0.299732434447)</td>\n",
       "    </tr>\n",
       "    <tr>\n",
       "      <th>2</th>\n",
       "      <td>240</td>\n",
       "      <td>0.2</td>\n",
       "      <td>sRGBColor (rgb_r:0.2481 rgb_g:0.0271 rgb_b:0.5...</td>\n",
       "      <td>(63, 7, 145)</td>\n",
       "      <td>(0.2481175218, 0.0271274399767, 0.569636574265)</td>\n",
       "    </tr>\n",
       "    <tr>\n",
       "      <th>3</th>\n",
       "      <td>210</td>\n",
       "      <td>0.3</td>\n",
       "      <td>sRGBColor (rgb_r:0.0311 rgb_g:0.2589 rgb_b:0.6...</td>\n",
       "      <td>(8, 66, 165)</td>\n",
       "      <td>(0.0311312658437, 0.258880996016, 0.646266425307)</td>\n",
       "    </tr>\n",
       "    <tr>\n",
       "      <th>4</th>\n",
       "      <td>180</td>\n",
       "      <td>0.4</td>\n",
       "      <td>sRGBColor (rgb_r:0.0199 rgb_g:0.4159 rgb_b:0.4...</td>\n",
       "      <td>(5, 106, 106)</td>\n",
       "      <td>(0.0198728054352, 0.415899382496, 0.415537874164)</td>\n",
       "    </tr>\n",
       "    <tr>\n",
       "      <th>5</th>\n",
       "      <td>150</td>\n",
       "      <td>0.5</td>\n",
       "      <td>sRGBColor (rgb_r:0.0259 rgb_g:0.5384 rgb_b:0.2...</td>\n",
       "      <td>(7, 137, 69)</td>\n",
       "      <td>(0.0258836453499, 0.538384409006, 0.269670037362)</td>\n",
       "    </tr>\n",
       "    <tr>\n",
       "      <th>6</th>\n",
       "      <td>120</td>\n",
       "      <td>0.6</td>\n",
       "      <td>sRGBColor (rgb_r:0.0315 rgb_g:0.6581 rgb_b:0.1...</td>\n",
       "      <td>(8, 168, 26)</td>\n",
       "      <td>(0.0315354727534, 0.658121193765, 0.103322272239)</td>\n",
       "    </tr>\n",
       "    <tr>\n",
       "      <th>7</th>\n",
       "      <td>90</td>\n",
       "      <td>0.7</td>\n",
       "      <td>sRGBColor (rgb_r:0.3311 rgb_g:0.7613 rgb_b:0.0...</td>\n",
       "      <td>(84, 194, 9)</td>\n",
       "      <td>(0.331114702761, 0.761347803523, 0.0365670677709)</td>\n",
       "    </tr>\n",
       "    <tr>\n",
       "      <th>8</th>\n",
       "      <td>60</td>\n",
       "      <td>0.8</td>\n",
       "      <td>sRGBColor (rgb_r:0.7682 rgb_g:0.8091 rgb_b:0.0...</td>\n",
       "      <td>(196, 206, 10)</td>\n",
       "      <td>(0.768180014053, 0.809064201855, 0.0395103035394)</td>\n",
       "    </tr>\n",
       "    <tr>\n",
       "      <th>9</th>\n",
       "      <td>30</td>\n",
       "      <td>0.9</td>\n",
       "      <td>sRGBColor (rgb_r:0.9891 rgb_g:0.8620 rgb_b:0.7...</td>\n",
       "      <td>(252, 220, 197)</td>\n",
       "      <td>(0.989135834421, 0.862040574175, 0.772835569979)</td>\n",
       "    </tr>\n",
       "    <tr>\n",
       "      <th>10</th>\n",
       "      <td>0</td>\n",
       "      <td>1.0</td>\n",
       "      <td>sRGBColor (rgb_r:1.0000 rgb_g:1.0000 rgb_b:1.0...</td>\n",
       "      <td>(255, 255, 255)</td>\n",
       "      <td>(1.0, 1.0, 1.0)</td>\n",
       "    </tr>\n",
       "  </tbody>\n",
       "</table>\n",
       "</div>"
      ],
      "text/plain": [
       "    hue  scalar                                          sRGBColor  \\\n",
       "0   300     0.0  sRGBColor (rgb_r:0.0000 rgb_g:0.0000 rgb_b:0.0...   \n",
       "1   270     0.1  sRGBColor (rgb_r:0.1796 rgb_g:0.0143 rgb_b:0.2...   \n",
       "2   240     0.2  sRGBColor (rgb_r:0.2481 rgb_g:0.0271 rgb_b:0.5...   \n",
       "3   210     0.3  sRGBColor (rgb_r:0.0311 rgb_g:0.2589 rgb_b:0.6...   \n",
       "4   180     0.4  sRGBColor (rgb_r:0.0199 rgb_g:0.4159 rgb_b:0.4...   \n",
       "5   150     0.5  sRGBColor (rgb_r:0.0259 rgb_g:0.5384 rgb_b:0.2...   \n",
       "6   120     0.6  sRGBColor (rgb_r:0.0315 rgb_g:0.6581 rgb_b:0.1...   \n",
       "7    90     0.7  sRGBColor (rgb_r:0.3311 rgb_g:0.7613 rgb_b:0.0...   \n",
       "8    60     0.8  sRGBColor (rgb_r:0.7682 rgb_g:0.8091 rgb_b:0.0...   \n",
       "9    30     0.9  sRGBColor (rgb_r:0.9891 rgb_g:0.8620 rgb_b:0.7...   \n",
       "10    0     1.0  sRGBColor (rgb_r:1.0000 rgb_g:1.0000 rgb_b:1.0...   \n",
       "\n",
       "                RGB                                               sRGB  \n",
       "0         (0, 0, 0)                                    (0.0, 0.0, 0.0)  \n",
       "1       (46, 4, 76)  (0.179639485725, 0.0143460026832, 0.299732434447)  \n",
       "2      (63, 7, 145)    (0.2481175218, 0.0271274399767, 0.569636574265)  \n",
       "3      (8, 66, 165)  (0.0311312658437, 0.258880996016, 0.646266425307)  \n",
       "4     (5, 106, 106)  (0.0198728054352, 0.415899382496, 0.415537874164)  \n",
       "5      (7, 137, 69)  (0.0258836453499, 0.538384409006, 0.269670037362)  \n",
       "6      (8, 168, 26)  (0.0315354727534, 0.658121193765, 0.103322272239)  \n",
       "7      (84, 194, 9)  (0.331114702761, 0.761347803523, 0.0365670677709)  \n",
       "8    (196, 206, 10)  (0.768180014053, 0.809064201855, 0.0395103035394)  \n",
       "9   (252, 220, 197)   (0.989135834421, 0.862040574175, 0.772835569979)  \n",
       "10  (255, 255, 255)                                    (1.0, 1.0, 1.0)  "
      ]
     },
     "execution_count": 8,
     "metadata": {},
     "output_type": "execute_result"
    }
   ],
   "source": [
    "control_points = build_kindlmann_colors(\n",
    "    numpy.arange(start_hue, end_hue-0.0001, -30.0))\n",
    "control_points"
   ]
  },
  {
   "cell_type": "markdown",
   "metadata": {},
   "source": [
    "Now repeat creating this table but for a much higher resolution."
   ]
  },
  {
   "cell_type": "code",
   "execution_count": 9,
   "metadata": {
    "collapsed": false
   },
   "outputs": [],
   "source": [
    "colors_long = build_kindlmann_colors(\n",
    "    numpy.linspace(start_hue, end_hue, 1024))"
   ]
  },
  {
   "cell_type": "markdown",
   "metadata": {},
   "source": [
    "## Plot the Color Map."
   ]
  },
  {
   "cell_type": "code",
   "execution_count": 10,
   "metadata": {
    "collapsed": false
   },
   "outputs": [],
   "source": [
    "colors_palette = toyplot.color.Palette(colors=colors_long['sRGB'].values)\n",
    "colors_map = toyplot.color.LinearMap(palette=colors_palette,\n",
    "                                     domain_min=0, domain_max=1)"
   ]
  },
  {
   "cell_type": "code",
   "execution_count": 11,
   "metadata": {
    "collapsed": false
   },
   "outputs": [
    {
     "data": {
      "text/html": [
       "<div align=\"center\" class=\"toyplot\" id=\"tcc9244dd731f40b8bd2b805ee920e2e9\"><svg height=\"300.0px\" id=\"t5441a425777d4a9483ef9df8026b8d3f\" preserveAspectRatio=\"xMidYMid meet\" style=\"background-color:transparent;fill:rgb(16.1%,15.3%,14.1%);fill-opacity:1.0;font-family:Helvetica;font-size:12px;opacity:1.0;stroke:rgb(16.1%,15.3%,14.1%);stroke-opacity:1.0;stroke-width:1.0\" viewBox=\"0 0 130.0 300.0\" width=\"130.0px\" xmlns=\"http://www.w3.org/2000/svg\" xmlns:toyplot=\"http://www.sandia.gov/toyplot\"><g class=\"toyplot-axes-NumberLine\" id=\"t0725848e50fd46dc98c013346e9b2a63\"><g class=\"toyplot-coordinate-events\"><g class=\"toyplot-color-Map\" id=\"t110d73257c2e41d2b9a467709fda5b2a\" transform=\"translate(16.0,293.0) rotate(-90.0) translate(0,-0.0)\"><defs><linearGradient gradientUnits=\"userSpaceOnUse\" id=\"t859006571bfd464981243bf17073e586\" x1=\"0.0\" x2=\"286.0\" y1=\"0\" y2=\"0\"><stop offset=\"0.0\" stop-color=\"rgb(0%,0%,0%)\" stop-opacity=\"1.0\"></stop><stop offset=\"0.015873015873\" stop-color=\"rgb(6.7%,0.326%,6.36%)\" stop-opacity=\"1.0\"></stop><stop offset=\"0.031746031746\" stop-color=\"rgb(10.8%,0.53%,11.1%)\" stop-opacity=\"1.0\"></stop><stop offset=\"0.047619047619\" stop-color=\"rgb(13.3%,0.763%,15.9%)\" stop-opacity=\"1.0\"></stop><stop offset=\"0.0634920634921\" stop-color=\"rgb(15.1%,0.975%,20.4%)\" stop-opacity=\"1.0\"></stop><stop offset=\"0.0793650793651\" stop-color=\"rgb(16.5%,1.18%,24.6%)\" stop-opacity=\"1.0\"></stop><stop offset=\"0.0952380952381\" stop-color=\"rgb(17.6%,1.37%,28.7%)\" stop-opacity=\"1.0\"></stop><stop offset=\"0.111111111111\" stop-color=\"rgb(18.7%,1.57%,33%)\" stop-opacity=\"1.0\"></stop><stop offset=\"0.126984126984\" stop-color=\"rgb(19.7%,1.79%,37.5%)\" stop-opacity=\"1.0\"></stop><stop offset=\"0.142857142857\" stop-color=\"rgb(20.6%,2.01%,41.9%)\" stop-opacity=\"1.0\"></stop><stop offset=\"0.15873015873\" stop-color=\"rgb(21.6%,2.21%,46.4%)\" stop-opacity=\"1.0\"></stop><stop offset=\"0.174603174603\" stop-color=\"rgb(22.7%,2.41%,50.6%)\" stop-opacity=\"1.0\"></stop><stop offset=\"0.190476190476\" stop-color=\"rgb(24%,2.61%,54.6%)\" stop-opacity=\"1.0\"></stop><stop offset=\"0.206349206349\" stop-color=\"rgb(25.1%,2.82%,58.9%)\" stop-opacity=\"1.0\"></stop><stop offset=\"0.222222222222\" stop-color=\"rgb(25%,3.08%,64.6%)\" stop-opacity=\"1.0\"></stop><stop offset=\"0.238095238095\" stop-color=\"rgb(21.4%,3.49%,73.3%)\" stop-opacity=\"1.0\"></stop><stop offset=\"0.253968253968\" stop-color=\"rgb(5.8%,7.28%,83.1%)\" stop-opacity=\"1.0\"></stop><stop offset=\"0.269841269841\" stop-color=\"rgb(3.71%,16.5%,77%)\" stop-opacity=\"1.0\"></stop><stop offset=\"0.285714285714\" stop-color=\"rgb(3.38%,22.1%,70.3%)\" stop-opacity=\"1.0\"></stop><stop offset=\"0.301587301587\" stop-color=\"rgb(3.07%,26.3%,64%)\" stop-opacity=\"1.0\"></stop><stop offset=\"0.31746031746\" stop-color=\"rgb(2.8%,29.6%,58.5%)\" stop-opacity=\"1.0\"></stop><stop offset=\"0.333333333333\" stop-color=\"rgb(2.56%,32.4%,53.8%)\" stop-opacity=\"1.0\"></stop><stop offset=\"0.349206349206\" stop-color=\"rgb(2.39%,34.8%,49.8%)\" stop-opacity=\"1.0\"></stop><stop offset=\"0.365079365079\" stop-color=\"rgb(2.24%,37.1%,46.6%)\" stop-opacity=\"1.0\"></stop><stop offset=\"0.380952380952\" stop-color=\"rgb(2.12%,39.2%,44%)\" stop-opacity=\"1.0\"></stop><stop offset=\"0.396825396825\" stop-color=\"rgb(2.01%,41.2%,41.9%)\" stop-opacity=\"1.0\"></stop><stop offset=\"0.412698412698\" stop-color=\"rgb(2.07%,43.2%,40%)\" stop-opacity=\"1.0\"></stop><stop offset=\"0.428571428571\" stop-color=\"rgb(2.16%,45.1%,38%)\" stop-opacity=\"1.0\"></stop><stop offset=\"0.444444444444\" stop-color=\"rgb(2.26%,47.1%,35.9%)\" stop-opacity=\"1.0\"></stop><stop offset=\"0.460317460317\" stop-color=\"rgb(2.35%,49%,33.5%)\" stop-opacity=\"1.0\"></stop><stop offset=\"0.47619047619\" stop-color=\"rgb(2.47%,50.9%,31.1%)\" stop-opacity=\"1.0\"></stop><stop offset=\"0.492063492063\" stop-color=\"rgb(2.56%,52.9%,28.4%)\" stop-opacity=\"1.0\"></stop><stop offset=\"0.507936507937\" stop-color=\"rgb(2.63%,54.8%,25.5%)\" stop-opacity=\"1.0\"></stop><stop offset=\"0.52380952381\" stop-color=\"rgb(2.78%,56.7%,22.5%)\" stop-opacity=\"1.0\"></stop><stop offset=\"0.539682539683\" stop-color=\"rgb(2.86%,58.6%,19.3%)\" stop-opacity=\"1.0\"></stop><stop offset=\"0.555555555556\" stop-color=\"rgb(2.89%,60.5%,16.1%)\" stop-opacity=\"1.0\"></stop><stop offset=\"0.571428571429\" stop-color=\"rgb(3.01%,62.4%,13.3%)\" stop-opacity=\"1.0\"></stop><stop offset=\"0.587301587302\" stop-color=\"rgb(3.15%,64.3%,11.3%)\" stop-opacity=\"1.0\"></stop><stop offset=\"0.603174603175\" stop-color=\"rgb(3.26%,66.2%,10.3%)\" stop-opacity=\"1.0\"></stop><stop offset=\"0.619047619048\" stop-color=\"rgb(3.31%,68.1%,9.49%)\" stop-opacity=\"1.0\"></stop><stop offset=\"0.634920634921\" stop-color=\"rgb(3.36%,70%,6.96%)\" stop-opacity=\"1.0\"></stop><stop offset=\"0.650793650794\" stop-color=\"rgb(8.62%,71.8%,3.47%)\" stop-opacity=\"1.0\"></stop><stop offset=\"0.666666666667\" stop-color=\"rgb(17.5%,73.3%,3.5%)\" stop-opacity=\"1.0\"></stop><stop offset=\"0.68253968254\" stop-color=\"rgb(25.2%,74.7%,3.63%)\" stop-opacity=\"1.0\"></stop><stop offset=\"0.698412698413\" stop-color=\"rgb(32.4%,76%,3.64%)\" stop-opacity=\"1.0\"></stop><stop offset=\"0.714285714286\" stop-color=\"rgb(39.5%,77.2%,3.7%)\" stop-opacity=\"1.0\"></stop><stop offset=\"0.730158730159\" stop-color=\"rgb(46.5%,78.2%,3.74%)\" stop-opacity=\"1.0\"></stop><stop offset=\"0.746031746032\" stop-color=\"rgb(53.5%,79%,3.83%)\" stop-opacity=\"1.0\"></stop><stop offset=\"0.761904761905\" stop-color=\"rgb(60.5%,79.7%,3.85%)\" stop-opacity=\"1.0\"></stop><stop offset=\"0.777777777778\" stop-color=\"rgb(67.3%,80.3%,3.86%)\" stop-opacity=\"1.0\"></stop><stop offset=\"0.793650793651\" stop-color=\"rgb(74.1%,80.8%,3.91%)\" stop-opacity=\"1.0\"></stop><stop offset=\"0.809523809524\" stop-color=\"rgb(81%,81%,3.89%)\" stop-opacity=\"1.0\"></stop><stop offset=\"0.825396825397\" stop-color=\"rgb(88.5%,80.9%,4.25%)\" stop-opacity=\"1.0\"></stop><stop offset=\"0.84126984127\" stop-color=\"rgb(96.1%,80.4%,18.1%)\" stop-opacity=\"1.0\"></stop><stop offset=\"0.857142857143\" stop-color=\"rgb(97.7%,81.4%,50.9%)\" stop-opacity=\"1.0\"></stop><stop offset=\"0.873015873016\" stop-color=\"rgb(98.3%,83%,64.4%)\" stop-opacity=\"1.0\"></stop><stop offset=\"0.888888888889\" stop-color=\"rgb(98.7%,84.8%,72.8%)\" stop-opacity=\"1.0\"></stop><stop offset=\"0.904761904762\" stop-color=\"rgb(99%,86.8%,78.9%)\" stop-opacity=\"1.0\"></stop><stop offset=\"0.920634920635\" stop-color=\"rgb(99.2%,88.9%,83.7%)\" stop-opacity=\"1.0\"></stop><stop offset=\"0.936507936508\" stop-color=\"rgb(99.4%,91.1%,87.7%)\" stop-opacity=\"1.0\"></stop><stop offset=\"0.952380952381\" stop-color=\"rgb(99.6%,93.3%,91.1%)\" stop-opacity=\"1.0\"></stop><stop offset=\"0.968253968254\" stop-color=\"rgb(99.7%,95.5%,94.2%)\" stop-opacity=\"1.0\"></stop><stop offset=\"0.984126984127\" stop-color=\"rgb(99.9%,97.8%,97.2%)\" stop-opacity=\"1.0\"></stop><stop offset=\"1.0\" stop-color=\"rgb(100%,100%,100%)\" stop-opacity=\"1.0\"></stop></linearGradient></defs><rect height=\"30\" style=\"fill:url(#t859006571bfd464981243bf17073e586);stroke:rgb(82.7%,82.7%,82.7%);stroke-opacity:1.0;stroke-width:1.0\" width=\"286.0\" x=\"0.0\" y=\"-15.0\"></rect></g></g><g class=\"toyplot-axes-Axis\" id=\"ta6feb0aeec85452d9b832604605c6417\" transform=\"translate(16.0,293.0) rotate(-90.0) translate(0,5.0)\"><g><text dx=\"15px\" style=\"-toyplot-anchor-shift:15px;alignment-baseline:middle;baseline-shift:0%;font-size:10px;font-weight:normal;stroke:none;text-anchor:start\" transform=\"translate(0.0,0) rotate(90)\" x=\"0\" y=\"0\">0.00, (0, 0, 0)</text><text dx=\"15px\" style=\"-toyplot-anchor-shift:15px;alignment-baseline:middle;baseline-shift:0%;font-size:10px;font-weight:normal;stroke:none;text-anchor:start\" transform=\"translate(28.6,0) rotate(90)\" x=\"0\" y=\"0\">0.10, (46, 4, 76)</text><text dx=\"15px\" style=\"-toyplot-anchor-shift:15px;alignment-baseline:middle;baseline-shift:0%;font-size:10px;font-weight:normal;stroke:none;text-anchor:start\" transform=\"translate(57.2,0) rotate(90)\" x=\"0\" y=\"0\">0.20, (63, 7, 145)</text><text dx=\"15px\" style=\"-toyplot-anchor-shift:15px;alignment-baseline:middle;baseline-shift:0%;font-size:10px;font-weight:normal;stroke:none;text-anchor:start\" transform=\"translate(85.80000000000001,0) rotate(90)\" x=\"0\" y=\"0\">0.30, (8, 66, 165)</text><text dx=\"15px\" style=\"-toyplot-anchor-shift:15px;alignment-baseline:middle;baseline-shift:0%;font-size:10px;font-weight:normal;stroke:none;text-anchor:start\" transform=\"translate(114.4,0) rotate(90)\" x=\"0\" y=\"0\">0.40, (5, 106, 106)</text><text dx=\"15px\" style=\"-toyplot-anchor-shift:15px;alignment-baseline:middle;baseline-shift:0%;font-size:10px;font-weight:normal;stroke:none;text-anchor:start\" transform=\"translate(143.0,0) rotate(90)\" x=\"0\" y=\"0\">0.50, (7, 137, 69)</text><text dx=\"15px\" style=\"-toyplot-anchor-shift:15px;alignment-baseline:middle;baseline-shift:0%;font-size:10px;font-weight:normal;stroke:none;text-anchor:start\" transform=\"translate(171.60000000000002,0) rotate(90)\" x=\"0\" y=\"0\">0.60, (8, 168, 26)</text><text dx=\"15px\" style=\"-toyplot-anchor-shift:15px;alignment-baseline:middle;baseline-shift:0%;font-size:10px;font-weight:normal;stroke:none;text-anchor:start\" transform=\"translate(200.20000000000002,0) rotate(90)\" x=\"0\" y=\"0\">0.70, (84, 194, 9)</text><text dx=\"15px\" style=\"-toyplot-anchor-shift:15px;alignment-baseline:middle;baseline-shift:0%;font-size:10px;font-weight:normal;stroke:none;text-anchor:start\" transform=\"translate(228.8,0) rotate(90)\" x=\"0\" y=\"0\">0.80, (196, 206, 10)</text><text dx=\"15px\" style=\"-toyplot-anchor-shift:15px;alignment-baseline:middle;baseline-shift:0%;font-size:10px;font-weight:normal;stroke:none;text-anchor:start\" transform=\"translate(257.40000000000003,0) rotate(90)\" x=\"0\" y=\"0\">0.90, (252, 220, 197)</text><text dx=\"15px\" style=\"-toyplot-anchor-shift:15px;alignment-baseline:middle;baseline-shift:0%;font-size:10px;font-weight:normal;stroke:none;text-anchor:start\" transform=\"translate(286.0,0) rotate(90)\" x=\"0\" y=\"0\">1.00, (255, 255, 255)</text></g></g></g></svg><div class=\"toyplot-controls\"><ul class=\"toyplot-mark-popup\" onmouseleave=\"this.style.visibility='hidden'\" style=\"background:rgba(0%,0%,0%,0.75);border:0;border-radius:6px;color:white;cursor:default;list-style:none;margin:0;padding:5px;position:fixed;visibility:hidden\"><li class=\"toyplot-mark-popup-title\" style=\"color:lightgray;cursor:default;padding:5px;list-style:none;margin:0;\"></li><li class=\"toyplot-mark-popup-save-csv\" onmouseout=\"this.style.color='white';this.style.background='steelblue'\" onmouseover=\"this.style.color='steelblue';this.style.background='white'\" style=\"border-radius:3px;padding:5px;list-style:none;margin:0;\">Save as .csv</li></ul><script>\n",
       "(function()\n",
       "{\n",
       "  if(window.CSS !== undefined && window.CSS.supports !== undefined)\n",
       "  {\n",
       "    if(!window.CSS.supports(\"alignment-baseline\", \"middle\"))\n",
       "    {\n",
       "      var re = /\\s*alignment-baseline\\s*:\\s*([^;\\s]*)\\s*/;\n",
       "      var text = document.querySelectorAll(\"#tcc9244dd731f40b8bd2b805ee920e2e9 text\");\n",
       "      for(var i = 0; i != text.length; ++i)\n",
       "      {\n",
       "        var match = re.exec(text[i].attributes.style.value);\n",
       "        if(match)\n",
       "        {\n",
       "          if(match[1] == \"middle\")\n",
       "          {\n",
       "            var style = getComputedStyle(text[i]);\n",
       "            var font_size = style.fontSize.substr(0, style.fontSize.length - 2);\n",
       "            var dy = text[i].dy.baseVal.length ? text[i].dy.baseVal[0].value : 0;\n",
       "            dy += 0.4 * font_size;\n",
       "            text[i].setAttribute(\"dy\", dy);\n",
       "          }\n",
       "        }\n",
       "      }\n",
       "    }\n",
       "    if(!window.CSS.supports(\"baseline-shift\", \"0\"))\n",
       "    {\n",
       "      var re = /\\s*baseline-shift\\s*:\\s*([^;\\s]*)\\s*/;\n",
       "      var text = document.querySelectorAll(\"#tcc9244dd731f40b8bd2b805ee920e2e9 text\");\n",
       "      for(var i = 0; i != text.length; ++i)\n",
       "      {\n",
       "        var match = re.exec(text[i].attributes.style.value);\n",
       "        if(match)\n",
       "        {\n",
       "          var style = getComputedStyle(text[i]);\n",
       "          var font_size = style.fontSize.substr(0, style.fontSize.length - 2);\n",
       "          var percent = 0.01 * match[1].substr(0, match[1].length-1);\n",
       "          var dy = text[i].dy.baseVal.length ? text[i].dy.baseVal[0].value : 0;\n",
       "          dy -= percent * font_size\n",
       "          text[i].setAttribute(\"dy\", dy);\n",
       "        }\n",
       "      }\n",
       "    }\n",
       "  }\n",
       "})();\n",
       "</script></div></div>"
      ],
      "text/plain": [
       "<toyplot.canvas.Canvas at 0x10ab35f10>"
      ]
     },
     "metadata": {},
     "output_type": "display_data"
    }
   ],
   "source": [
    "canvas = toyplot.Canvas(width=130, height=300)\n",
    "numberline = canvas.numberline(x1=16, x2=16, y1=-7, y2=7)\n",
    "numberline.padding = 5\n",
    "numberline.axis.spine.show = False\n",
    "numberline.colormap(colors_map,\n",
    "                    width=30,\n",
    "                    style={'stroke':'lightgrey'})\n",
    "\n",
    "control_point_labels = \\\n",
    "    control_points.apply(lambda row: '%1.2f, %s' % (row['scalar'],\n",
    "                                                  str(row['RGB'])),\n",
    "                       axis=1)\n",
    "numberline.axis.ticks.locator = \\\n",
    "    toyplot.locator.Explicit(locations=control_points['scalar'],\n",
    "                             labels=control_point_labels)\n",
    "numberline.axis.ticks.labels.angle = -90\n",
    "numberline.axis.ticks.labels.style = {'text-anchor':'start',\n",
    "                                      'baseline-shift':'0%',\n",
    "                                      '-toyplot-anchor-shift':'15px'}"
   ]
  },
  {
   "cell_type": "code",
   "execution_count": 12,
   "metadata": {
    "collapsed": false
   },
   "outputs": [],
   "source": [
    "toyplot.svg.render(canvas, 'kindlmann.svg')"
   ]
  },
  {
   "cell_type": "markdown",
   "metadata": {},
   "source": [
    "## Color Table Files\n",
    "\n",
    "Create a color preset file for ParaView. Since ParaView 4.4, JSON files are supported, which makes it easy to export.\n",
    "\n",
    "We are going to use a few more points than the control points listed previously to better approximate the curve of the hue spiral."
   ]
  },
  {
   "cell_type": "code",
   "execution_count": 13,
   "metadata": {
    "collapsed": false
   },
   "outputs": [],
   "source": [
    "color_table = build_kindlmann_colors(\n",
    "    numpy.arange(start_hue, end_hue-0.0001, -30.0))\n",
    "\n",
    "RGBPoints = []\n",
    "for index in xrange(0, color_table.index.size):\n",
    "    RGBPoints.append(color_table['scalar'][index])\n",
    "    RGBPoints.extend(color_table['sRGB'][index])\n",
    "    \n",
    "#RGBPoints"
   ]
  },
  {
   "cell_type": "code",
   "execution_count": 14,
   "metadata": {
    "collapsed": false
   },
   "outputs": [],
   "source": [
    "import json\n",
    "\n",
    "file_descriptor = open('kindlmann-paraview-colors.json', 'w')\n",
    "json.dump([{'ColorSpace':'Lab',\n",
    "            'Name':'Kindlmann',\n",
    "            'NanColor':[0.0,0.5,1.0],\n",
    "            'RGBPoints':RGBPoints}],\n",
    "          file_descriptor,\n",
    "          indent=2)\n",
    "file_descriptor.close()"
   ]
  },
  {
   "cell_type": "markdown",
   "metadata": {},
   "source": [
    "Create several csv files containing color tables for this color map. We will create color tables of many different sizes from 8 rows to 1024. We also write out one set of csv files for \"upscaled\" color bytes (values 0-255) and another for floating point numbers (0-1)."
   ]
  },
  {
   "cell_type": "code",
   "execution_count": 15,
   "metadata": {
    "collapsed": false
   },
   "outputs": [],
   "source": [
    "for num_bits in xrange(3, 11):\n",
    "    table_length = 2 ** num_bits\n",
    "    color_table = build_kindlmann_colors(\n",
    "        numpy.linspace(start_hue, end_hue, num=table_length))\n",
    "    unzip_rgb_triple(color_table, 'RGB')\n",
    "    color_table.to_csv('kindlmann-table-byte-{:04}.csv'.format(table_length),\n",
    "                       index=False,\n",
    "                       columns=['scalar', 'RGB_r', 'RGB_g', 'RGB_b'])\n",
    "    unzip_rgb_triple(color_table, 'sRGB')\n",
    "    color_table.to_csv('kindlmann-table-float-{:04}.csv'.format(table_length),\n",
    "                       index=False,\n",
    "                       columns=['scalar', 'sRGB_r', 'sRGB_g', 'sRGB_b'],\n",
    "                       header=['scalar', 'RGB_r', 'RGB_g', 'RGB_b'])"
   ]
  },
  {
   "cell_type": "code",
   "execution_count": null,
   "metadata": {
    "collapsed": true
   },
   "outputs": [],
   "source": []
  }
 ],
 "metadata": {
  "kernelspec": {
   "display_name": "Python 2",
   "language": "python",
   "name": "python2"
  },
  "language_info": {
   "codemirror_mode": {
    "name": "ipython",
    "version": 2
   },
   "file_extension": ".py",
   "mimetype": "text/x-python",
   "name": "python",
   "nbconvert_exporter": "python",
   "pygments_lexer": "ipython2",
   "version": "2.7.11"
  }
 },
 "nbformat": 4,
 "nbformat_minor": 0
}
