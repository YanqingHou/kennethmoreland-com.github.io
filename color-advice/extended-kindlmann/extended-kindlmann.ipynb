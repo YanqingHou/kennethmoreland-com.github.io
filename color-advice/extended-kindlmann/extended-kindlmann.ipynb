{
 "cells": [
  {
   "cell_type": "markdown",
   "metadata": {},
   "source": [
    "# Extended Kindlmann Color Map\n",
    "\n",
    "This iPython notebook contains the script required to derive what is often known as the Kindlmann color map, so named because its first known design is in a paper by [Kindlmann, Reinhard, and Creem](http://www.cs.utah.edu/~gk/papers/vis02/), although this derivation takes inspiration from other sources. The map is basically the rainbow color map with the luminance adjusted such that it monotonically changes, making it much more perceptually viable.\n",
    "\n",
    "The original Kindlmann color map starts at purple and ends a red, but it is difficult to see the colors at each end because of the low saturation. There is no reason why we can't extend the map, in particular to see the reds better. I doubt there is much more perceptual information, but it might look prettier.\n",
    "\n",
    "The hues we use are similar to the ones suggested by Dave Green for his [cubehelix](https://www.mrao.cam.ac.uk/~dag/CUBEHELIX/). The cubehelix approach does computations in the RGB color space, which is easier but not as perceptually uniform. We will repeat the same computations as above but use hues closer to what Green used. The algorithm here will be both perceptually uniform and in some places produces more vibrant hues (so we use slightly less rotation)."
   ]
  },
  {
   "cell_type": "markdown",
   "metadata": {},
   "source": [
    "This code relies on the [python-colormath](http://python-colormath.readthedocs.org/en/latest/index.html) module. See [its documentation](http://python-colormath.readthedocs.org/en/latest/index.html) for information such as installation instructions. (It can be installed with either pip or macports.)"
   ]
  },
  {
   "cell_type": "code",
   "execution_count": 1,
   "metadata": {
    "collapsed": false
   },
   "outputs": [],
   "source": [
    "from colormath.color_objects import *\n",
    "from colormath.color_conversions import convert_color"
   ]
  },
  {
   "cell_type": "markdown",
   "metadata": {},
   "source": [
    "Mostly because it's habit, I am also using [pandas](http://pandas.pydata.org/) dataframes to organize the data. (Pandas can be installed with macports.)"
   ]
  },
  {
   "cell_type": "code",
   "execution_count": 2,
   "metadata": {
    "collapsed": true
   },
   "outputs": [],
   "source": [
    "import pandas\n",
    "import numpy"
   ]
  },
  {
   "cell_type": "markdown",
   "metadata": {},
   "source": [
    "We will also be using [toyplot](https://toyplot.readthedocs.org) for making visuals (version 0.10.0 or later required). See its documentation for installation instructions."
   ]
  },
  {
   "cell_type": "code",
   "execution_count": 3,
   "metadata": {
    "collapsed": false
   },
   "outputs": [],
   "source": [
    "import toyplot\n",
    "import toyplot.svg"
   ]
  },
  {
   "cell_type": "markdown",
   "metadata": {},
   "source": [
    "This map is built by spinning through the hues defined in the standard HSV space. Define the start and end hues."
   ]
  },
  {
   "cell_type": "code",
   "execution_count": 4,
   "metadata": {
    "collapsed": true
   },
   "outputs": [],
   "source": [
    "start_hue = 300.0\n",
    "end_hue = -180.0"
   ]
  },
  {
   "cell_type": "markdown",
   "metadata": {},
   "source": [
    "## Support Functions\n",
    "\n",
    "The original Kindlmann paper created their color map by having a human user adjust the brightness to a prescribed luminance. (The color map was really proposed as a use case for a technique that allows humans to match colors.) Personally, I think this technique is overkill. First of all, no one is going to calibrate to their display. (I don't even want to do it one time just to get initial values.) Second, any change in the display will invalidate the calibration anyway.\n",
    "\n",
    "Instead, I am going to use a programmatic technique proposed in [a blog post by Matteo Niccoli](https://mycarta.wordpress.com/2012/12/06/the-rainbow-is-deadlong-live-the-rainbow-part-5-cie-lab-linear-l-rainbow/). The idea is to convert the RGB values to the perceptual CIELAB space, adjust the L (luminance) value in CIELAB, and then convert back to RGB.\n",
    "\n",
    "To do this, we need a function that takes a hue value and adjusts its luminance. Of course, we need to convert to CIELAB and alter the L value. But then we also have to adjust the a and b values so that the color is back in the representable color gamut. We do this with a binary search."
   ]
  },
  {
   "cell_type": "code",
   "execution_count": 5,
   "metadata": {
    "collapsed": true
   },
   "outputs": [],
   "source": [
    "def valid_color(color):\n",
    "    '''Given a color from the colormath.color_objects package,\n",
    "    returns whether it can be displayed in RGB.'''\n",
    "    rgb = convert_color(color, sRGBColor).get_upscaled_value_tuple()\n",
    "    return ((rgb[0] >= 0) and (rgb[0] <= 255) and\n",
    "            (rgb[1] >= 0) and (rgb[1] <= 255) and\n",
    "            (rgb[2] >= 0) and (rgb[2] <= 255))\n",
    "\n",
    "def safe_color(color):\n",
    "    '''Given a color from the colormath.color_objects package,\n",
    "    returns whether it is in the RGB color gamut and far enough\n",
    "    away from the gamut border to be considered 'safe.' Colors\n",
    "    right on the edge of displayable colors sometimes do not\n",
    "    display quite right and also sometimes leave the color\n",
    "    gamut when interpolated.'''\n",
    "    rgb_color = convert_color(color, sRGBColor)\n",
    "    rgb_vector = rgb_color.get_value_tuple()\n",
    "    clamp_dist = 0.05*(numpy.max(rgb_vector) - numpy.min(rgb_vector))\n",
    "    return ((rgb_color.rgb_r >= clamp_dist) and (rgb_color.rgb_r <= 1-clamp_dist) and\n",
    "            (rgb_color.rgb_g >= clamp_dist) and (rgb_color.rgb_g <= 1-clamp_dist) and\n",
    "            (rgb_color.rgb_b >= clamp_dist) and (rgb_color.rgb_b <= 1-clamp_dist))\n",
    "\n",
    "def scale_hue(hue, scalar):\n",
    "    '''Given a hue value (in degrees) and a scalar value between\n",
    "    0 and 1, create a color to have a luminance proportional to\n",
    "    the scalar with the given hue. Returns an sRGBColor value.'''\n",
    "    #Special cases\n",
    "    if scalar <= 0:\n",
    "        return sRGBColor(0, 0, 0)\n",
    "    if scalar >= 1:\n",
    "        return sRGBColor(1, 1, 1)\n",
    "\n",
    "    hsv_original = HSVColor(hue, 1.0, 1.0)\n",
    "    rgb_original = convert_color(hsv_original, sRGBColor)\n",
    "    lab_original = convert_color(rgb_original, LabColor)\n",
    "    l_target = 100.0*scalar\n",
    "    a_original = lab_original.lab_a\n",
    "    b_original = lab_original.lab_b\n",
    "    \n",
    "    high_scale = 1.0\n",
    "    low_scale = 0.0\n",
    "    for i in xrange(0, 12):\n",
    "        mid_scale = (high_scale-low_scale)/2 + low_scale\n",
    "        if safe_color(LabColor(l_target, mid_scale*a_original, mid_scale*b_original)):\n",
    "            low_scale = mid_scale\n",
    "        else:\n",
    "            high_scale = mid_scale\n",
    "            \n",
    "    return convert_color(LabColor(l_target, low_scale*a_original, low_scale*b_original),\n",
    "                         sRGBColor)"
   ]
  },
  {
   "cell_type": "markdown",
   "metadata": {},
   "source": [
    "A function that takes an array of hues and builds a table (in a pandas dataframe) of colors adjusted for luminance."
   ]
  },
  {
   "cell_type": "code",
   "execution_count": 6,
   "metadata": {
    "collapsed": true
   },
   "outputs": [],
   "source": [
    "def build_kindlmann_colors(hue_array):\n",
    "    table = pandas.DataFrame()\n",
    "    table['hue'] = hue_array\n",
    "    table['scalar'] = numpy.linspace(0.0, 1.0, table['hue'].size)\n",
    "    # Use the scale_hue function on each row to get the color we\n",
    "    # should use at each point.\n",
    "    color_array = table.apply(lambda row: scale_hue(row['hue'], row['scalar']),\n",
    "                              axis=1)\n",
    "    table['sRGBColor'] = color_array\n",
    "    table['RGB'] = color_array.apply(lambda rgb: rgb.get_upscaled_value_tuple())\n",
    "    table['sRGB'] = color_array.apply(lambda rgb: rgb.get_value_tuple())\n",
    "    return table"
   ]
  },
  {
   "cell_type": "markdown",
   "metadata": {},
   "source": [
    "A convenience function that takes a column of RGB triples in a pandas dataframe, unzips it, and adds three columns to the data frame with the red, green, and blue values."
   ]
  },
  {
   "cell_type": "code",
   "execution_count": 7,
   "metadata": {
    "collapsed": true
   },
   "outputs": [],
   "source": [
    "def unzip_rgb_triple(dataframe, column='RGB'):\n",
    "    '''Given a dataframe and the name of a column holding an RGB triplet,\n",
    "    this function creates new separate columns for the R, G, and B values\n",
    "    with the same name as the original with '_r', '_g', and '_b' appended.'''\n",
    "    # Creates a data frame with separate columns for the triples in the given column\n",
    "    unzipped_rgb = pandas.DataFrame(dataframe[column].values.tolist(),\n",
    "                                    columns=['r', 'g', 'b'])\n",
    "    # Add the columns to the original data frame\n",
    "    dataframe[column + '_r'] = unzipped_rgb['r']\n",
    "    dataframe[column + '_g'] = unzipped_rgb['g']\n",
    "    dataframe[column + '_b'] = unzipped_rgb['b']"
   ]
  },
  {
   "cell_type": "markdown",
   "metadata": {},
   "source": [
    "## Create Color Map\n",
    "\n",
    "We start by creating a \"short\" map with a minimal amount of control points. These control points are placed where the RGB interpolation bends, which is every 60 degrees in HSV space. Create a table starting with the scalar values and the hue angle for each one."
   ]
  },
  {
   "cell_type": "code",
   "execution_count": 8,
   "metadata": {
    "collapsed": false
   },
   "outputs": [
    {
     "data": {
      "text/html": [
       "<div>\n",
       "<table border=\"1\" class=\"dataframe\">\n",
       "  <thead>\n",
       "    <tr style=\"text-align: right;\">\n",
       "      <th></th>\n",
       "      <th>hue</th>\n",
       "      <th>scalar</th>\n",
       "      <th>sRGBColor</th>\n",
       "      <th>RGB</th>\n",
       "      <th>sRGB</th>\n",
       "    </tr>\n",
       "  </thead>\n",
       "  <tbody>\n",
       "    <tr>\n",
       "      <th>0</th>\n",
       "      <td>300</td>\n",
       "      <td>0.000</td>\n",
       "      <td>sRGBColor (rgb_r:0.0000 rgb_g:0.0000 rgb_b:0.0...</td>\n",
       "      <td>(0, 0, 0)</td>\n",
       "      <td>(0.0, 0.0, 0.0)</td>\n",
       "    </tr>\n",
       "    <tr>\n",
       "      <th>1</th>\n",
       "      <td>240</td>\n",
       "      <td>0.125</td>\n",
       "      <td>sRGBColor (rgb_r:0.1720 rgb_g:0.0193 rgb_b:0.4...</td>\n",
       "      <td>(44, 5, 103)</td>\n",
       "      <td>(0.172034202093, 0.0192563766329, 0.40312717419)</td>\n",
       "    </tr>\n",
       "    <tr>\n",
       "      <th>2</th>\n",
       "      <td>180</td>\n",
       "      <td>0.250</td>\n",
       "      <td>sRGBColor (rgb_r:0.0128 rgb_g:0.2637 rgb_b:0.2...</td>\n",
       "      <td>(3, 67, 67)</td>\n",
       "      <td>(0.0127637748177, 0.263659507943, 0.263360678605)</td>\n",
       "    </tr>\n",
       "    <tr>\n",
       "      <th>3</th>\n",
       "      <td>120</td>\n",
       "      <td>0.375</td>\n",
       "      <td>sRGBColor (rgb_r:0.0197 rgb_g:0.4045 rgb_b:0.0...</td>\n",
       "      <td>(5, 103, 13)</td>\n",
       "      <td>(0.0197142561891, 0.404480246389, 0.051435298177)</td>\n",
       "    </tr>\n",
       "    <tr>\n",
       "      <th>4</th>\n",
       "      <td>60</td>\n",
       "      <td>0.500</td>\n",
       "      <td>sRGBColor (rgb_r:0.4607 rgb_g:0.4857 rgb_b:0.0...</td>\n",
       "      <td>(117, 124, 6)</td>\n",
       "      <td>(0.460739140422, 0.485727405406, 0.0235774363744)</td>\n",
       "    </tr>\n",
       "    <tr>\n",
       "      <th>5</th>\n",
       "      <td>0</td>\n",
       "      <td>0.625</td>\n",
       "      <td>sRGBColor (rgb_r:0.9660 rgb_g:0.4095 rgb_b:0.2...</td>\n",
       "      <td>(246, 104, 74)</td>\n",
       "      <td>(0.966030577578, 0.409540791746, 0.288868893776)</td>\n",
       "    </tr>\n",
       "    <tr>\n",
       "      <th>6</th>\n",
       "      <td>-60</td>\n",
       "      <td>0.750</td>\n",
       "      <td>sRGBColor (rgb_r:0.9802 rgb_g:0.5859 rgb_b:0.9...</td>\n",
       "      <td>(250, 149, 241)</td>\n",
       "      <td>(0.980246147586, 0.585906423133, 0.94577041157)</td>\n",
       "    </tr>\n",
       "    <tr>\n",
       "      <th>7</th>\n",
       "      <td>-120</td>\n",
       "      <td>0.875</td>\n",
       "      <td>sRGBColor (rgb_r:0.9104 rgb_g:0.8306 rgb_b:0.9...</td>\n",
       "      <td>(232, 212, 253)</td>\n",
       "      <td>(0.910373997714, 0.830608450415, 0.991880209423)</td>\n",
       "    </tr>\n",
       "    <tr>\n",
       "      <th>8</th>\n",
       "      <td>-180</td>\n",
       "      <td>1.000</td>\n",
       "      <td>sRGBColor (rgb_r:1.0000 rgb_g:1.0000 rgb_b:1.0...</td>\n",
       "      <td>(255, 255, 255)</td>\n",
       "      <td>(1.0, 1.0, 1.0)</td>\n",
       "    </tr>\n",
       "  </tbody>\n",
       "</table>\n",
       "</div>"
      ],
      "text/plain": [
       "   hue  scalar                                          sRGBColor  \\\n",
       "0  300   0.000  sRGBColor (rgb_r:0.0000 rgb_g:0.0000 rgb_b:0.0...   \n",
       "1  240   0.125  sRGBColor (rgb_r:0.1720 rgb_g:0.0193 rgb_b:0.4...   \n",
       "2  180   0.250  sRGBColor (rgb_r:0.0128 rgb_g:0.2637 rgb_b:0.2...   \n",
       "3  120   0.375  sRGBColor (rgb_r:0.0197 rgb_g:0.4045 rgb_b:0.0...   \n",
       "4   60   0.500  sRGBColor (rgb_r:0.4607 rgb_g:0.4857 rgb_b:0.0...   \n",
       "5    0   0.625  sRGBColor (rgb_r:0.9660 rgb_g:0.4095 rgb_b:0.2...   \n",
       "6  -60   0.750  sRGBColor (rgb_r:0.9802 rgb_g:0.5859 rgb_b:0.9...   \n",
       "7 -120   0.875  sRGBColor (rgb_r:0.9104 rgb_g:0.8306 rgb_b:0.9...   \n",
       "8 -180   1.000  sRGBColor (rgb_r:1.0000 rgb_g:1.0000 rgb_b:1.0...   \n",
       "\n",
       "               RGB                                               sRGB  \n",
       "0        (0, 0, 0)                                    (0.0, 0.0, 0.0)  \n",
       "1     (44, 5, 103)   (0.172034202093, 0.0192563766329, 0.40312717419)  \n",
       "2      (3, 67, 67)  (0.0127637748177, 0.263659507943, 0.263360678605)  \n",
       "3     (5, 103, 13)  (0.0197142561891, 0.404480246389, 0.051435298177)  \n",
       "4    (117, 124, 6)  (0.460739140422, 0.485727405406, 0.0235774363744)  \n",
       "5   (246, 104, 74)   (0.966030577578, 0.409540791746, 0.288868893776)  \n",
       "6  (250, 149, 241)    (0.980246147586, 0.585906423133, 0.94577041157)  \n",
       "7  (232, 212, 253)   (0.910373997714, 0.830608450415, 0.991880209423)  \n",
       "8  (255, 255, 255)                                    (1.0, 1.0, 1.0)  "
      ]
     },
     "execution_count": 8,
     "metadata": {},
     "output_type": "execute_result"
    }
   ],
   "source": [
    "control_points = build_kindlmann_colors(\n",
    "    numpy.arange(start_hue, end_hue-0.0001, -60.0))\n",
    "control_points"
   ]
  },
  {
   "cell_type": "markdown",
   "metadata": {},
   "source": [
    "Now repeat creating this table but for a much higher resolution."
   ]
  },
  {
   "cell_type": "code",
   "execution_count": 9,
   "metadata": {
    "collapsed": false
   },
   "outputs": [],
   "source": [
    "colors_long = build_kindlmann_colors(\n",
    "    numpy.linspace(start_hue, end_hue, 1024))"
   ]
  },
  {
   "cell_type": "markdown",
   "metadata": {},
   "source": [
    "## Plot the Color Map."
   ]
  },
  {
   "cell_type": "code",
   "execution_count": 10,
   "metadata": {
    "collapsed": false
   },
   "outputs": [],
   "source": [
    "colors_palette = toyplot.color.Palette(colors=colors_long['sRGB'].values)\n",
    "colors_map = toyplot.color.LinearMap(palette=colors_palette,\n",
    "                                     domain_min=0, domain_max=1)"
   ]
  },
  {
   "cell_type": "code",
   "execution_count": 11,
   "metadata": {
    "collapsed": false
   },
   "outputs": [
    {
     "data": {
      "text/html": [
       "<div align=\"center\" class=\"toyplot\" id=\"t14cd64329028467fac1966d0eb27aac7\"><svg height=\"300.0px\" id=\"t1ab2036b467546ebbdba34f7c4f1b30b\" preserveAspectRatio=\"xMidYMid meet\" style=\"background-color:transparent;fill:rgb(16.1%,15.3%,14.1%);fill-opacity:1.0;font-family:Helvetica;font-size:12px;opacity:1.0;stroke:rgb(16.1%,15.3%,14.1%);stroke-opacity:1.0;stroke-width:1.0\" viewBox=\"0 0 130.0 300.0\" width=\"130.0px\" xmlns=\"http://www.w3.org/2000/svg\" xmlns:toyplot=\"http://www.sandia.gov/toyplot\"><g class=\"toyplot-axes-NumberLine\" id=\"t0807af3de1464e9987d2f8a1980226e5\"><g class=\"toyplot-coordinate-events\"><g class=\"toyplot-color-Map\" id=\"te705f8b96cce4217be89b49530adf596\" transform=\"translate(16.0,293.0) rotate(-90.0) translate(0,-0.0)\"><defs><linearGradient gradientUnits=\"userSpaceOnUse\" id=\"t1c92d5d38eb045f68ad2d22481c927a0\" x1=\"0.0\" x2=\"286.0\" y1=\"0\" y2=\"0\"><stop offset=\"0.0\" stop-color=\"rgb(0%,0%,0%)\" stop-opacity=\"1.0\"></stop><stop offset=\"0.015873015873\" stop-color=\"rgb(6.65%,0.321%,6.6%)\" stop-opacity=\"1.0\"></stop><stop offset=\"0.031746031746\" stop-color=\"rgb(10.5%,0.56%,11.7%)\" stop-opacity=\"1.0\"></stop><stop offset=\"0.047619047619\" stop-color=\"rgb(12.6%,0.836%,17.5%)\" stop-opacity=\"1.0\"></stop><stop offset=\"0.0634920634921\" stop-color=\"rgb(13.8%,1.1%,23.2%)\" stop-opacity=\"1.0\"></stop><stop offset=\"0.0793650793651\" stop-color=\"rgb(14.5%,1.35%,28.2%)\" stop-opacity=\"1.0\"></stop><stop offset=\"0.0952380952381\" stop-color=\"rgb(15.2%,1.56%,32.8%)\" stop-opacity=\"1.0\"></stop><stop offset=\"0.111111111111\" stop-color=\"rgb(16.1%,1.76%,37%)\" stop-opacity=\"1.0\"></stop><stop offset=\"0.126984126984\" stop-color=\"rgb(17.3%,1.95%,40.9%)\" stop-opacity=\"1.0\"></stop><stop offset=\"0.142857142857\" stop-color=\"rgb(16.5%,2.25%,47%)\" stop-opacity=\"1.0\"></stop><stop offset=\"0.15873015873\" stop-color=\"rgb(2.81%,3.73%,58.4%)\" stop-opacity=\"1.0\"></stop><stop offset=\"0.174603174603\" stop-color=\"rgb(2.39%,12.8%,50%)\" stop-opacity=\"1.0\"></stop><stop offset=\"0.190476190476\" stop-color=\"rgb(2.03%,17.3%,42.2%)\" stop-opacity=\"1.0\"></stop><stop offset=\"0.206349206349\" stop-color=\"rgb(1.74%,20.4%,36.1%)\" stop-opacity=\"1.0\"></stop><stop offset=\"0.222222222222\" stop-color=\"rgb(1.51%,22.9%,31.5%)\" stop-opacity=\"1.0\"></stop><stop offset=\"0.238095238095\" stop-color=\"rgb(1.36%,24.9%,28.2%)\" stop-opacity=\"1.0\"></stop><stop offset=\"0.253968253968\" stop-color=\"rgb(1.28%,26.8%,25.8%)\" stop-opacity=\"1.0\"></stop><stop offset=\"0.269841269841\" stop-color=\"rgb(1.39%,28.7%,23.4%)\" stop-opacity=\"1.0\"></stop><stop offset=\"0.285714285714\" stop-color=\"rgb(1.46%,30.5%,20.9%)\" stop-opacity=\"1.0\"></stop><stop offset=\"0.301587301587\" stop-color=\"rgb(1.56%,32.3%,18.1%)\" stop-opacity=\"1.0\"></stop><stop offset=\"0.31746031746\" stop-color=\"rgb(1.63%,34.1%,15%)\" stop-opacity=\"1.0\"></stop><stop offset=\"0.333333333333\" stop-color=\"rgb(1.73%,35.9%,11.7%)\" stop-opacity=\"1.0\"></stop><stop offset=\"0.349206349206\" stop-color=\"rgb(1.84%,37.6%,8.46%)\" stop-opacity=\"1.0\"></stop><stop offset=\"0.365079365079\" stop-color=\"rgb(1.91%,39.4%,5.93%)\" stop-opacity=\"1.0\"></stop><stop offset=\"0.380952380952\" stop-color=\"rgb(1.98%,41.1%,4.96%)\" stop-opacity=\"1.0\"></stop><stop offset=\"0.396825396825\" stop-color=\"rgb(2.04%,42.8%,3.13%)\" stop-opacity=\"1.0\"></stop><stop offset=\"0.412698412698\" stop-color=\"rgb(8.15%,44.4%,2.14%)\" stop-opacity=\"1.0\"></stop><stop offset=\"0.428571428571\" stop-color=\"rgb(15.5%,45.6%,2.19%)\" stop-opacity=\"1.0\"></stop><stop offset=\"0.444444444444\" stop-color=\"rgb(22.4%,46.7%,2.23%)\" stop-opacity=\"1.0\"></stop><stop offset=\"0.460317460317\" stop-color=\"rgb(29.3%,47.5%,2.29%)\" stop-opacity=\"1.0\"></stop><stop offset=\"0.47619047619\" stop-color=\"rgb(36.1%,48.1%,2.3%)\" stop-opacity=\"1.0\"></stop><stop offset=\"0.492063492063\" stop-color=\"rgb(42.8%,48.5%,2.34%)\" stop-opacity=\"1.0\"></stop><stop offset=\"0.507936507937\" stop-color=\"rgb(49.5%,48.6%,2.38%)\" stop-opacity=\"1.0\"></stop><stop offset=\"0.52380952381\" stop-color=\"rgb(57.1%,48.1%,2.74%)\" stop-opacity=\"1.0\"></stop><stop offset=\"0.539682539683\" stop-color=\"rgb(65.9%,46.6%,3.18%)\" stop-opacity=\"1.0\"></stop><stop offset=\"0.555555555556\" stop-color=\"rgb(75.9%,43.7%,3.64%)\" stop-opacity=\"1.0\"></stop><stop offset=\"0.571428571429\" stop-color=\"rgb(86.7%,38.8%,4.15%)\" stop-opacity=\"1.0\"></stop><stop offset=\"0.587301587302\" stop-color=\"rgb(95.7%,33.5%,9.29%)\" stop-opacity=\"1.0\"></stop><stop offset=\"0.603174603175\" stop-color=\"rgb(96.2%,36.5%,21.3%)\" stop-opacity=\"1.0\"></stop><stop offset=\"0.619047619048\" stop-color=\"rgb(96.5%,39.7%,27.3%)\" stop-opacity=\"1.0\"></stop><stop offset=\"0.634920634921\" stop-color=\"rgb(96.8%,42.7%,33.3%)\" stop-opacity=\"1.0\"></stop><stop offset=\"0.650793650794\" stop-color=\"rgb(97.2%,45.2%,42.4%)\" stop-opacity=\"1.0\"></stop><stop offset=\"0.666666666667\" stop-color=\"rgb(97.5%,47.5%,52.4%)\" stop-opacity=\"1.0\"></stop><stop offset=\"0.68253968254\" stop-color=\"rgb(97.6%,49.8%,62%)\" stop-opacity=\"1.0\"></stop><stop offset=\"0.698412698413\" stop-color=\"rgb(97.7%,51.9%,71%)\" stop-opacity=\"1.0\"></stop><stop offset=\"0.714285714286\" stop-color=\"rgb(97.8%,53.9%,79.2%)\" stop-opacity=\"1.0\"></stop><stop offset=\"0.730158730159\" stop-color=\"rgb(97.9%,56%,86.6%)\" stop-opacity=\"1.0\"></stop><stop offset=\"0.746031746032\" stop-color=\"rgb(98%,58.1%,93.1%)\" stop-opacity=\"1.0\"></stop><stop offset=\"0.761904761905\" stop-color=\"rgb(97.3%,60.8%,98.1%)\" stop-opacity=\"1.0\"></stop><stop offset=\"0.777777777778\" stop-color=\"rgb(93.3%,65.8%,98.4%)\" stop-opacity=\"1.0\"></stop><stop offset=\"0.793650793651\" stop-color=\"rgb(90.8%,69.7%,98.5%)\" stop-opacity=\"1.0\"></stop><stop offset=\"0.809523809524\" stop-color=\"rgb(89.5%,73%,98.7%)\" stop-opacity=\"1.0\"></stop><stop offset=\"0.825396825397\" stop-color=\"rgb(89%,75.8%,98.8%)\" stop-opacity=\"1.0\"></stop><stop offset=\"0.84126984127\" stop-color=\"rgb(89.2%,78.3%,99%)\" stop-opacity=\"1.0\"></stop><stop offset=\"0.857142857143\" stop-color=\"rgb(89.9%,80.6%,99.1%)\" stop-opacity=\"1.0\"></stop><stop offset=\"0.873015873016\" stop-color=\"rgb(90.9%,82.8%,99.2%)\" stop-opacity=\"1.0\"></stop><stop offset=\"0.888888888889\" stop-color=\"rgb(91.7%,85.1%,99.3%)\" stop-opacity=\"1.0\"></stop><stop offset=\"0.904761904762\" stop-color=\"rgb(92%,87.5%,99.4%)\" stop-opacity=\"1.0\"></stop><stop offset=\"0.920634920635\" stop-color=\"rgb(92.2%,89.9%,99.5%)\" stop-opacity=\"1.0\"></stop><stop offset=\"0.936507936508\" stop-color=\"rgb(92.4%,92.4%,99.6%)\" stop-opacity=\"1.0\"></stop><stop offset=\"0.952380952381\" stop-color=\"rgb(92.8%,94.7%,99.7%)\" stop-opacity=\"1.0\"></stop><stop offset=\"0.968253968254\" stop-color=\"rgb(93.8%,96.9%,99.7%)\" stop-opacity=\"1.0\"></stop><stop offset=\"0.984126984127\" stop-color=\"rgb(95.6%,98.9%,99.8%)\" stop-opacity=\"1.0\"></stop><stop offset=\"1.0\" stop-color=\"rgb(100%,100%,100%)\" stop-opacity=\"1.0\"></stop></linearGradient></defs><rect height=\"30\" style=\"fill:url(#t1c92d5d38eb045f68ad2d22481c927a0);stroke:rgb(82.7%,82.7%,82.7%);stroke-opacity:1.0;stroke-width:1.0\" width=\"286.0\" x=\"0.0\" y=\"-15.0\"></rect></g></g><g class=\"toyplot-axes-Axis\" id=\"ted009a9484a842f888ebdb87a8e26229\" transform=\"translate(16.0,293.0) rotate(-90.0) translate(0,5.0)\"><g><text dx=\"15px\" style=\"-toyplot-anchor-shift:15px;alignment-baseline:middle;baseline-shift:0%;font-size:10px;font-weight:normal;stroke:none;text-anchor:start\" transform=\"translate(0.0,0) rotate(90)\" x=\"0\" y=\"0\">0.00, (0, 0, 0)</text><text dx=\"15px\" style=\"-toyplot-anchor-shift:15px;alignment-baseline:middle;baseline-shift:0%;font-size:10px;font-weight:normal;stroke:none;text-anchor:start\" transform=\"translate(35.75,0) rotate(90)\" x=\"0\" y=\"0\">0.12, (44, 5, 103)</text><text dx=\"15px\" style=\"-toyplot-anchor-shift:15px;alignment-baseline:middle;baseline-shift:0%;font-size:10px;font-weight:normal;stroke:none;text-anchor:start\" transform=\"translate(71.5,0) rotate(90)\" x=\"0\" y=\"0\">0.25, (3, 67, 67)</text><text dx=\"15px\" style=\"-toyplot-anchor-shift:15px;alignment-baseline:middle;baseline-shift:0%;font-size:10px;font-weight:normal;stroke:none;text-anchor:start\" transform=\"translate(107.25,0) rotate(90)\" x=\"0\" y=\"0\">0.38, (5, 103, 13)</text><text dx=\"15px\" style=\"-toyplot-anchor-shift:15px;alignment-baseline:middle;baseline-shift:0%;font-size:10px;font-weight:normal;stroke:none;text-anchor:start\" transform=\"translate(143.0,0) rotate(90)\" x=\"0\" y=\"0\">0.50, (117, 124, 6)</text><text dx=\"15px\" style=\"-toyplot-anchor-shift:15px;alignment-baseline:middle;baseline-shift:0%;font-size:10px;font-weight:normal;stroke:none;text-anchor:start\" transform=\"translate(178.75,0) rotate(90)\" x=\"0\" y=\"0\">0.62, (246, 104, 74)</text><text dx=\"15px\" style=\"-toyplot-anchor-shift:15px;alignment-baseline:middle;baseline-shift:0%;font-size:10px;font-weight:normal;stroke:none;text-anchor:start\" transform=\"translate(214.5,0) rotate(90)\" x=\"0\" y=\"0\">0.75, (250, 149, 241)</text><text dx=\"15px\" style=\"-toyplot-anchor-shift:15px;alignment-baseline:middle;baseline-shift:0%;font-size:10px;font-weight:normal;stroke:none;text-anchor:start\" transform=\"translate(250.25,0) rotate(90)\" x=\"0\" y=\"0\">0.88, (232, 212, 253)</text><text dx=\"15px\" style=\"-toyplot-anchor-shift:15px;alignment-baseline:middle;baseline-shift:0%;font-size:10px;font-weight:normal;stroke:none;text-anchor:start\" transform=\"translate(286.0,0) rotate(90)\" x=\"0\" y=\"0\">1.00, (255, 255, 255)</text></g></g></g></svg><div class=\"toyplot-controls\"><ul class=\"toyplot-mark-popup\" onmouseleave=\"this.style.visibility='hidden'\" style=\"background:rgba(0%,0%,0%,0.75);border:0;border-radius:6px;color:white;cursor:default;list-style:none;margin:0;padding:5px;position:fixed;visibility:hidden\"><li class=\"toyplot-mark-popup-title\" style=\"color:lightgray;cursor:default;padding:5px;list-style:none;margin:0;\"></li><li class=\"toyplot-mark-popup-save-csv\" onmouseout=\"this.style.color='white';this.style.background='steelblue'\" onmouseover=\"this.style.color='steelblue';this.style.background='white'\" style=\"border-radius:3px;padding:5px;list-style:none;margin:0;\">Save as .csv</li></ul><script>\n",
       "(function()\n",
       "{\n",
       "  if(window.CSS !== undefined && window.CSS.supports !== undefined)\n",
       "  {\n",
       "    if(!window.CSS.supports(\"alignment-baseline\", \"middle\"))\n",
       "    {\n",
       "      var re = /\\s*alignment-baseline\\s*:\\s*([^;\\s]*)\\s*/;\n",
       "      var text = document.querySelectorAll(\"#t14cd64329028467fac1966d0eb27aac7 text\");\n",
       "      for(var i = 0; i != text.length; ++i)\n",
       "      {\n",
       "        var match = re.exec(text[i].attributes.style.value);\n",
       "        if(match)\n",
       "        {\n",
       "          if(match[1] == \"middle\")\n",
       "          {\n",
       "            var style = getComputedStyle(text[i]);\n",
       "            var font_size = style.fontSize.substr(0, style.fontSize.length - 2);\n",
       "            var dy = text[i].dy.baseVal.length ? text[i].dy.baseVal[0].value : 0;\n",
       "            dy += 0.4 * font_size;\n",
       "            text[i].setAttribute(\"dy\", dy);\n",
       "          }\n",
       "        }\n",
       "      }\n",
       "    }\n",
       "    if(!window.CSS.supports(\"baseline-shift\", \"0\"))\n",
       "    {\n",
       "      var re = /\\s*baseline-shift\\s*:\\s*([^;\\s]*)\\s*/;\n",
       "      var text = document.querySelectorAll(\"#t14cd64329028467fac1966d0eb27aac7 text\");\n",
       "      for(var i = 0; i != text.length; ++i)\n",
       "      {\n",
       "        var match = re.exec(text[i].attributes.style.value);\n",
       "        if(match)\n",
       "        {\n",
       "          var style = getComputedStyle(text[i]);\n",
       "          var font_size = style.fontSize.substr(0, style.fontSize.length - 2);\n",
       "          var percent = 0.01 * match[1].substr(0, match[1].length-1);\n",
       "          var dy = text[i].dy.baseVal.length ? text[i].dy.baseVal[0].value : 0;\n",
       "          dy -= percent * font_size\n",
       "          text[i].setAttribute(\"dy\", dy);\n",
       "        }\n",
       "      }\n",
       "    }\n",
       "  }\n",
       "})();\n",
       "</script></div></div>"
      ],
      "text/plain": [
       "<toyplot.canvas.Canvas at 0x108c9d090>"
      ]
     },
     "metadata": {},
     "output_type": "display_data"
    }
   ],
   "source": [
    "canvas = toyplot.Canvas(width=130, height=300)\n",
    "numberline = canvas.numberline(x1=16, x2=16, y1=-7, y2=7)\n",
    "numberline.padding = 5\n",
    "numberline.axis.spine.show = False\n",
    "numberline.colormap(colors_map,\n",
    "                    width=30,\n",
    "                    style={'stroke':'lightgrey'})\n",
    "\n",
    "control_point_labels = \\\n",
    "    control_points.apply(lambda row: '%1.2f, %s' % (row['scalar'],\n",
    "                                                  str(row['RGB'])),\n",
    "                       axis=1)\n",
    "numberline.axis.ticks.locator = \\\n",
    "    toyplot.locator.Explicit(locations=control_points['scalar'],\n",
    "                             labels=control_point_labels)\n",
    "numberline.axis.ticks.labels.angle = -90\n",
    "numberline.axis.ticks.labels.style = {'text-anchor':'start',\n",
    "                                      'baseline-shift':'0%',\n",
    "                                      '-toyplot-anchor-shift':'15px'}"
   ]
  },
  {
   "cell_type": "code",
   "execution_count": 12,
   "metadata": {
    "collapsed": false
   },
   "outputs": [],
   "source": [
    "toyplot.svg.render(canvas, 'extended-kindlmann.svg')"
   ]
  },
  {
   "cell_type": "markdown",
   "metadata": {},
   "source": [
    "## Color Table Files\n",
    "\n",
    "Create a color preset file for ParaView. Since ParaView 4.4, JSON files are supported, which makes it easy to export.\n",
    "\n",
    "We are going to use a few more points than the control points listed previously to better approximate the curve of the hue spiral."
   ]
  },
  {
   "cell_type": "code",
   "execution_count": 13,
   "metadata": {
    "collapsed": false
   },
   "outputs": [],
   "source": [
    "color_table = build_kindlmann_colors(\n",
    "    numpy.arange(start_hue, end_hue-0.0001, -30.0))\n",
    "\n",
    "RGBPoints = []\n",
    "for index in xrange(0, color_table.index.size):\n",
    "    RGBPoints.append(color_table['scalar'][index])\n",
    "    RGBPoints.extend(color_table['sRGB'][index])\n",
    "    \n",
    "#RGBPoints"
   ]
  },
  {
   "cell_type": "code",
   "execution_count": 14,
   "metadata": {
    "collapsed": false
   },
   "outputs": [],
   "source": [
    "import json\n",
    "\n",
    "file_descriptor = open('extended-kindlmann-paraview-colors.json', 'w')\n",
    "json.dump([{'ColorSpace':'Lab',\n",
    "            'Name':'Extended Kindlmann',\n",
    "            'NanColor':[0.0,0.5,1.0],\n",
    "            'RGBPoints':RGBPoints}],\n",
    "          file_descriptor,\n",
    "          indent=2)\n",
    "file_descriptor.close()"
   ]
  },
  {
   "cell_type": "markdown",
   "metadata": {},
   "source": [
    "Create several csv files containing color tables for this color map. We will create color tables of many different sizes from 8 rows to 1024. We also write out one set of csv files for \"upscaled\" color bytes (values 0-255) and another for floating point numbers (0-1)."
   ]
  },
  {
   "cell_type": "code",
   "execution_count": 15,
   "metadata": {
    "collapsed": false
   },
   "outputs": [],
   "source": [
    "for num_bits in xrange(3, 11):\n",
    "    table_length = 2 ** num_bits\n",
    "    color_table = build_kindlmann_colors(\n",
    "        numpy.linspace(start_hue, end_hue, num=table_length))\n",
    "    unzip_rgb_triple(color_table, 'RGB')\n",
    "    color_table.to_csv('extended-kindlmann-table-byte-{:04}.csv'.format(table_length),\n",
    "                       index=False,\n",
    "                       columns=['scalar', 'RGB_r', 'RGB_g', 'RGB_b'])\n",
    "    unzip_rgb_triple(color_table, 'sRGB')\n",
    "    color_table.to_csv('extended-kindlmann-table-float-{:04}.csv'.format(table_length),\n",
    "                       index=False,\n",
    "                       columns=['scalar', 'sRGB_r', 'sRGB_g', 'sRGB_b'],\n",
    "                       header=['scalar', 'RGB_r', 'RGB_g', 'RGB_b'])"
   ]
  },
  {
   "cell_type": "code",
   "execution_count": null,
   "metadata": {
    "collapsed": true
   },
   "outputs": [],
   "source": []
  }
 ],
 "metadata": {
  "kernelspec": {
   "display_name": "Python 2",
   "language": "python",
   "name": "python2"
  },
  "language_info": {
   "codemirror_mode": {
    "name": "ipython",
    "version": 2
   },
   "file_extension": ".py",
   "mimetype": "text/x-python",
   "name": "python",
   "nbconvert_exporter": "python",
   "pygments_lexer": "ipython2",
   "version": "2.7.11"
  }
 },
 "nbformat": 4,
 "nbformat_minor": 0
}
